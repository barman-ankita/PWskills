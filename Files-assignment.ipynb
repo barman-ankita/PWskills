{
  "metadata": {
    "kernelspec": {
      "name": "python",
      "display_name": "Python (Pyodide)",
      "language": "python"
    },
    "language_info": {
      "codemirror_mode": {
        "name": "python",
        "version": 3
      },
      "file_extension": ".py",
      "mimetype": "text/x-python",
      "name": "python",
      "nbconvert_exporter": "python",
      "pygments_lexer": "ipython3",
      "version": "3.8"
    }
  },
  "nbformat_minor": 5,
  "nbformat": 4,
  "cells": [
    {
      "id": "d9f772e6-16cd-4e52-a586-cc789c0fde44",
      "cell_type": "code",
      "source": "# Q.1) Difference between interpreted and compiled languages?\n# Ans:\n'''\nCompiled Language:\n    1.) Translated entire code to machine code before execution.\n    2.) Example: C, C++\n    3.) Faster execution, but needs compilation step.\nInterpreted Language:\n    1.) Translates and runs code line-by-line at runtime.\n    2.) Example: Python, JavaScript\n    3.) Slower, but easier to debug and test.\n'''",
      "metadata": {
        "trusted": true
      },
      "outputs": [
        {
          "execution_count": 8,
          "output_type": "execute_result",
          "data": {
            "text/plain": "'\\nCompiled Language:\\n    1.) Translated entire code to machine code before execution.\\n    2.) Example: C, C++\\n    3.) Faster execution, but needs compilation step.\\nInterpreted Language:\\n    1.) Translates and runs code line-by-line at runtime.\\n    2.) Example: Python, JavaScript\\n    3.) Slower, but easier to debug and test.\\n'"
          },
          "metadata": {}
        }
      ],
      "execution_count": 8
    },
    {
      "id": "5ee62543-7d64-4ad8-9904-e12a2b1f2f0a",
      "cell_type": "code",
      "source": "#",
      "metadata": {
        "trusted": true
      },
      "outputs": [],
      "execution_count": 9
    },
    {
      "id": "69bc5076-823a-4423-b6dc-dcbf39d3baa2",
      "cell_type": "code",
      "source": "# Q.2) What is exception handling in Python?\n# Ans: Exception handling in Python:\n\"\"\"\n    1.) Used to handle runtime errors (like divide by zero, file not found).\n    2.) Done using: try, except, else, finally blocks.\n    3.) Prevents program from crashing.\n    example:\n\"\"\"\ntry:\n    x = 10 / 0\nexcept ZeroDivisionError:\n    print(\"Cannot divide by zero\")\n",
      "metadata": {
        "trusted": true
      },
      "outputs": [
        {
          "name": "stdout",
          "output_type": "stream",
          "text": "Cannot divide by zero\n"
        }
      ],
      "execution_count": 10
    },
    {
      "id": "c9a0bf84-feb8-4dfe-9fca-f6ace2458634",
      "cell_type": "code",
      "source": "#",
      "metadata": {
        "trusted": true
      },
      "outputs": [],
      "execution_count": 11
    },
    {
      "id": "c75da31e-1418-44ad-9470-f91c286dc985",
      "cell_type": "code",
      "source": "# Q.3) What is the purpose of the finally block in exception handling?\n# Ans.\n\"\"\"\n    Always runs, whether exception occurs or not.\n    Used for cleanup actions (e.g., closing files, releasing resources).\n\"\"\"\n# example:\ntry:\n    x = 1 / 0\nexcept:\n    print(\"Error\")\nfinally:\n    print(\"This always runs\")\n",
      "metadata": {
        "trusted": true
      },
      "outputs": [
        {
          "name": "stdout",
          "output_type": "stream",
          "text": "Error\nThis always runs\n"
        }
      ],
      "execution_count": 13
    },
    {
      "id": "bb1fb7aa-19af-4e69-8c6e-7b3d5d0cbaf3",
      "cell_type": "code",
      "source": "#",
      "metadata": {
        "trusted": true
      },
      "outputs": [],
      "execution_count": 14
    },
    {
      "id": "d910ed86-db9b-4f30-93ff-0d3e6f584898",
      "cell_type": "code",
      "source": "# Q.4) What is logging in Python?\n# Ans. Logging in Python:\n\"\"\"\n    1.) Used to record messages (info, warnings, errors) during program execution.\n    2.) Helps in debugging and monitoring.\n\"\"\"\n# example:\nimport logging\nlogging.warning(\"This is a warning\")",
      "metadata": {
        "trusted": true
      },
      "outputs": [
        {
          "name": "stderr",
          "output_type": "stream",
          "text": "WARNING:root:This is a warning\n"
        }
      ],
      "execution_count": 17
    },
    {
      "id": "922b3a9e-ad66-45cd-b481-b694f26ce7d8",
      "cell_type": "code",
      "source": "#",
      "metadata": {
        "trusted": true
      },
      "outputs": [],
      "execution_count": 18
    },
    {
      "id": "c365563d-9e8d-4fd1-84b2-85eeb3ff72b2",
      "cell_type": "code",
      "source": "# Q.5) What is the significance of the __del__ method in Python?\n# Ans. \n\"\"\"\n    1.) It is a destructor method.\n    2.) Called automatically when an object is deleted or garbage collected.\n    3.) Used to clean up resources (like closing files).\n\"\"\"\n# example:\nclass Demo:\n    def __del__(self):\n        print(\"Object destroyed\")",
      "metadata": {
        "trusted": true
      },
      "outputs": [],
      "execution_count": 20
    },
    {
      "id": "009eb081-adc2-4f28-a0b4-23377919dc5c",
      "cell_type": "code",
      "source": "#",
      "metadata": {
        "trusted": true
      },
      "outputs": [],
      "execution_count": 21
    },
    {
      "id": "723d9d33-cb6c-46a1-b6c9-e36fc7018220",
      "cell_type": "code",
      "source": "# Q.6) What is the difference between import and from ... import in Python?\n# Ans.\n\"\"\"\nimport module:\n    1.) Imports the whole module.\n    2.) Use with prefix: module.function()\nfrom module import function:\n    1.) Imports specific item(s).\n    2.) Use directly: function()\n\"\"\"\n# example:\nimport math\nprint(math.sqrt(4))\n\nfrom math import sqrt\nprint(sqrt(4))\n",
      "metadata": {
        "trusted": true
      },
      "outputs": [
        {
          "name": "stdout",
          "output_type": "stream",
          "text": "2.0\n2.0\n"
        }
      ],
      "execution_count": 24
    },
    {
      "id": "6d551d7c-c775-4763-b553-e1123b5e4ba0",
      "cell_type": "code",
      "source": "#",
      "metadata": {
        "trusted": true
      },
      "outputs": [],
      "execution_count": 25
    },
    {
      "id": "5b684466-36c0-4418-ab90-f040e0a5a95c",
      "cell_type": "code",
      "source": "# Q.7) How can you handle multiple exceptions in Python?\n# Ans. Handling multiple exceptions in Python:\n# 1.) Multiple except blocks:\ntry:\n    x = int(\"abc\")\nexcept ValueError:\n    print(\"Value error\")\nexcept ZeroDivisionError:\n    print(\"Division error\")\n\n# 2.) Single except with tuple:\ntry:\n    x = int(\"abc\")\nexcept (ValueError, ZeroDivisionError):\n    print(\"Handled multiple exceptions\")\n",
      "metadata": {
        "trusted": true
      },
      "outputs": [
        {
          "name": "stdout",
          "output_type": "stream",
          "text": "Value error\nHandled multiple exceptions\n"
        }
      ],
      "execution_count": 28
    },
    {
      "id": "1751e4ca-8c7b-4eda-95c8-7e50754a2da6",
      "cell_type": "code",
      "source": "#",
      "metadata": {
        "trusted": true
      },
      "outputs": [],
      "execution_count": 29
    },
    {
      "id": "0589ae20-87f8-4380-b37d-78d2dda8b804",
      "cell_type": "code",
      "source": "# Q.8) What is the purpose of the with statement when handling files in Python?\n# Ans. Purpose of with statement in file handling:\n'''\n    1.) Simplifies file handling and auto-closes the file.\n    2.) Avoids need for file.close().\n'''\n# example:\ndef OpenFile():\n    with open(\"file.txt\", \"r\") as f:\n        data = f.read()\n# file is automatically closed here",
      "metadata": {
        "trusted": true
      },
      "outputs": [],
      "execution_count": 32
    },
    {
      "id": "d7b09753-6483-49f5-9209-bcc13948a58f",
      "cell_type": "code",
      "source": "#",
      "metadata": {
        "trusted": true
      },
      "outputs": [],
      "execution_count": 33
    },
    {
      "id": "277eb30a-b6f5-41c4-a987-5c7e6e8a5456",
      "cell_type": "code",
      "source": "# Q.9) What is the difference between multithreading and multiprocessing?\n# Ans. Difference between multithreading and multiprocessing:\n'''\n1.) Multithreading:\n    - Multiple threads, share same memory.\n    - Good for I/O-bound tasks (e.g., file read/write).\n2.) Multiprocessing:\n    - Multiple processes, separate memory.\n    - Better for CPU-bound tasks (e.g., heavy computation).\n'''",
      "metadata": {
        "trusted": true
      },
      "outputs": [
        {
          "execution_count": 34,
          "output_type": "execute_result",
          "data": {
            "text/plain": "'\\n1.) Multithreading:\\n    - Multiple threads, share same memory.\\n    - Good for I/O-bound tasks (e.g., file read/write).\\n2.) Multiprocessing:\\n    - Multiple processes, separate memory.\\n    - Better for CPU-bound tasks (e.g., heavy computation).\\n'"
          },
          "metadata": {}
        }
      ],
      "execution_count": 34
    },
    {
      "id": "969b27ec-505d-4edb-b6ec-90a83c174809",
      "cell_type": "code",
      "source": "#",
      "metadata": {
        "trusted": true
      },
      "outputs": [],
      "execution_count": 35
    },
    {
      "id": "b612aad6-41b1-4522-926e-ff6564e507cc",
      "cell_type": "code",
      "source": "# Q.10) What are the advantages of using logging in a program?\n# Ans. Advantages of using logging in a program:\n\"\"\"\n    1.) Tracks events during execution.\n    2.) Helps in debugging and error diagnosis.\n    3.) Allows different log levels (info, warning, error, etc.).\n    4.) Logs can be saved to files for later analysis.\n    5.) More flexible than print() statements.\n\"\"\"",
      "metadata": {
        "trusted": true
      },
      "outputs": [
        {
          "execution_count": 36,
          "output_type": "execute_result",
          "data": {
            "text/plain": "'\\n    1.) Tracks events during execution.\\n    2.) Helps in debugging and error diagnosis.\\n    3.) Allows different log levels (info, warning, error, etc.).\\n    4.) Logs can be saved to files for later analysis.\\n    5.) More flexible than print() statements.\\n'"
          },
          "metadata": {}
        }
      ],
      "execution_count": 36
    },
    {
      "id": "c434a222-a471-488b-a419-2c2fb56916c2",
      "cell_type": "code",
      "source": "#",
      "metadata": {
        "trusted": true
      },
      "outputs": [],
      "execution_count": 37
    },
    {
      "id": "60f1f5d4-aa00-46a6-bc7a-9833be3a122a",
      "cell_type": "code",
      "source": "# Q.11) What is memory management in Python?\n# Ans.\n'''\nMemory management in Python:\n    1. Automatic via Garbage Collector.\n    2. Uses reference counting + cycle detection.\n    3. Python objects stored in private heap.\n    4. Managed by Python's memory manager (internally).\n\n'''",
      "metadata": {
        "trusted": true
      },
      "outputs": [
        {
          "execution_count": 39,
          "output_type": "execute_result",
          "data": {
            "text/plain": "\"\\nMemory management in Python:\\n    1. Automatic via Garbage Collector.\\n    2. Uses reference counting + cycle detection.\\n    3. Python objects stored in private heap.\\n    4. Managed by Python's memory manager (internally).\\n\\n\""
          },
          "metadata": {}
        }
      ],
      "execution_count": 39
    },
    {
      "id": "6b47b963-3a19-41f4-a576-2bc3fad5cc32",
      "cell_type": "code",
      "source": "#",
      "metadata": {
        "trusted": true
      },
      "outputs": [],
      "execution_count": 40
    },
    {
      "id": "1c274204-d1bd-49e2-9d2f-fde16a333975",
      "cell_type": "code",
      "source": "# Q.12) What are the basic steps involved in exception handling in Python?\n# Ans. Basic steps in exception handling in Python:\n'''\n    1.) Try: Write code that may raise an exception.\n    2.) Except: Handle the exception.\n    3.) (Optional) Else: Run if no exception occurs.\n    4.) (Optional) Finally: Run always (cleanup code).\n'''",
      "metadata": {
        "trusted": true
      },
      "outputs": [
        {
          "execution_count": 42,
          "output_type": "execute_result",
          "data": {
            "text/plain": "'\\n    1.) Try: Write code that may raise an exception.\\n    2.) Except: Handle the exception.\\n    3.) (Optional) Else: Run if no exception occurs.\\n    4.) (Optional) Finally: Run always (cleanup code).\\n'"
          },
          "metadata": {}
        }
      ],
      "execution_count": 42
    },
    {
      "id": "584f6723-7234-4b8f-8c18-a75215a6c3df",
      "cell_type": "code",
      "source": "#",
      "metadata": {
        "trusted": true
      },
      "outputs": [],
      "execution_count": 43
    },
    {
      "id": "0004d206-dcd1-4c74-b8d6-474c0c28e821",
      "cell_type": "code",
      "source": "# Q.13) Why is memory management important in Python?\n# Ans. Why memory management is important in Python:\n'''\n    1.) Prevents memory leaks and excessive usage.\n    2.) Ensures efficient allocation and deallocation of memory.\n    3.) Keeps the program fast and stable.\n    4.) Helps automatic cleanup of unused objects.\n'''",
      "metadata": {
        "trusted": true
      },
      "outputs": [
        {
          "execution_count": 44,
          "output_type": "execute_result",
          "data": {
            "text/plain": "'\\n    1.) Prevents memory leaks and excessive usage.\\n    2.) Ensures efficient allocation and deallocation of memory.\\n    3.) Keeps the program fast and stable.\\n    4.) Helps automatic cleanup of unused objects.\\n'"
          },
          "metadata": {}
        }
      ],
      "execution_count": 44
    },
    {
      "id": "ed7e9344-01f8-436e-b327-87c76b0ad22b",
      "cell_type": "code",
      "source": "#",
      "metadata": {
        "trusted": true
      },
      "outputs": [],
      "execution_count": 45
    },
    {
      "id": "613257ca-5e93-4ac7-9c9c-c2c5c5237824",
      "cell_type": "code",
      "source": "# Q.14) What is the role of try and except in exception handling?\n# Ans. Role of try and except in exception handling:\n'''\n    1.) try: Contains code that might raise an exception.\n    2.) except: Catches and handles the exception to prevent program crash.\n'''\n# example:\ntry:\n    x = 1 / 0\nexcept ZeroDivisionError:\n    print(\"Cannot divide by zero\")",
      "metadata": {
        "trusted": true
      },
      "outputs": [
        {
          "name": "stdout",
          "output_type": "stream",
          "text": "Cannot divide by zero\n"
        }
      ],
      "execution_count": 46
    },
    {
      "id": "2896d237-6ec5-4c15-b33c-91a1df97e256",
      "cell_type": "code",
      "source": "#",
      "metadata": {
        "trusted": true
      },
      "outputs": [],
      "execution_count": 47
    },
    {
      "id": "23320137-53f4-4cb8-b51b-c7bef2cfc799",
      "cell_type": "code",
      "source": "# Q.15) How does Python's garbage collection system work?\n# Ans. Python's garbage collection system:\n'''\n    1.) Uses reference counting to track object usage.\n    2.) When reference count drops to zero, object is immediately freed.\n    3.) Uses cycle detector to find and clean reference cycles (objects referring to each other).\n    4.) Runs automatically in the background.\n'''",
      "metadata": {
        "trusted": true
      },
      "outputs": [
        {
          "execution_count": 49,
          "output_type": "execute_result",
          "data": {
            "text/plain": "'\\n    1.) Uses reference counting to track object usage.\\n    2.) When reference count drops to zero, object is immediately freed.\\n    3.) Uses cycle detector to find and clean reference cycles (objects referring to each other).\\n    4.) Runs automatically in the background.\\n'"
          },
          "metadata": {}
        }
      ],
      "execution_count": 49
    },
    {
      "id": "7675f017-f03d-4166-beb4-0a8bb6af5a11",
      "cell_type": "code",
      "source": "#",
      "metadata": {
        "trusted": true
      },
      "outputs": [],
      "execution_count": 50
    },
    {
      "id": "62a70f7a-3475-4215-ac56-841ff1e2b3e7",
      "cell_type": "code",
      "source": "# Q.16) What is the purpose of the else block in exception handling?\n# Ans. Purpose of else block in exception handling:\n'''\n    1.) Runs only if no exception occurs in the try block.\n    2.) Used to place code that should run when everything is successful.\n'''\ntry:\n    x = 10 / 2\nexcept ZeroDivisionError:\n    print(\"Error\")\nelse:\n    print(\"No errors, result is\", x)\n",
      "metadata": {
        "trusted": true
      },
      "outputs": [
        {
          "name": "stdout",
          "output_type": "stream",
          "text": "No errors, result is 5.0\n"
        }
      ],
      "execution_count": 51
    },
    {
      "id": "6f72e063-cb96-4ae4-bd24-8074f224a80c",
      "cell_type": "code",
      "source": "#",
      "metadata": {
        "trusted": true
      },
      "outputs": [],
      "execution_count": 52
    },
    {
      "id": "ae5e39bf-2c54-4fa1-b666-5cc9dc70a72c",
      "cell_type": "code",
      "source": "# Q.17) What are the common logging levels in Python?\n# Ans. Common logging levels in Python:\n'''\n    1.) DEBUG — Detailed diagnostic information.\n    2.) INFO — Confirmation that things are working as expected.\n    3.) WARNING — An indication of a potential problem.\n    4.) ERROR — A serious problem that caused a failure in a part of the program.\n    5.) CRITICAL — A very serious error, causing program to stop.\n'''",
      "metadata": {
        "trusted": true
      },
      "outputs": [
        {
          "execution_count": 54,
          "output_type": "execute_result",
          "data": {
            "text/plain": "'\\n    1.) DEBUG — Detailed diagnostic information.\\n    2.) INFO — Confirmation that things are working as expected.\\n    3.) WARNING — An indication of a potential problem.\\n    4.) ERROR — A serious problem that caused a failure in a part of the program.\\n    5.) CRITICAL — A very serious error, causing program to stop.\\n'"
          },
          "metadata": {}
        }
      ],
      "execution_count": 54
    },
    {
      "id": "2f0c4e76-2638-4af3-8f89-b06e50212d7b",
      "cell_type": "code",
      "source": "#",
      "metadata": {
        "trusted": true
      },
      "outputs": [],
      "execution_count": 55
    },
    {
      "id": "eae79c20-1c68-4b86-bbbc-ee514cb8b3b4",
      "cell_type": "code",
      "source": "# Q.18) What is the difference between os.fork() and multiprocessing in Python?\n# Ans. Difference between os.fork() and multiprocessing in Python:\n'''\n1.) os.fork():\n    - Creates a child process by duplicating the current process (Unix only).\n    - Low-level, manual process management.\n    - Shares the same code and memory initially but separate after fork.\n\n2.) multiprocessing module:\n    - High-level API for creating and managing multiple processes.\n    - Works on Unix and Windows.\n    - Provides easier inter-process communication and process control. \n'''",
      "metadata": {
        "trusted": true
      },
      "outputs": [
        {
          "execution_count": 56,
          "output_type": "execute_result",
          "data": {
            "text/plain": "'\\n1.) os.fork():\\n    - Creates a child process by duplicating the current process (Unix only).\\n    - Low-level, manual process management.\\n    - Shares the same code and memory initially but separate after fork.\\n\\n2.) multiprocessing module:\\n    - High-level API for creating and managing multiple processes.\\n    - Works on Unix and Windows.\\n    - Provides easier inter-process communication and process control. \\n'"
          },
          "metadata": {}
        }
      ],
      "execution_count": 56
    },
    {
      "id": "22e19fd7-fc3c-4de7-8fdb-94c7899addd9",
      "cell_type": "code",
      "source": "#",
      "metadata": {
        "trusted": true
      },
      "outputs": [],
      "execution_count": 57
    },
    {
      "id": "4e23980c-dba8-4476-9a39-9f2dbbdac171",
      "cell_type": "code",
      "source": "# Q.19) What is the importance of closing a file in Python?\n# Ans. Importance of closing a file in Python:\n'''\n    1.) Frees system resources (like file handles).\n    2.) Ensures data is properly written (flushed) to disk.\n    3.) Prevents data corruption and file access issues.\n    4.) Avoids reaching the limit on open files.\n'''",
      "metadata": {
        "trusted": true
      },
      "outputs": [
        {
          "execution_count": 58,
          "output_type": "execute_result",
          "data": {
            "text/plain": "'\\n    1.) Frees system resources (like file handles).\\n    2.) Ensures data is properly written (flushed) to disk.\\n    3.) Prevents data corruption and file access issues.\\n    4.) Avoids reaching the limit on open files.\\n'"
          },
          "metadata": {}
        }
      ],
      "execution_count": 58
    },
    {
      "id": "54af20a2-e956-4ce3-a040-0fa38ba26826",
      "cell_type": "code",
      "source": "#",
      "metadata": {
        "trusted": true
      },
      "outputs": [],
      "execution_count": 59
    },
    {
      "id": "2146a042-b449-4da6-908b-ca31f8c6d3bd",
      "cell_type": "code",
      "source": "# Q.20) What is the difference between file.read() and file.readline() in Python?\n# Ans. Difference between file.read() and file.readline() in Python:\n'''\n1.) file.read():\n    - Reads entire content of the file (or specified bytes).\n2.) file.readline():\n    - Reads one line from the file at a time.\n'''",
      "metadata": {
        "trusted": true
      },
      "outputs": [
        {
          "execution_count": 60,
          "output_type": "execute_result",
          "data": {
            "text/plain": "'\\n1.) file.read():\\n    - Reads entire content of the file (or specified bytes).\\n2.) file.readline():\\n    - Reads one line from the file at a time.\\n'"
          },
          "metadata": {}
        }
      ],
      "execution_count": 60
    },
    {
      "id": "5066c3a2-07ab-4fb2-932b-656d6e3ea10d",
      "cell_type": "code",
      "source": "#",
      "metadata": {
        "trusted": true
      },
      "outputs": [],
      "execution_count": 61
    },
    {
      "id": "0763aab3-02be-4868-87fc-38f17ed24c7c",
      "cell_type": "code",
      "source": "# Q.21) What is the logging module in Python used for?\n# Ans. logging module in Python:\n'''\n    1.) Provides a flexible framework for emitting log messages.\n    2.) Helps track events, errors, and status during program execution.\n    3.) Supports different log levels and output formats (console, files, etc.).\n'''",
      "metadata": {
        "trusted": true
      },
      "outputs": [
        {
          "execution_count": 62,
          "output_type": "execute_result",
          "data": {
            "text/plain": "'\\n    1.) Provides a flexible framework for emitting log messages.\\n    2.) Helps track events, errors, and status during program execution.\\n    3.) Supports different log levels and output formats (console, files, etc.).\\n'"
          },
          "metadata": {}
        }
      ],
      "execution_count": 62
    },
    {
      "id": "920e041f-daf5-437a-a988-a67679b6a648",
      "cell_type": "code",
      "source": "#",
      "metadata": {
        "trusted": true
      },
      "outputs": [],
      "execution_count": 63
    },
    {
      "id": "207a999f-abd3-4439-b336-d1c1e8751a93",
      "cell_type": "code",
      "source": "# Q.22) What is the os module in Python used for in file handling?\n# Ans. os module in Python for file handling:\n'''\n1.) Provides functions to interact with the operating system.\n2.) Used for file and directory operations like:\n    - Creating, removing, renaming files/folders\n    - Checking file existence and properties\n    - Working with file paths\n'''\n# example:\nimport os\ndef renameOS():\n    os.rename('old.txt', 'new.txt')",
      "metadata": {
        "trusted": true
      },
      "outputs": [],
      "execution_count": 68
    },
    {
      "id": "137f740f-4519-4cdd-8d0e-7a92eff41b36",
      "cell_type": "code",
      "source": "#",
      "metadata": {
        "trusted": true
      },
      "outputs": [],
      "execution_count": 66
    },
    {
      "id": "ef624b33-bb8b-4615-b0c7-7d4d619e9d9e",
      "cell_type": "code",
      "source": "# Q.23) What are the challenges associated with memory management in Python?\n# Ans. \n'''\n    1.) Automatic memory management can cause overhead.\n    2.) Garbage collection may lead to unpredictable delays.\n    3.) Reference cycles can cause memory leaks.\n    4.) Managing large objects inefficiently.\n    5.) Limited control over memory allocation.\n'''",
      "metadata": {
        "trusted": true
      },
      "outputs": [
        {
          "execution_count": 69,
          "output_type": "execute_result",
          "data": {
            "text/plain": "'\\n    1.) Automatic memory management can cause overhead.\\n    2.) Garbage collection may lead to unpredictable delays.\\n    3.) Reference cycles can cause memory leaks.\\n    4.) Managing large objects inefficiently.\\n    5.) Limited control over memory allocation.\\n'"
          },
          "metadata": {}
        }
      ],
      "execution_count": 69
    },
    {
      "id": "e04bdd0a-9a53-4485-b1ac-69502f221328",
      "cell_type": "code",
      "source": "#",
      "metadata": {
        "trusted": true
      },
      "outputs": [],
      "execution_count": 70
    },
    {
      "id": "bbee59a3-6928-44b4-ac72-e1699fb81fc5",
      "cell_type": "code",
      "source": "# Q.24.)How do you raise an exception manually in Python?\n# Ans. Use the raise statement with an exception class: \nraise ValueError(\"Invalid input\")",
      "metadata": {
        "trusted": true
      },
      "outputs": [
        {
          "ename": "<class 'ValueError'>",
          "evalue": "Invalid input",
          "traceback": [
            "\u001b[0;31m---------------------------------------------------------------------------\u001b[0m",
            "\u001b[0;31mValueError\u001b[0m                                Traceback (most recent call last)",
            "Cell \u001b[0;32mIn[72], line 3\u001b[0m\n\u001b[1;32m      1\u001b[0m \u001b[38;5;66;03m# Q.24.)How do you raise an exception manually in Python?\u001b[39;00m\n\u001b[1;32m      2\u001b[0m \u001b[38;5;66;03m# Ans. Use the raise statement with an exception class: \u001b[39;00m\n\u001b[0;32m----> 3\u001b[0m \u001b[38;5;28;01mraise\u001b[39;00m \u001b[38;5;167;01mValueError\u001b[39;00m(\u001b[38;5;124m\"\u001b[39m\u001b[38;5;124mInvalid input\u001b[39m\u001b[38;5;124m\"\u001b[39m)\n",
            "\u001b[0;31mValueError\u001b[0m: Invalid input"
          ],
          "output_type": "error"
        }
      ],
      "execution_count": 72
    },
    {
      "id": "36d275e1-e9f3-4ef4-925f-d02601291a38",
      "cell_type": "code",
      "source": "# Q.25) Why is it important to use multithreading in certain applications?\n# Ans. To improve performance by:\n'''\n    - Running tasks concurrently.\n    - Making better use of CPU idle time (e.g., during I/O).\n    - Enhancing responsiveness in applications like GUIs or servers.\n'''",
      "metadata": {
        "trusted": true
      },
      "outputs": [
        {
          "execution_count": 74,
          "output_type": "execute_result",
          "data": {
            "text/plain": "'\\n    - Running tasks concurrently.\\n    - Making better use of CPU idle time (e.g., during I/O).\\n    - Enhancing responsiveness in applications like GUIs or servers.\\n'"
          },
          "metadata": {}
        }
      ],
      "execution_count": 74
    },
    {
      "id": "b673f71d-8b08-4a1e-97a2-64772929c09d",
      "cell_type": "code",
      "source": "# PRACTICAL QUESTIONS",
      "metadata": {
        "trusted": true
      },
      "outputs": [],
      "execution_count": 76
    },
    {
      "id": "35fcb35e-026d-45d1-8262-956524ccfc34",
      "cell_type": "code",
      "source": "",
      "metadata": {
        "trusted": true
      },
      "outputs": [],
      "execution_count": null
    },
    {
      "id": "39a36e1b-4501-4949-b3a1-af6be109b104",
      "cell_type": "code",
      "source": "# Q.1) How can you open a file for writing in Python and write a string to it?\n# Ans. Use the open() function with write mode 'w':\ndef WriteFile():\n    with open(\"file.txt\", \"w\") as f:\n        f.write(\"Hello, world!\")",
      "metadata": {
        "trusted": true
      },
      "outputs": [],
      "execution_count": 78
    },
    {
      "id": "61cb0631-3e13-41b9-83ff-25bfa64a49a8",
      "cell_type": "code",
      "source": "#",
      "metadata": {
        "trusted": true
      },
      "outputs": [],
      "execution_count": 79
    },
    {
      "id": "adfc77b2-9622-49b8-a687-3e4d40acd192",
      "cell_type": "code",
      "source": "# Q.2) Write a Python program to read the contents of a file and print each line?\n# Ans. \ndef readFile():\n    with open(\"file.txt\", \"r\") as f:\n        for line in f:\n            print(line, end='')",
      "metadata": {
        "trusted": true
      },
      "outputs": [],
      "execution_count": 81
    },
    {
      "id": "bb3c97e2-5974-4d73-badc-eb810acb5ac2",
      "cell_type": "code",
      "source": "#",
      "metadata": {
        "trusted": true
      },
      "outputs": [],
      "execution_count": 82
    },
    {
      "id": "bee81a9a-8986-49c6-826e-b8260003e06d",
      "cell_type": "code",
      "source": "# Q.3) How would you handle a case where the file doesn't exist while trying to open it for reading?\n# Ans.\ntry:\n    with open(\"file.txt\", \"r\") as f:\n        print(f.read())\nexcept FileNotFoundError:\n    print(\"File not found.\")\n",
      "metadata": {
        "trusted": true
      },
      "outputs": [
        {
          "name": "stdout",
          "output_type": "stream",
          "text": "File not found.\n"
        }
      ],
      "execution_count": 83
    },
    {
      "id": "7410bc0a-fd81-4d31-9877-cd7f9af8d317",
      "cell_type": "code",
      "source": "#",
      "metadata": {
        "trusted": true
      },
      "outputs": [],
      "execution_count": 84
    },
    {
      "id": "e64e11c4-9926-4c48-8631-32c9d78c6627",
      "cell_type": "code",
      "source": "# Q.4) Write a Python script that reads from one file and writes its content to another file?\n# Ans.\ndef readAndWrite():\n    with open(\"source.txt\", \"r\") as src, open(\"destination.txt\", \"w\") as dest:\n        for line in src:\n            dest.write(line)",
      "metadata": {
        "trusted": true
      },
      "outputs": [],
      "execution_count": 85
    },
    {
      "id": "0dac1a18-7fc4-4a87-809a-a9356eec2487",
      "cell_type": "code",
      "source": "#",
      "metadata": {
        "trusted": true
      },
      "outputs": [],
      "execution_count": 86
    },
    {
      "id": "b2bb9584-ab8a-45e1-bb05-e39b721244e5",
      "cell_type": "code",
      "source": "# Q.5) How would you catch and handle division by zero error in Python?\n# Ans. Use try-except to catch ZeroDivisionError:\ntry:\n    result = 10 / 0\nexcept ZeroDivisionError:\n    print(\"Cannot divide by zero.\")",
      "metadata": {
        "trusted": true
      },
      "outputs": [
        {
          "name": "stdout",
          "output_type": "stream",
          "text": "Cannot divide by zero.\n"
        }
      ],
      "execution_count": 88
    },
    {
      "id": "c9aae1b0-4963-4ae6-8432-125008ec9b3b",
      "cell_type": "code",
      "source": "#",
      "metadata": {
        "trusted": true
      },
      "outputs": [],
      "execution_count": 89
    },
    {
      "id": "c8eaa607-5ffc-4f48-ac5a-519f20dc10c7",
      "cell_type": "code",
      "source": "# Q.6) Write a Python program that logs an error message to a log file when a division by zero exception occurs?\n# Ans. \nimport logging\n\nlogging.basicConfig(filename=\"error.log\", level=logging.ERROR)\n\ntry:\n    result = 10 / 0\nexcept ZeroDivisionError as e:\n    logging.error(\"Division by zero error: %s\", e)",
      "metadata": {
        "trusted": true
      },
      "outputs": [
        {
          "name": "stderr",
          "output_type": "stream",
          "text": "ERROR:root:Division by zero error: division by zero\n"
        }
      ],
      "execution_count": 90
    },
    {
      "id": "91d8d9e4-3acd-457c-b2c6-4f84c4c3a12f",
      "cell_type": "code",
      "source": "#",
      "metadata": {
        "trusted": true
      },
      "outputs": [],
      "execution_count": 91
    },
    {
      "id": "ddf87d13-7915-463c-b6b0-f6cf149f902c",
      "cell_type": "code",
      "source": "# Q.7) How do you log information at different levels (INFO, ERROR, WARNING) in Python using the logging module?\n# Ans. \nimport logging\n\nlogging.basicConfig(level=logging.DEBUG)\n\nlogging.info(\"This is an info message.\")\nlogging.warning(\"This is a warning message.\")\nlogging.error(\"This is an error message.\")\n",
      "metadata": {
        "trusted": true
      },
      "outputs": [
        {
          "name": "stderr",
          "output_type": "stream",
          "text": "WARNING:root:This is a warning message.\nERROR:root:This is an error message.\n"
        }
      ],
      "execution_count": 93
    },
    {
      "id": "d8eb44ae-5bcb-4d93-b141-651a3eee2abc",
      "cell_type": "code",
      "source": "#",
      "metadata": {
        "trusted": true
      },
      "outputs": [],
      "execution_count": 94
    },
    {
      "id": "0a5af49b-0eaa-44bd-9951-c018f8be0779",
      "cell_type": "code",
      "source": "# Q.8) Write a program to handle a file opening error using exception handling?\n# Ans. \ntry:\n    with open(\"nonexistent.txt\", \"r\") as f:\n        content = f.read()\nexcept FileNotFoundError:\n    print(\"Error: File not found.\")\n",
      "metadata": {
        "trusted": true
      },
      "outputs": [
        {
          "name": "stdout",
          "output_type": "stream",
          "text": "Error: File not found.\n"
        }
      ],
      "execution_count": 96
    },
    {
      "id": "d0491840-13e7-448e-82af-13ed9aaa1fd0",
      "cell_type": "code",
      "source": "#",
      "metadata": {
        "trusted": true
      },
      "outputs": [],
      "execution_count": 97
    },
    {
      "id": "917d4cd1-91e9-42e8-8f15-a24f93d9b0e2",
      "cell_type": "code",
      "source": "# Q.9) How can you read a file line by line and store its content in a list in Python?\n# Ans. \ndef readLines():\n    with open(\"file.txt\", \"r\") as f:\n        lines = f.readlines()",
      "metadata": {
        "trusted": true
      },
      "outputs": [],
      "execution_count": 99
    },
    {
      "id": "63cc8e65-6cb1-494e-8c57-faf8998de94f",
      "cell_type": "code",
      "source": "#",
      "metadata": {
        "trusted": true
      },
      "outputs": [],
      "execution_count": 100
    },
    {
      "id": "d9064a76-87e9-412d-9132-6d86991e0aeb",
      "cell_type": "code",
      "source": "# Q.10) How can you append data to an existing file in Python?\n# Ans.\ndef appendData():\n    with open(\"file.txt\", \"a\") as f:\n        f.write(\"New data\\n\")",
      "metadata": {
        "trusted": true
      },
      "outputs": [],
      "execution_count": 102
    },
    {
      "id": "0af966d7-2521-43c8-82ee-1b149bbb044b",
      "cell_type": "code",
      "source": "#",
      "metadata": {
        "trusted": true
      },
      "outputs": [],
      "execution_count": 103
    },
    {
      "id": "65da9894-e449-4edf-be10-945ac2c25d67",
      "cell_type": "code",
      "source": "# Q.11) Write a Python program that uses a try-except block to handle an error when attempting to access a dictionary key that doesn't exist?\n# Ans.\nmy_dict = {\"a\": 1, \"b\": 2}\n\ntry:\n    value = my_dict[\"c\"]\nexcept KeyError:\n    print(\"Key not found.\")",
      "metadata": {
        "trusted": true
      },
      "outputs": [
        {
          "name": "stdout",
          "output_type": "stream",
          "text": "Key not found.\n"
        }
      ],
      "execution_count": 104
    },
    {
      "id": "9269b896-3be6-444f-b529-b58b09c6ca1f",
      "cell_type": "code",
      "source": "#",
      "metadata": {
        "trusted": true
      },
      "outputs": [],
      "execution_count": 105
    },
    {
      "id": "0a610e05-4eb5-4cef-ab51-b2e8225c0e86",
      "cell_type": "code",
      "source": "# Q.12) Write a program that demonstrates using multiple except blocks to handle different types of exceptions?\n# Ans. \ntry:\n    x = int(input(\"Enter a number: \"))\n    y = 10 / x\nexcept ValueError:\n    print(\"Invalid input. Please enter a number.\")\nexcept ZeroDivisionError:\n    print(\"Cannot divide by zero.\")\n",
      "metadata": {
        "trusted": true
      },
      "outputs": [
        {
          "output_type": "stream",
          "name": "stdin",
          "text": "Enter a number:  5\n"
        }
      ],
      "execution_count": 106
    },
    {
      "id": "2bc037f4-0940-48cb-93da-ac5e310b1097",
      "cell_type": "code",
      "source": "#",
      "metadata": {
        "trusted": true
      },
      "outputs": [],
      "execution_count": 107
    },
    {
      "id": "6d915e59-716c-4b24-b4dc-8c04f4acab6e",
      "cell_type": "code",
      "source": "# Q.13) How would you check if a file exists before attempting to read it in Python?\n# Ans.\nimport os\n\nif os.path.exists(\"file.txt\"):\n    with open(\"file.txt\", \"r\") as f:\n        print(f.read())\nelse:\n    print(\"File does not exist.\")",
      "metadata": {
        "trusted": true
      },
      "outputs": [
        {
          "name": "stdout",
          "output_type": "stream",
          "text": "File does not exist.\n"
        }
      ],
      "execution_count": 108
    },
    {
      "id": "3f4c7ef9-c90f-49ad-996c-e2a4744d7545",
      "cell_type": "code",
      "source": "#",
      "metadata": {
        "trusted": true
      },
      "outputs": [],
      "execution_count": 109
    },
    {
      "id": "4c525762-9a41-4556-b3ca-1c3b5c2d9c35",
      "cell_type": "code",
      "source": "# Q.14) Write a program that uses the logging module to log both informational and error messages?\n# Ans.\nimport logging\n\nlogging.basicConfig(filename=\"app.log\", level=logging.INFO)\n\nlogging.info(\"This is an informational message.\")\nlogging.error(\"This is an error message.\")",
      "metadata": {
        "trusted": true
      },
      "outputs": [
        {
          "name": "stderr",
          "output_type": "stream",
          "text": "ERROR:root:This is an error message.\n"
        }
      ],
      "execution_count": 110
    },
    {
      "id": "88ddf66d-e650-44ca-a809-bcb73597185b",
      "cell_type": "code",
      "source": "#",
      "metadata": {
        "trusted": true
      },
      "outputs": [],
      "execution_count": 111
    },
    {
      "id": "36217769-1404-4df8-90a9-f0c863ff3431",
      "cell_type": "code",
      "source": "# Q.15) Write a Python program that prints the content of a file and handles the case when the file is empty?\n# Ans.\ntry:\n    with open(\"file.txt\", \"r\") as f:\n        content = f.read()\n        if content:\n            print(content)\n        else:\n            print(\"File is empty.\")\nexcept FileNotFoundError:\n    print(\"File not found.\")\n",
      "metadata": {
        "trusted": true
      },
      "outputs": [
        {
          "name": "stdout",
          "output_type": "stream",
          "text": "File not found.\n"
        }
      ],
      "execution_count": 112
    },
    {
      "id": "0f2bc85e-74ff-4a09-ae3a-fd7808b8c034",
      "cell_type": "code",
      "source": "#",
      "metadata": {
        "trusted": true
      },
      "outputs": [],
      "execution_count": 113
    },
    {
      "id": "d48fe3ac-26ff-42db-a47c-bf821be83d7e",
      "cell_type": "code",
      "source": "# Q.16) Demonstrate how to use memory profiling to check the memory usage of a small program?\n# Ans.\nimport tracemalloc\n\ntracemalloc.start()\n\n# Code to profile\na = [i * 2 for i in range(1000000)]\n\ncurrent, peak = tracemalloc.get_traced_memory()\nprint(f\"Current memory usage: {current / 1024 / 1024:.2f} MB\")\nprint(f\"Peak memory usage: {peak / 1024 / 1024:.2f} MB\")\n\ntracemalloc.stop()\n",
      "metadata": {
        "trusted": true
      },
      "outputs": [
        {
          "name": "stdout",
          "output_type": "stream",
          "text": "Current memory usage: 19.29 MB\nPeak memory usage: 19.30 MB\n"
        }
      ],
      "execution_count": 114
    },
    {
      "id": "8d225962-3909-423d-a234-a39deb6e2cb8",
      "cell_type": "code",
      "source": "#",
      "metadata": {
        "trusted": true
      },
      "outputs": [],
      "execution_count": 115
    },
    {
      "id": "dce65a36-9cc8-4ff4-876f-c6513e736148",
      "cell_type": "code",
      "source": "# Q.17.) Write a Python program to create and write a list of numbers to a file, one number per line?\n# Ans.\nnumbers = [1, 2, 3, 4, 5]\n\nwith open(\"numbers.txt\", \"w\") as f:\n    for num in numbers:\n        f.write(f\"{num}\\n\")",
      "metadata": {
        "trusted": true
      },
      "outputs": [],
      "execution_count": 117
    },
    {
      "id": "c8646942-8c31-417b-9798-119d508e5fe5",
      "cell_type": "code",
      "source": "#",
      "metadata": {
        "trusted": true
      },
      "outputs": [],
      "execution_count": 118
    },
    {
      "id": "ac03e029-36b0-499e-b778-985712a57e12",
      "cell_type": "code",
      "source": "# Q.18) How would you implement a basic logging setup that logs to a file with rotation after 1MB?\n# Ans. \nimport logging\nfrom logging.handlers import RotatingFileHandler\n\nlogger = logging.getLogger(\"MyLogger\")\nlogger.setLevel(logging.INFO)\n\nhandler = RotatingFileHandler(\"app.log\", maxBytes=1_000_000, backupCount=3)\nformatter = logging.Formatter('%(asctime)s - %(levelname)s - %(message)s')\nhandler.setFormatter(formatter)\n\nlogger.addHandler(handler)\n\nlogger.info(\"This is a log message.\")\n\n",
      "metadata": {
        "trusted": true
      },
      "outputs": [
        {
          "name": "stderr",
          "output_type": "stream",
          "text": "INFO:MyLogger:This is a log message.\n"
        }
      ],
      "execution_count": 121
    },
    {
      "id": "491c2abd-464f-4397-af31-578b46ae3cc5",
      "cell_type": "code",
      "source": "#",
      "metadata": {
        "trusted": true
      },
      "outputs": [],
      "execution_count": 122
    },
    {
      "id": "79db9492-81ce-4637-89a8-270b7544d0ca",
      "cell_type": "code",
      "source": "# Q.19) Write a program that handles both IndexError and KeyError using a try-except block?\n# Ans.\nmy_list = [1, 2, 3]\nmy_dict = {\"a\": 10, \"b\": 20}\n\ntry:\n    print(my_list[5])\n    print(my_dict[\"c\"])\nexcept IndexError:\n    print(\"IndexError caught: List index out of range.\")\nexcept KeyError:\n    print(\"KeyError caught: Key not found in dictionary.\")\n",
      "metadata": {
        "trusted": true
      },
      "outputs": [
        {
          "name": "stdout",
          "output_type": "stream",
          "text": "IndexError caught: List index out of range.\n"
        }
      ],
      "execution_count": 123
    },
    {
      "id": "abc62e73-9edc-4856-9154-1cdf8ae8491f",
      "cell_type": "code",
      "source": "# ",
      "metadata": {
        "trusted": true
      },
      "outputs": [],
      "execution_count": 124
    },
    {
      "id": "da09330c-78e4-4641-840f-036d9d4abdf2",
      "cell_type": "code",
      "source": "# Q.20) How would you open a file and read its contents using a context manager in Python?\n# Ans. \ndef openFile():\n    with open(\"file.txt\", \"r\") as f:\n        content = f.read()",
      "metadata": {
        "trusted": true
      },
      "outputs": [],
      "execution_count": 126
    },
    {
      "id": "a2f6d023-6497-4ca1-afe0-af26c6f5ec75",
      "cell_type": "code",
      "source": "#",
      "metadata": {
        "trusted": true
      },
      "outputs": [],
      "execution_count": 127
    },
    {
      "id": "28e951af-bdc2-481e-9554-51cf34b346ec",
      "cell_type": "code",
      "source": "# Q.21) Write a Python program that reads a file and prints the number of occurrences of a specific word\n# Ans. \nword_to_count = \"example\"\ncount = 0\ndef demo():\n    with open(\"file.txt\", \"r\") as f:\n        for line in f:\n            count += line.lower().split().count(word_to_count.lower())\n\nprint(f\"The word '{word_to_count}' occurred {count} times.\")",
      "metadata": {
        "trusted": true
      },
      "outputs": [
        {
          "name": "stdout",
          "output_type": "stream",
          "text": "The word 'example' occurred 0 times.\n"
        }
      ],
      "execution_count": 129
    },
    {
      "id": "689049a2-f914-4266-a31a-be90ed15cdf9",
      "cell_type": "code",
      "source": "#",
      "metadata": {
        "trusted": true
      },
      "outputs": [],
      "execution_count": 130
    },
    {
      "id": "8145c137-9f7c-4275-bba3-b26e4672a7d9",
      "cell_type": "code",
      "source": "# Q.22) How can you check if a file is empty before attempting to read its contents?\n# Ans.\nimport os\n\ndef getSize():\n    if os.path.getsize(\"file.txt\") > 0:\n        with open(\"file.txt\", \"r\") as f:\n            print(f.read())\n    else:\n        print(\"File is empty.\")\n",
      "metadata": {
        "trusted": true
      },
      "outputs": [],
      "execution_count": 133
    },
    {
      "id": "103129eb-8e0b-4e35-abe4-734106fb6c2c",
      "cell_type": "code",
      "source": "#",
      "metadata": {
        "trusted": true
      },
      "outputs": [],
      "execution_count": 134
    },
    {
      "id": "1712c78c-923d-4b62-a6e6-862dee4b7238",
      "cell_type": "code",
      "source": "# Q.23) Write a Python program that writes to a log file when an error occurs during file handling.\n# Ans.\nimport logging\n\nlogging.basicConfig(filename=\"file_errors.log\", level=logging.ERROR)\n\ntry:\n    with open(\"nonexistent.txt\", \"r\") as f:\n        data = f.read()\nexcept Exception as e:\n    logging.error(\"Error occurred while handling file: %s\", e)\n",
      "metadata": {
        "trusted": true
      },
      "outputs": [
        {
          "name": "stderr",
          "output_type": "stream",
          "text": "ERROR:root:Error occurred while handling file: [Errno 44] No such file or directory: 'nonexistent.txt'\n"
        }
      ],
      "execution_count": 135
    },
    {
      "id": "d2b95afa-273e-4d60-9b87-1ab0a8b27f4b",
      "cell_type": "code",
      "source": "",
      "metadata": {
        "trusted": true
      },
      "outputs": [],
      "execution_count": null
    }
  ]
}