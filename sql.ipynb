{
  "nbformat": 4,
  "nbformat_minor": 0,
  "metadata": {
    "colab": {
      "provenance": []
    },
    "kernelspec": {
      "name": "python3",
      "display_name": "Python 3"
    },
    "language_info": {
      "name": "python"
    }
  },
  "cells": [
    {
      "cell_type": "markdown",
      "source": [
        "**Question 1:** 1. Create a table called employees with the following structure?\n",
        "- emp_id (integer, should not be NULL and should be a primary key)\n",
        "- emp_name (text, should not be NULL)\n",
        "- age (integer, should have a check constraint to ensure the age is at least 18)\n",
        "- email (text, should be unique for each employee)\n",
        "- salary (decimal, with a default value of 30,000).\n",
        "\n",
        "Write the SQL query to create the above table with all constraints.\n",
        "\n",
        "**Ans:**\n",
        "```sql\n",
        "CREATE TABLE employees (\n",
        "    -- emp_id is an integer, cannot be empty, and is the primary key for the table.\n",
        "    emp_id INTEGER NOT NULL PRIMARY KEY,\n",
        "\n",
        "    -- emp_name is a text field and cannot be empty.\n",
        "    emp_name TEXT NOT NULL,\n",
        "\n",
        "    -- age is an integer and must be 18 or greater.\n",
        "    age INTEGER CHECK (age >= 18),\n",
        "\n",
        "    -- email is a text field and must be unique for each employee record.\n",
        "    email TEXT UNIQUE,\n",
        "\n",
        "    -- salary is a decimal number with a default value of 30000.00 if not specified.\n",
        "    salary DECIMAL DEFAULT 30000.00\n",
        ");\n",
        "\n",
        "```"
      ],
      "metadata": {
        "id": "VCFna-CVIASV"
      }
    },
    {
      "cell_type": "code",
      "source": [
        "# -----------------------------------------------------------------------------------------------------------------"
      ],
      "metadata": {
        "id": "VtizZYr_IaOD"
      },
      "execution_count": null,
      "outputs": []
    },
    {
      "cell_type": "markdown",
      "source": [
        "**Qus 2:**  Explain the purpose of constraints and how they help maintain data integrity in a database. Provide\n",
        "examples of common types of constraints.\n",
        "\n",
        "**Ans:** SQL constraints are rules enforced on the data columns of a table to ensure the accuracy and reliability of the data. Their primary purpose is to maintain data integrity by preventing invalid or inconsistent data from being entered into the database. Think of them as gatekeepers for your data.\n",
        "\n",
        "By setting these rules, you control the type and format of data that can be stored, which is crucial for building a robust and trustworthy database. When an action (like an INSERT, UPDATE, or DELETE) violates a constraint, the database system rejects the operation.\n",
        "\n",
        "\n",
        "**Common Types of Constraints**\n",
        "Here are some of the most common constraints used in SQL, along with examples:\n",
        "  - NOT NULL: This constraint ensures that a column cannot have a NULL (empty) value. It's essential for fields that must always contain information.\n",
        "    - Example: In a users table, the username and password columns should not be empty.\n",
        "  - UNIQUE: This ensures that every value in a column is different from all other values in that same column.\n",
        "    - Example: An email address or a social_security_number in a customer table must be unique for each customer.\n",
        "  - PRIMARY KEY: This constraint is a combination of NOT NULL and UNIQUE. It uniquely identifies each record in a table. A table can have only one primary key.\n",
        "    - Example: An employee_id in an employees table serves as the primary key to distinguish each employee.\n",
        "  - FOREIGN KEY: This key links two tables together by referencing the PRIMARY KEY of another table. It enforces referential integrity, meaning you can't add a record to one table that refers to a non-existent record in another.\n",
        "    - Example: An orders table might have a customer_id that is a FOREIGN KEY pointing to the id in the customers table. This prevents an order from being created for a customer who doesn't exist.\n",
        "  - CHECK: This constraint ensures that the values in a column satisfy a specific condition or logical expression.\n",
        "    - Example: In a products table, you could have a CHECK (price >= 0) constraint to ensure the price is never a negative number.\n",
        "  - DEFAULT: This provides a default value for a column when no value is specified during an INSERT operation.\n",
        "    - Example: A registration_date column in a users table could have a DEFAULT value of the current date.\n",
        "\n"
      ],
      "metadata": {
        "id": "mVqajmrPI4GG"
      }
    },
    {
      "cell_type": "code",
      "source": [
        "# ------------------------------------------------------------------------------------------------------"
      ],
      "metadata": {
        "id": "1FO9A5w5KDz3"
      },
      "execution_count": null,
      "outputs": []
    },
    {
      "cell_type": "markdown",
      "source": [
        "**Qus 3:** Why would you apply the NOT NULL constraint to a column? Can a primary key contain NULL values? Justify your answer.\n",
        "\n",
        "**Ans:** You would apply the NOT NULL constraint to a column to guarantee that every record in the table has a value for that specific attribute. It's a fundamental rule of data integrity that ensures essential information is always present.\n",
        "\n",
        "**The primary reasons for using it are:**\n",
        "  1. To Ensure Completeness: For certain fields, missing data makes a record meaningless or useless. For example, an orders table without a product_id or a users table without a username is incomplete and serves no purpose.\n",
        "  2. To Avoid Errors in Calculations and Functions: NULL is not the same as zero or an empty string; it represents an unknown or missing value. Mathematical operations (like SUM, AVG) or other functions can behave unexpectedly or produce errors when they encounter NULL values. Forcing a column to be NOT NULL ensures predictable behavior.\n",
        "  3. To Improve Data Quality and Reliability: By requiring certain data to be present, you enforce a higher standard of data quality from the moment it is entered. This makes the entire database more reliable and trustworthy for queries and reports.\n",
        "\n",
        "  ( Example: In an employees table, the emp_name and start_date columns should be NOT NULL. An employee record without a name or a start date is incomplete and could cause issues in HR and payroll systems. )\n",
        "\n",
        "---\n",
        "(**Can a Primary Key Contain NULL Values?**)\n",
        "\n",
        "No, a primary key cannot contain NULL values.\n",
        "\n",
        "**Justification:** The entire purpose of a primary key is to serve as a unique identifier for every single row in a table. It's the definitive address for a record, ensuring that you can find and reference it without any ambiguity.\n",
        "\n",
        "This core purpose relies on two fundamental principles, which are automatically enforced by the PRIMARY KEY constraint:\n",
        "  1. Uniqueness: Every value in the primary key column must be unique. You can't have two employees with the same employee_id.\n",
        "  2. Existence: Every record must have a primary key value.\n",
        "\n",
        "If a primary key were allowed to be NULL, it would directly violate this second principle. A NULL value signifies an \"unknown\" or \"missing\" identifier. If one or more rows had a NULL primary key, they would no longer be uniquely identifiable. How would you distinguish between two different records if both had a NULL ID? You couldn't.\n",
        "\n",
        "Therefore, by definition, a PRIMARY KEY constraint is functionally a combination of the UNIQUE and NOT NULL constraints. This is a non-negotiable rule in relational database design because it's the bedrock upon which data integrity and relationships between tables are built.\n",
        "\n"
      ],
      "metadata": {
        "id": "Klmtc9-JKGBm"
      }
    },
    {
      "cell_type": "code",
      "source": [
        "# -----------"
      ],
      "metadata": {
        "id": "35ZJeEPgLJAJ"
      },
      "execution_count": null,
      "outputs": []
    },
    {
      "cell_type": "markdown",
      "source": [
        "**Qus 4:**  Explain the steps and SQL commands used to add or remove constraints on an existing table. Provide an example for both adding and removing a constraint.\n",
        "\n",
        "**Ans:** Modifying constraints on an existing table is a common database maintenance task. The process is managed using the ALTER TABLE command.\n",
        "\n",
        "Here’s a breakdown of the steps and commands for both adding and removing constraints.\n",
        "\n",
        "**Steps and SQL Commands**\n",
        "\n",
        "**Adding Constraints to an Existing Table:** To add a constraint, you use the ALTER TABLE statement combined with the ADD CONSTRAINT clause.\n",
        "\n",
        "**Steps:**\n",
        "  1. Identify the Target: Pinpoint the table and the column(s) you want to constrain.\n",
        "  2. Name the Constraint: It is a critical best practice to give your constraint a unique, descriptive name (e.g., fk_orders_customer_id). This makes it much easier to identify, manage, or remove later.\n",
        "  3. Define the Constraint: Specify the type and logic of the constraint (e.g., UNIQUE(column_name), CHECK (condition), FOREIGN KEY (...) REFERENCES ...).\n",
        "\n",
        "  ```sql\n",
        "  ALTER TABLE table_name\n",
        "  ADD CONSTRAINT constraint_name constraint_definition;\n",
        "  ```\n",
        "\n",
        "**Removing Constraints from an Existing Table:** To remove a constraint, you also use the ALTER TABLE statement, but with the DROP CONSTRAINT clause.\n",
        "\n",
        "**Steps:**\n",
        "  1. Identify the Target: Know which table the constraint belongs to.\n",
        "  2. Find the Constraint's Name: You must know the exact name of the constraint you wish to remove. This is why naming them properly is so important!\n",
        "  3. Execute the Command: Use the DROP CONSTRAINT command to remove it.\n",
        "  ```sql\n",
        "  ALTER TABLE table_name\n",
        "  DROP CONSTRAINT constraint_name;\n",
        "  ```\n",
        "\n",
        "(Note: The exact syntax can vary slightly between database systems (e.g., MySQL, PostgreSQL, SQL Server). The examples below use standard SQL that is widely supported.)\n",
        "\n",
        "**Examples:**\n",
        "Let's assume we have an existing products table with the following structure:\n",
        "```sql\n",
        "CREATE TABLE products (\n",
        "    product_id INTEGER PRIMARY KEY,\n",
        "    sku_code TEXT,\n",
        "    price DECIMAL,\n",
        "    category_id INTEGER\n",
        ");\n",
        "```\n",
        "Example 1: Adding a UNIQUE Constraint\n",
        "\n",
        "Goal: We forgot to ensure that every sku_code is unique. Let's add that constraint now.\n",
        "```sql\n",
        "ALTER TABLE products\n",
        "ADD CONSTRAINT uq_products_sku_code UNIQUE (sku_code);\n",
        "```\n",
        "\n",
        "Explanation:\n",
        "  * ALTER TABLE products: We are modifying the products table.\n",
        "  * ADD CONSTRAINT uq_products_sku_code: We are adding a new constraint named uq_products_sku_code.\n",
        "  * UNIQUE (sku_code): The constraint's definition is to enforce uniqueness on the sku_code column.\n",
        "\n",
        "(If you try to INSERT a new product with a sku_code that already exists, the database will now return an error.)\n",
        "\n",
        "---\n",
        "Example 2: Removing the UNIQUE Constraint\n",
        "\n",
        "Goal: The business requirements have changed, and now we need to remove the uniqueness rule on sku_code.\n",
        "```sql\n",
        "ALTER TABLE products\n",
        "DROP CONSTRAINT uq_products_sku_code;\n",
        "```\n",
        "\n",
        "Explanation:\n",
        "  * ALTER TABLE products: We are modifying the products table.\n",
        "  * DROP CONSTRAINT uq_products_sku_code: We are removing the constraint with this specific name.\n",
        "\n",
        "(After running this command, the sku_code column will no longer enforce uniqueness, and duplicate values will be allowed.)"
      ],
      "metadata": {
        "id": "anbent-7LKif"
      }
    },
    {
      "cell_type": "code",
      "source": [
        "# ----------"
      ],
      "metadata": {
        "id": "Iu3xoODINdqt"
      },
      "execution_count": null,
      "outputs": []
    },
    {
      "cell_type": "markdown",
      "source": [
        "**Qus 5:** Explain the consequences of attempting to insert, update, or delete data in a way that violates constraints.\n",
        "Provide an example of an error message that might occur when violating a constraint.\n",
        "\n",
        "**Ans:** When you attempt to perform an operation (INSERT, UPDATE, or DELETE) that violates a constraint, the database management system (DBMS) acts as a strict gatekeeper. It will not allow the operation to proceed because doing so would compromise the integrity of the data.\n",
        "\n",
        "**The Consequences of a Violation**\n",
        "\n",
        "The consequences are immediate and designed to protect the database at all costs:\n",
        "  1. The Operation is Rejected: The DBMS immediately stops the execution of the SQL command. The requested change is not made to the table.\n",
        "  2. An Error Message is Returned: The database sends a descriptive error message back to the application or user who issued the command. This message explains which constraint was violated and often provides details about the conflicting data.\n",
        "  3. The Transaction is Rolled Back: Database operations are typically performed within a transaction. If any part of a transaction violates a constraint, the entire transaction is aborted and rolled back. This ensures the database remains in a consistent state, as if the operation never happened. No partial or invalid data is left behind.\n",
        "  4. Data Integrity is Preserved: This is the ultimate goal. By rejecting the invalid operation, the database ensures that all its rules are followed and the data remains accurate, reliable, and consistent.\n",
        "\n",
        "Let's look at how this applies to specific operations:\n",
        "  * During an INSERT: If you try to insert a new row that violates a PRIMARY KEY (duplicate ID), UNIQUE (duplicate email), NOT NULL (leaving a required field empty), or CHECK (e.g., age below 18) constraint, the insertion will fail.\n",
        "  * During an UPDATE: If you try to update an existing row and change a value to something that violates a constraint (e.g., updating an email to one that already exists), the update will be rejected.\n",
        "  * During a DELETE: This most commonly involves a FOREIGN KEY constraint. If you try to delete a record from a \"parent\" table (e.g., deleting a customer from the customers table) while there are still records in a \"child\" table that reference it (e.g., orders in the orders table for that customer), the deletion will be blocked to prevent creating \"orphaned\" records.\n",
        "\n",
        "(Example of an Error Message)\n",
        "\n",
        "Let's use the employees table we defined earlier, which has a UNIQUE constraint on the email column.\n",
        "```sql\n",
        "CREATE TABLE employees (\n",
        "    emp_id INTEGER NOT NULL PRIMARY KEY,\n",
        "    emp_name TEXT NOT NULL,\n",
        "    age INTEGER CHECK (age >= 18),\n",
        "    email TEXT UNIQUE,\n",
        "    salary DECIMAL DEFAULT 30000.00\n",
        ");\n",
        "```\n",
        "Step 1: Insert a valid record.\n",
        "```sql\n",
        "INSERT INTO employees (emp_id, emp_name, age, email)\n",
        "VALUES (101, 'Jane Doe', 34, 'j.doe@company.com');\n",
        "```\n",
        "This operation succeeds because it follows all the rules.\n",
        "\n",
        "Step 2: Attempt to insert another record that violates the UNIQUE constraint.\n",
        "\n",
        "Now, we try to add another employee but accidentally use the same email address.\n",
        "```sql\n",
        "INSERT INTO employees (emp_id, emp_name, age, email)\n",
        "VALUES (102, 'John Smith', 29, 'j.doe@company.com');\n",
        "```\n",
        "\n",
        "The Consequence: An Error Message\n",
        "The database will reject this INSERT statement and return an error message. The exact wording varies between database systems (like PostgreSQL, SQL Server, MySQL), but it will look something like this (this example is typical of SQL):\n",
        "```\n",
        "#1062 - Duplicate entry 'j.doe@company.com' for key 'email'\n",
        "```\n",
        "Let's break down this error:\n",
        "\n",
        "  - ERROR: Duplicate entry value violates unique constraint: This clearly states the problem.\n",
        "  - \"employees_email_key\": This is the name of the specific constraint that was violated.\n",
        "\n",
        "(The database remains unchanged; the record for 'John Smith' was not added, and the integrity of our data is secure.)\n"
      ],
      "metadata": {
        "id": "Qmq_UJHANfyD"
      }
    },
    {
      "cell_type": "code",
      "source": [
        "# -------------"
      ],
      "metadata": {
        "id": "0UU9DeIDQhne"
      },
      "execution_count": null,
      "outputs": []
    },
    {
      "cell_type": "markdown",
      "source": [
        "**Qus 6:** You created a products table without constraints as follows:\n",
        "```sql\n",
        "CREATE TABLE products ( product_id INT, product_name VARCHAR(50), price DECIMAL(10, 2));\n",
        "```\n",
        "Now, you realise that?\n",
        "  - The product_id should be a primary keyQ\n",
        "  - The price should have a default value of 50.00\n",
        "\n",
        "**Ans:** Here are the SQL commands to apply these changes to your existing products table using the ALTER TABLE statement.\n",
        "\n",
        "```sql\n",
        "-- This script adds a PRIMARY KEY and a DEFAULT constraint to the existing 'products' table.\n",
        "\n",
        "-- Step 1: Add the PRIMARY KEY constraint to the product_id column.\n",
        "-- It's good practice to first ensure the column is NOT NULL, as a primary key cannot contain NULL values.\n",
        "-- Note: Some database systems require these to be separate steps.\n",
        "\n",
        "-- First, modify the column to not allow NULLs.\n",
        "ALTER TABLE products\n",
        "MODIFY COLUMN product_id INT NOT NULL;\n",
        "\n",
        "-- Next, add the primary key constraint.\n",
        "ALTER TABLE products\n",
        "ADD PRIMARY KEY (product_id);\n",
        "\n",
        "\n",
        "-- Step 2: Add a DEFAULT constraint to the price column.\n",
        "-- This command modifies the 'price' column to set its default value to 50.00.\n",
        "-- If a new product is inserted without a specified price, it will automatically be set to 50.00.\n",
        "\n",
        "ALTER TABLE products\n",
        "MODIFY COLUMN price DECIMAL(10, 2) DEFAULT 50.00;\n",
        "```\n",
        "\n",
        "**Explanation of the Commands**\n",
        "  1. Modifying product_id:\n",
        "    - We first run ALTER TABLE products MODIFY COLUMN product_id INT NOT NULL; to enforce that the product_id can't be empty. This is a prerequisite for a primary key.\n",
        "    - Then, ALTER TABLE products ADD PRIMARY KEY (product_id); officially designates the product_id column as the primary key, which also enforces uniqueness.\n",
        "  2. Modifying price:\n",
        "    - The ALTER TABLE products MODIFY COLUMN price ... DEFAULT 50.00; command alters the definition of the price column to include the DEFAULT constraint. Now, if you run an INSERT statement without providing a value for price, the database will automatically use 50.00.\n",
        "\n",
        "(After running this script, your products table will have the required constraints to ensure better data integrity.)\n"
      ],
      "metadata": {
        "id": "apKZs-gGQizm"
      }
    },
    {
      "cell_type": "code",
      "source": [
        "# -------------"
      ],
      "metadata": {
        "id": "uVWGsga9RnrX"
      },
      "execution_count": null,
      "outputs": []
    },
    {
      "cell_type": "markdown",
      "source": [
        "**Qus 7:** You have two tables\n",
        "\n",
        "**Students**\n",
        "| student_id | student_name | class_id |\n",
        "|------------|--------------|----------|\n",
        "| 1          | Alice        | 101      |\n",
        "| 2          | Bob          | 102      |\n",
        "| 3          | Charlie      | 101      |\n",
        "\n",
        "**Classes**\n",
        "| class_id | class_name |\n",
        "|----------|------------|\n",
        "| 101      | Math       |\n",
        "| 102      | Science    |\n",
        "| 103      | History    |\n",
        "\n",
        "\n",
        "Write a query to fetch the student_name and class_name for each student using an INNER JOIN.\n",
        "\n",
        "**Ans:**\n",
        "```sql\n",
        "-- This query selects the student's name and their corresponding class name\n",
        "-- by joining the Students and Classes tables on their common column, class_id.\n",
        "\n",
        "SELECT\n",
        "    s.student_name,  -- Select the student_name column from the Students table\n",
        "    c.class_name     -- Select the class_name column from the Classes table\n",
        "FROM\n",
        "    Students s       -- Start with the Students table, aliased as 's' for brevity\n",
        "INNER JOIN\n",
        "    Classes c        -- Join it with the Classes table, aliased as 'c'\n",
        "ON\n",
        "    s.class_id = c.class_id; -- The join condition: match rows where the class_id is the same in both tables\n",
        "\n",
        "```\n",
        "\n",
        "Explanation of the Query:\n",
        "\n",
        "1. SELECT s.student_name, c.class_name: This specifies the columns you want to see in the final result. We are asking for the student_name from the Students table and the class_name from the Classes table. Using aliases (s and c) makes the query shorter and more readable.\n",
        "2. FROM Students s: This indicates that we are starting our query from the Students table, which we've nicknamed s.\n",
        "3. INNER JOIN Classes c: This tells the database to merge the Students table with the Classes table (nicknamed c).\n",
        "4. ON s.class_id = c.class_id: This is the crucial join condition. It instructs the database to match a row from the Students table with a row from the Classes table only if the value in their class_id columns is identical. For example, it matches Alice (with class_id 101) to the Math class (also class_id 101)."
      ],
      "metadata": {
        "id": "HfAo0QzrRpAj"
      }
    },
    {
      "cell_type": "code",
      "source": [
        "#----------------------------"
      ],
      "metadata": {
        "id": "5fSMMyImaouO"
      },
      "execution_count": null,
      "outputs": []
    },
    {
      "cell_type": "markdown",
      "source": [
        "**Qus 8:** Consider the following three tables:\n",
        "\n",
        "Orders:\n",
        "| order_id | order_date | customer_id |\n",
        "|----------|------------|-------------|\n",
        "| 1        | 2024-01-01 | 101         |\n",
        "| 2        | 2024-01-03 | 102         |\n",
        "\n",
        "Customers:\n",
        "| customer_id | customer_name |\n",
        "|-------------|---------------|\n",
        "| 101         | Alice         |\n",
        "| 102         | Bob           |\n",
        "\n",
        "Products:\n",
        "| product_id | product_name | order_id |\n",
        "|------------|--------------|----------|\n",
        "| 1          | Laptop       | 1        |\n",
        "| 2          | Phone        | NULL     |\n",
        "\n",
        "Write a query that shows all order_id, customer_name, and product_name, ensuring that all products are\n",
        "listed even if they are not associated with an order\n",
        "\n",
        "Hint: (use INNER JOIN and LEFT JOIN).\n",
        "\n",
        "**Ans:**\n",
        "The key to this query is realizing it's a two-step process:\n",
        "  1. First, you need to connect the Orders to the Customers to get the customer's name for each order. An INNER JOIN is suitable here because an order must have a customer.\n",
        "  2. Then, you need to connect the Products to this combined result. Since you want to include all products, even those without an order, a LEFT JOIN is necessary, with the Products table on the \"left\" side of the join.\n",
        "\n",
        "```sql\n",
        "-- This query lists all products and, where available, the corresponding\n",
        "-- order ID and the name of the customer who placed the order.\n",
        "-- It uses a LEFT JOIN to ensure all products are included in the result.\n",
        "\n",
        "SELECT\n",
        "    p.product_name,    -- Select the product name from the Products table\n",
        "    o.order_id,        -- Select the order ID from the Orders table\n",
        "    c.customer_name    -- Select the customer name from the Customers table\n",
        "FROM\n",
        "    Products p         -- Start with the Products table (aliased as 'p') as the base\n",
        "LEFT JOIN\n",
        "    Orders o           -- LEFT JOIN to the Orders table (aliased as 'o')\n",
        "ON\n",
        "    p.order_id = o.order_id -- The join condition between Products and Orders\n",
        "LEFT JOIN\n",
        "    Customers c        -- LEFT JOIN to the Customers table (aliased as 'c')\n",
        "ON\n",
        "    o.customer_id = c.customer_id; -- The join condition between Orders and Customers\n",
        "\n",
        "```\n",
        "Expected Output:\n",
        "| product_name | order_id | customer_name |\n",
        "|--------------|----------|---------------|\n",
        "| Laptop       | 1        | Alice         |\n",
        "| Phone        | NULL     | NULL          |\n",
        "\n",
        "\n",
        "Explanation of the Query:\n",
        "1. FROM Products p: We start with the Products table because our primary requirement is to list all products.\n",
        "2. LEFT JOIN Orders o ON p.order_id = o.order_id: We use a LEFT JOIN to connect Products to Orders.\n",
        "  - This ensures that every row from the \"left\" table (Products) is included in the result.\n",
        "  - If a product has a matching order_id in the Orders table (like the 'Laptop'), the corresponding order information is included.\n",
        "  - If a product does not have a matching order_id (like the 'Phone', which has a NULL order_id), it is still included in the result, but the columns from the Orders table (order_id) will be NULL.\n",
        "3. LEFT JOIN Customers c ON o.customer_id = c.customer_id: We then join the result to the Customers table.\n",
        "  - For the 'Laptop' record, which has a valid order, this join finds the matching customer_id (101) in the Customers table and retrieves the name 'Alice'.\n",
        "  - For the 'Phone' record, since its order information was already NULL, there is no customer_id to join on, so the customer_name also remains NULL."
      ],
      "metadata": {
        "id": "dUl5Cv9Aap8C"
      }
    },
    {
      "cell_type": "code",
      "source": [
        "# --------------"
      ],
      "metadata": {
        "id": "y3pECqfmcHMZ"
      },
      "execution_count": null,
      "outputs": []
    },
    {
      "cell_type": "markdown",
      "source": [
        "**Qus 9:** Given the following tables:\n",
        "\n",
        "Sales\n",
        "| sale_id | product_id | amount |\n",
        "|---------|------------|--------|\n",
        "| 1       | 101        | 500    |\n",
        "| 2       | 102        | 300    |\n",
        "| 3       | 101        | 700    |\n",
        "\n",
        "\n",
        "Products\n",
        "| product_id | product_name |\n",
        "|------------|--------------|\n",
        "| 101        | Laptop       |\n",
        "| 102        | Phone        |\n",
        "\n",
        "\n",
        "Write a query to find the total sales amount for each product using an INNER JOIN and the SUM() function.\n",
        "\n",
        "**Ans:** This query involves three key components:\n",
        "  1. INNER JOIN: To link sales records to product names.\n",
        "  2. SUM(): An aggregate function to calculate the total sales amount.\n",
        "  3. GROUP BY: To group the sales by product so SUM() calculates the total for each one.\n",
        "\n",
        "```sql\n",
        "-- This query calculates the total sales amount for each product.\n",
        "-- It joins the Sales and Products tables, groups the results by product name,\n",
        "-- and then sums the sales amounts for each group.\n",
        "\n",
        "SELECT\n",
        "    p.product_name,               -- Select the product's name\n",
        "    SUM(s.amount) AS total_sales  -- Calculate the sum of the 'amount' and alias it as 'total_sales'\n",
        "FROM\n",
        "    Sales s                       -- Start with the Sales table, aliased as 's'\n",
        "INNER JOIN\n",
        "    Products p                    -- Join it with the Products table, aliased as 'p'\n",
        "ON\n",
        "    s.product_id = p.product_id   -- The join condition: match rows on their common product_id\n",
        "GROUP BY\n",
        "    p.product_name;               -- Group the rows by product_name so SUM() aggregates sales for each product\n",
        "\n",
        "```\n",
        "Expected Output: Based on the data in your tables, the query will produce the following result:\n",
        "| product_name | total_sales |\n",
        "|--------------|-------------|\n",
        "| Laptop       | 1200        |\n",
        "| Phone        | 300         |\n",
        "\n",
        "Explanation of the Query:\n",
        "1. INNER JOIN ... ON s.product_id = p.product_id: This first creates a temporary combined table where each sale is matched with its corresponding product name.\n",
        "  - The 'Laptop' product (ID 101) appears twice.\n",
        "  - The 'Phone' product (ID 102) appears once.\n",
        "2. GROUP BY p.product_name: This takes the combined results and groups them into buckets, one for each unique product_name. All 'Laptop' sales go into one bucket, and all 'Phone' sales go into another.\n",
        "3. SUM(s.amount): This aggregate function then calculates the sum of the amount for all rows within each group.\n",
        "  - For the 'Laptop' group, it calculates 500 + 700 = 1200.\n",
        "  - For the 'Phone' group, it calculates 300.\n",
        "4. SELECT p.product_name, ... AS total_sales: Finally, this selects the product name for each group and the calculated sum, which is given a clear and descriptive alias, total_sales.\n"
      ],
      "metadata": {
        "id": "IU0Si1racIIa"
      }
    },
    {
      "cell_type": "code",
      "source": [
        "# --------"
      ],
      "metadata": {
        "id": "QtUTXTzIdgMh"
      },
      "execution_count": null,
      "outputs": []
    },
    {
      "cell_type": "markdown",
      "source": [
        "**Qus 10:**  You are given three tables:\n",
        "\n",
        "Orders:\n",
        "| order_id | order_date | customer_id |\n",
        "|----------|------------|-------------|\n",
        "| 1        | 2024-01-02 | 1           |\n",
        "| 2        | 2024-01-05 | 2           |\n",
        "\n",
        "Customers:\n",
        "| customer_id | customer_name |\n",
        "|-------------|---------------|\n",
        "| 1           | Alice         |\n",
        "| 2           | Bob           |\n",
        "\n",
        "Order_Details:\n",
        "| order_id | product_id | quantity |\n",
        "|----------|------------|----------|\n",
        "| 1        | 101        | 2        |\n",
        "| 1        | 102        | 1        |\n",
        "| 2        | 101        | 3        |\n",
        "\n",
        "Write a query to display the order_id, customer_name, and the quantity of products ordered by each\n",
        "customer using an INNER JOIN between all three tables.\n",
        "\n",
        "**Ans:** This query will first join Orders with Customers using customer_id and then join that result with Order_Details using order_id.\n",
        "```sql\n",
        "-- This query joins three tables to show which customer ordered what quantity of items in each order.\n",
        "\n",
        "SELECT\n",
        "    o.order_id,          -- Select the order ID from the Orders table\n",
        "    c.customer_name,     -- Select the customer's name from the Customers table\n",
        "    od.quantity          -- Select the quantity from the Order_Details table\n",
        "FROM\n",
        "    Orders o             -- Start with the Orders table, aliased as 'o'\n",
        "INNER JOIN\n",
        "    Customers c          -- Join to the Customers table (aliased as 'c')\n",
        "ON\n",
        "    o.customer_id = c.customer_id -- The join condition between Orders and Customers\n",
        "INNER JOIN\n",
        "    Order_Details od     -- Join the result to the Order_Details table (aliased as 'od')\n",
        "ON\n",
        "    o.order_id = od.order_id;      -- The join condition between the combined result and Order_Details\n",
        "```\n",
        "\n",
        "Given the data in your tables, the output of this query will be:\n",
        "| order_id | customer_name | quantity |\n",
        "|----------|---------------|----------|\n",
        "| 1        | Alice         | 2        |\n",
        "| 1        | Alice         | 1        |\n",
        "| 2        | Bob           | 3        |\n",
        "\n",
        "\n",
        "Explanation of the Query:\n",
        "1. FROM Orders o INNER JOIN Customers c ON o.customer_id = c.customer_id: This first join creates a temporary connection between orders and customers. It matches order_id 1 with 'Alice' and order_id 2 with 'Bob'.\n",
        "2. INNER JOIN Order_Details od ON o.order_id = od.order_id: This second join takes the result from the first step and connects it to the Order_Details table.\n",
        "  - It finds two matching records for order_id 1, one with a quantity of 2 and another with a quantity of 1.\n",
        "  - It finds one matching record for order_id 2, with a quantity of 3.\n",
        "3. SELECT o.order_id, c.customer_name, od.quantity: Finally, this selects the desired columns from the fully joined data to produce the final result."
      ],
      "metadata": {
        "id": "6KxNSmfMdhIZ"
      }
    },
    {
      "cell_type": "code",
      "source": [
        "# --------------------------------------"
      ],
      "metadata": {
        "id": "ov-tFlSjef23"
      },
      "execution_count": null,
      "outputs": []
    },
    {
      "cell_type": "markdown",
      "source": [
        "Datastructure schema:\n",
        "\n",
        "**film:** This is a central table containing details about each movie, like title, release_year, rating, etc.\n",
        "\n",
        "**actor:** Contains a list of actors. It's linked to the film table through the film_actor junction table.\n",
        "\n",
        "**category:** Contains movie genres (e.g., 'Action', 'Comedy'). It's linked to the film table through the film_category junction table.\n",
        "\n",
        "**customer:** Contains customer information. It links to the address table for location details.\n",
        "\n",
        "**rental:** Records each time a movie is rented by a customer. It links to the inventory table to know which specific copy of a film was rented.\n",
        "\n",
        "**payment:** Logs the payments made by customers for each rental.\n",
        "\n",
        "**inventory:** Represents the physical copies of each film available at each store.\n",
        "\n",
        "**store and staff:** Manage the store locations and the employees, including managers.\n",
        "\n",
        "**Location Tables:** address, city, and country are all linked to define physical locations for customers, staff, and stores.\n",
        "\n",
        "----"
      ],
      "metadata": {
        "id": "DiT1KkFmehIS"
      }
    },
    {
      "cell_type": "markdown",
      "source": [
        "**Q1.** Identify the primary keys and foreign keys in maven movies db. Discuss the differences\n",
        "\n",
        "**Ans:** Primary and Foreign Keys in mavenmovies\n",
        "\n",
        "(*Here is a table identifying the keys for the main transactional tables in the database.*)\n",
        "### Database Schema\n",
        "\n",
        "| Table Name     | Primary Key(s)       | Foreign Key(s)                               | References Table(s)        |\n",
        "|----------------|----------------------|-----------------------------------------------|-----------------------------|\n",
        "| actor          | actor_id             | -                                             | -                           |\n",
        "| film           | film_id              | language_id, original_language_id             | language                    |\n",
        "| customer       | customer_id          | address_id, store_id                          | address, store              |\n",
        "| staff          | staff_id             | address_id, store_id                          | address, store              |\n",
        "| store          | store_id             | manager_staff_id, address_id                  | staff, address              |\n",
        "| address        | address_id           | city_id                                       | city                        |\n",
        "| city           | city_id              | country_id                                    | country                     |\n",
        "| country        | country_id           | -                                             | -                           |\n",
        "| category       | category_id          | -                                             | -                           |\n",
        "| language       | language_id          | -                                             | -                           |\n",
        "| inventory      | inventory_id         | film_id, store_id                             | film, store                 |\n",
        "| rental         | rental_id            | inventory_id, customer_id, staff_id           | inventory, customer, staff  |\n",
        "| payment        | payment_id           | customer_id, staff_id, rental_id              | customer, staff, rental     |\n",
        "\n",
        "junction Tables:\n",
        "\n",
        "| Table Name      | Primary Key(s)                | Foreign Key(s)              | References Table(s)   |\n",
        "|-----------------|-------------------------------|-----------------------------|-----------------------|\n",
        "| film_actor      | (actor_id, film_id)           | actor_id, film_id           | actor, film           |\n",
        "| film_category   | (film_id, category_id)        | film_id, category_id        | film, category        |\n",
        "\n",
        "\n",
        "**Discussion: The Differences Between Primary and Foreign Keys**\n",
        "\n",
        "While both are crucial for a well-structured relational database, primary keys and foreign keys serve fundamentally different purposes.\n",
        "\n",
        "**Primary Key (PK):** The primary key's main job is to be the unique identifier for each record in a table. It's like a Social Security Number for each row—it ensures you can pinpoint one specific record with no ambiguity.\n",
        "  - Purpose: To uniquely identify a row.\n",
        "  - Uniqueness: Must always be unique. No two rows in the same table can have the same primary key value.\n",
        "  - Null Values: Cannot contain NULL values. Every record must have a primary key.\n",
        "  - Quantity: A table can have only one primary key (though that key can be composed of multiple columns).\n",
        "\n",
        "(*Example from mavenmovies: In the actor table, actor_id is the primary key. There is only one actor with the ID '1', one actor with the ID '2', and so on. This key allows us to uniquely identify every actor in the database.*)\n",
        "\n",
        "**Foreign Key (FK):** The foreign key's main job is to create a link or relationship between two tables. It's a column in one table that refers to the primary key of another table. This is how you connect related data.\n",
        "  - Purpose: To link two tables and enforce referential integrity.\n",
        "  - Uniqueness: Can contain duplicate values. Multiple rows can refer to the same foreign key value.\n",
        "  - Null Values: Can contain NULL values (unless a NOT NULL constraint is also applied). A NULL foreign key means the record is not linked to anything in the other table.\n",
        "  - Quantity: A table can have multiple foreign keys, linking it to several other tables.\n",
        "\n",
        "**Example from mavenmovies:** In the film table, language_id is a foreign key. It points to the language_id (the primary key) in the language table. Many films can have the same language_id (e.g., many films can be in English), so this column will have duplicate values. This key ensures that you can't assign a language_id to a film that doesn't exist in the language table.\n"
      ],
      "metadata": {
        "id": "6575OxVonvJE"
      }
    },
    {
      "cell_type": "code",
      "source": [
        "# ----------"
      ],
      "metadata": {
        "id": "yKdSGOD1pLl1"
      },
      "execution_count": null,
      "outputs": []
    },
    {
      "cell_type": "markdown",
      "source": [
        "**Q2.** List all details of actors\n",
        "\n",
        "**Ans:** The SELECT * statement is used to retrieve all columns from a table.\n",
        "```sql\n",
        "-- This query selects all columns and all rows from the 'actor' table.\n",
        "-- The asterisk (*) is a wildcard character that represents all columns.\n",
        "\n",
        "SELECT *\n",
        "FROM actor;\n",
        "\n",
        "```\n",
        "Explanation of the Query:\n",
        "  - SELECT *: This is the \"select all columns\" statement. It tells the database you want to retrieve the data from every field (actor_id, first_name, last_name, last_update).\n",
        "  - FROM actor: This specifies the table from which you want to retrieve the data, which in this case is the actor table.\n"
      ],
      "metadata": {
        "id": "mF1uaUVlpM0e"
      }
    },
    {
      "cell_type": "code",
      "source": [
        "# ---------"
      ],
      "metadata": {
        "id": "cRxv1IAxp9MI"
      },
      "execution_count": null,
      "outputs": []
    },
    {
      "cell_type": "markdown",
      "source": [
        "**Q3.** List all customer information from DB.\n",
        "\n",
        "**Ans:** To list all information for every customer, you need to select all columns from the customer table.\n",
        "```sql\n",
        "-- This query selects all columns and all rows from the 'customer' table.\n",
        "-- The asterisk (*) is a wildcard that retrieves every column.\n",
        "\n",
        "SELECT *\n",
        "FROM customer;\n",
        "```\n",
        "\n",
        "Explanation of the Query:\n",
        "  - SELECT *: This command specifies that you want to retrieve data from all columns available in the table.\n",
        "  - FROM customer: This indicates that the data should be pulled from the table named customer.\n",
        "  "
      ],
      "metadata": {
        "id": "LVvhsjnpp_iD"
      }
    },
    {
      "cell_type": "code",
      "source": [
        "# -----"
      ],
      "metadata": {
        "id": "vLLJHA6jqN_t"
      },
      "execution_count": null,
      "outputs": []
    },
    {
      "cell_type": "markdown",
      "source": [
        "**Q4** List different countries.\n",
        "\n",
        "**Ans:** To get a unique list of all the different countries available in the database, you need to query the country table and use the DISTINCT keyword to eliminate any duplicates.\n",
        "\n",
        "```sql\n",
        "-- This query selects a unique list of country names from the 'country' table.\n",
        "-- The DISTINCT keyword ensures that each country is listed only once.\n",
        "\n",
        "SELECT DISTINCT country\n",
        "FROM country;\n",
        "\n",
        "```\n",
        "Explanation of the Query:\n",
        "  - SELECT DISTINCT country: This command tells the database to retrieve the values from the country column. The DISTINCT keyword filters the results to ensure that only unique country names are returned, removing any duplicates.\n",
        "  - FROM country: This specifies that the data should be pulled from the table named country."
      ],
      "metadata": {
        "id": "P45VVYZJqO7J"
      }
    },
    {
      "cell_type": "code",
      "source": [
        "# ------"
      ],
      "metadata": {
        "id": "sp8qvNbIqiW-"
      },
      "execution_count": null,
      "outputs": []
    },
    {
      "cell_type": "markdown",
      "source": [
        "**Q5.** Display all active customers.\n",
        "\n",
        "**Ans:** To display all active customers, you need to query the customer table and filter the results to include only those where the active column is set to 1.\n",
        "```sql\n",
        "-- This query selects all information for customers who are marked as active.\n",
        "-- The WHERE clause filters the results to only include rows where the 'active' column has a value of 1.\n",
        "\n",
        "SELECT *\n",
        "FROM customer\n",
        "WHERE active = 1;\n",
        "```\n",
        "Explanation of the Query:\n",
        "  - SELECT *: This selects all columns for the customer records.\n",
        "  - FROM customer: This specifies that you are querying the customer table.\n",
        "  - WHERE active = 1: This is the crucial filtering clause. In database design, 1 is commonly used to represent a boolean TRUE or an \"active\" status. This line tells the database to return only the rows that meet this condition."
      ],
      "metadata": {
        "id": "Ah6jWViYqjUd"
      }
    },
    {
      "cell_type": "code",
      "source": [
        "# -------"
      ],
      "metadata": {
        "id": "ijt12lpgq6Fb"
      },
      "execution_count": null,
      "outputs": []
    },
    {
      "cell_type": "markdown",
      "source": [
        "**Q6.** List of all rental IDs for customer with ID 1.\n",
        "\n",
        "**Ans:** To get a list of all rental IDs for the customer with an ID of 1, you need to query the rental table and filter the results using a WHERE clause.\n",
        "\n",
        "```sql\n",
        "-- This query retrieves all rental_id values from the 'rental' table\n",
        "-- for the customer whose customer_id is 1.\n",
        "\n",
        "SELECT rental_id\n",
        "FROM rental\n",
        "WHERE customer_id = 1;\n",
        "```\n",
        "Explanation of the Query:\n",
        "  - SELECT rental_id: This specifies that you only want to see the rental_id column in your result.\n",
        "  - FROM rental: This indicates that you are querying the rental table, which contains all the rental transaction records.\n",
        "  - WHERE customer_id = 1: This is the filter. It tells the database to return only those rows where the value in the customer_id column is exactly 1."
      ],
      "metadata": {
        "id": "0C7Ow_vHq7V6"
      }
    },
    {
      "cell_type": "code",
      "source": [
        "# -----"
      ],
      "metadata": {
        "id": "y8M_HdasrNR2"
      },
      "execution_count": null,
      "outputs": []
    },
    {
      "cell_type": "markdown",
      "source": [
        "**Q7.**  Display all the films whose rental duration is greater than 5 .\n",
        "\n",
        "**Ans:** To find all films with a rental duration longer than 5 days, you'll need to query the film table and use a WHERE clause to filter the results.\n",
        "```sql\n",
        "-- This query selects all information for films\n",
        "-- that can be rented for more than 5 days.\n",
        "-- The WHERE clause filters the 'film' table based on the 'rental_duration' column.\n",
        "\n",
        "SELECT *\n",
        "FROM film\n",
        "WHERE rental_duration > 5;\n",
        "\n",
        "```\n",
        "Explanation of the Query:\n",
        "  - SELECT *: This specifies that you want to retrieve all columns (like film_id, title, description, rental_duration, etc.) for the films that match the criteria.\n",
        "  - FROM film: This indicates that you are querying the film table.\n",
        "  - WHERE rental_duration > 5: This is the filtering condition. It instructs the database to only return rows where the value in the rental_duration column is strictly greater than 5."
      ],
      "metadata": {
        "id": "xBxwep9vrOcS"
      }
    },
    {
      "cell_type": "code",
      "source": [
        "# ---------"
      ],
      "metadata": {
        "id": "D3OBMNrprh3a"
      },
      "execution_count": null,
      "outputs": []
    },
    {
      "cell_type": "markdown",
      "source": [
        "**Q8.**  List the total number of films whose replacement cost is greater than $15 and less than $20.\n",
        "\n",
        "**Ans:** To find the total number of films within a specific replacement cost range, you need to use the COUNT() function along with a WHERE clause to filter the film table.\n",
        "\n",
        "```sql\n",
        "-- This query counts the total number of films\n",
        "-- whose replacement cost is strictly between $15 and $20.\n",
        "\n",
        "SELECT\n",
        "    COUNT(*) AS total_films\n",
        "FROM\n",
        "    film\n",
        "WHERE\n",
        "    replacement_cost > 15 AND replacement_cost < 20;\n",
        "```\n",
        "\n",
        "Explanation of the Query:\n",
        "  - SELECT COUNT(*): This is an aggregate function that counts the total number of rows that meet the specified conditions. We've given the resulting column an alias AS total_films for clarity.\n",
        "  - FROM film: This indicates that we are querying the film table.\n",
        "  - WHERE replacement_cost > 15 AND replacement_cost < 20: This clause filters the films to include only those whose replacement_cost is greater than 15 AND less than 20."
      ],
      "metadata": {
        "id": "SqCw_dIDrkJ4"
      }
    },
    {
      "cell_type": "code",
      "source": [
        "# --------"
      ],
      "metadata": {
        "id": "BZh09dmyr89C"
      },
      "execution_count": null,
      "outputs": []
    },
    {
      "cell_type": "markdown",
      "source": [
        "**Q9.**  Display the count of unique first names of actors\n",
        "\n",
        "**Ans:** To count how many different (unique) first names exist in the actor table, you need to use the COUNT() function combined with the DISTINCT keyword.\n",
        "\n",
        "This combination ensures that you are counting each unique name only once, regardless of how many times it appears in the table.\n",
        "\n",
        "```sql\n",
        "-- This query counts the number of unique first names present in the 'actor' table.\n",
        "-- COUNT(DISTINCT column_name) is used to count only the unique occurrences.\n",
        "\n",
        "SELECT\n",
        "    COUNT(DISTINCT first_name) AS unique_first_name_count\n",
        "FROM\n",
        "    actor;\n",
        "\n",
        "```\n",
        "Explanation of the Query:\n",
        "  - SELECT COUNT(DISTINCT first_name): This is the core of the query.\n",
        "  - DISTINCT first_name: This part first creates a temporary list of all the first names where each name appears only once.\n",
        "  - COUNT(...): This function then counts the number of items in that unique list.\n",
        "  - AS unique_first_name_count: This gives a clear, descriptive name to the resulting column in the output.\n",
        "  - FROM actor: This specifies that the operation should be performed on the actor table."
      ],
      "metadata": {
        "id": "xur4JLd0r9_z"
      }
    },
    {
      "cell_type": "code",
      "source": [
        "# ----------"
      ],
      "metadata": {
        "id": "jW-F1bDbsCTM"
      },
      "execution_count": null,
      "outputs": []
    },
    {
      "cell_type": "markdown",
      "source": [
        "**Q10.**  Display the first 10 records from the customer table .\n",
        "\n",
        "**Ans:**"
      ],
      "metadata": {
        "id": "0EXigVZEsDT5"
      }
    },
    {
      "cell_type": "code",
      "source": [],
      "metadata": {
        "id": "0RWq9ItGsHez"
      },
      "execution_count": null,
      "outputs": []
    },
    {
      "cell_type": "markdown",
      "source": [
        "**Q11.**  Display the first 3 records from the customer table whose first name starts with ‘b\n",
        "\n",
        "**Ans:** To display the first three records of customers whose first name begins with 'b', you need to filter the customer table with a WHERE clause and then restrict the number of results using the LIMIT clause.\n",
        "```sql\n",
        "-- This query retrieves the first 3 records from the 'customer' table\n",
        "-- for customers whose first name starts with the letter 'b'.\n",
        "\n",
        "SELECT *\n",
        "FROM customer\n",
        "WHERE first_name LIKE 'b%'\n",
        "LIMIT 3;\n",
        "```\n",
        "\n",
        "Explanation of the Query:\n",
        "  - SELECT *: This selects all columns for the customer records that match the filter.\n",
        "  - FROM customer: This specifies that you are querying the customer table.\n",
        "  - WHERE first_name LIKE 'b%': This is the filtering clause.\n",
        "  - The LIKE operator is used for pattern matching in strings.\n",
        "  - The pattern 'b%' tells the database to find any value in the first_name column that starts with the letter 'b', followed by any sequence of zero or more characters.\n",
        "  - LIMIT 3: This clause restricts the output to the first 3 rows that are returned after the WHERE clause is applied."
      ],
      "metadata": {
        "id": "qqCFyvBisHwf"
      }
    },
    {
      "cell_type": "code",
      "source": [],
      "metadata": {
        "id": "p2Lk53jcsJMb"
      },
      "execution_count": null,
      "outputs": []
    },
    {
      "cell_type": "markdown",
      "source": [
        "**Q12.** Display the names of the first 5 movies which are rated as ‘G’.\n",
        "\n",
        "**Ans:** To get the names of the first 5 movies with a 'G' rating, you need to query the film table, filter by the rating column, and then use the LIMIT clause to restrict the output.\n",
        "\n",
        "```sql\n",
        "-- This query retrieves the titles of the first 5 films\n",
        "-- that have a rating of 'G'.\n",
        "\n",
        "SELECT title\n",
        "FROM film\n",
        "WHERE rating = 'G'\n",
        "LIMIT 5;\n",
        "```\n",
        "\n",
        "Explanation of the Query:\n",
        "  - SELECT title: This specifies that you only want to see the title column in the final result.\n",
        "  - FROM film: This indicates that you are querying the film table.\n",
        "  - WHERE rating = 'G': This is the filtering condition. It tells the database to only consider rows where the value in the rating column is exactly 'G'.\n",
        "  - LIMIT 5: This clause is applied after the filtering and tells the database to stop after finding the first 5 matching records."
      ],
      "metadata": {
        "id": "fYcMlXuLsJf_"
      }
    },
    {
      "cell_type": "code",
      "source": [],
      "metadata": {
        "id": "DaeNpbNasKuf"
      },
      "execution_count": null,
      "outputs": []
    },
    {
      "cell_type": "markdown",
      "source": [
        "**Q13.** Find all customers whose first name starts with \"a\".\n",
        "\n",
        "**Ans:** To find all customers whose first name starts with the letter 'a', you need to query the customer table and use the LIKE operator for pattern matching.\n",
        "\n",
        "```sql\n",
        "-- This query finds all customers whose first name starts with the letter 'a'.\n",
        "-- The '%' is a wildcard character that matches any sequence of characters.\n",
        "\n",
        "SELECT *\n",
        "FROM customer\n",
        "WHERE first_name LIKE 'a%';\n",
        "```\n",
        "\n",
        "Explanation of the Query:\n",
        "  - SELECT *: This command selects all columns for the customer records.\n",
        "  - FROM customer: This specifies that the data should be retrieved from the customer table.\n",
        "  - WHERE first_name LIKE 'a%': This is the filtering clause that finds the customers.\n",
        "  - The LIKE operator is used to search for a specified pattern in a column.\n",
        "  - The pattern 'a%' tells the database to find any value that starts with a lowercase 'a' followed by any number of characters. Most SQL systems perform case-insensitive searches by default, so this will also match 'A'."
      ],
      "metadata": {
        "id": "ItBeMz2gsK-n"
      }
    },
    {
      "cell_type": "code",
      "source": [],
      "metadata": {
        "id": "oBBcctk2sMS5"
      },
      "execution_count": null,
      "outputs": []
    },
    {
      "cell_type": "markdown",
      "source": [
        "**Q14.** Find all customers whose first name ends with \"a\".\n",
        "\n",
        "**Ans:** To find all customers whose first name ends with the letter \"a\", you need to use the LIKE operator with a wildcard % at the beginning of the pattern.\n",
        "\n",
        "```sql\n",
        "-- This query finds all customers whose first name ends with the letter 'a'.\n",
        "-- The '%' wildcard at the beginning of the pattern matches any sequence of characters.\n",
        "\n",
        "SELECT *\n",
        "FROM customer\n",
        "WHERE first_name LIKE '%a';\n",
        "```\n",
        "\n",
        "Explanation of the Query:\n",
        "  - SELECT *: This command selects all columns for the customer records.\n",
        "  - FROM customer: This specifies that the data should be retrieved from the customer table.\n",
        "  - WHERE first_name LIKE '%a': This is the filtering clause.\n",
        "  - The LIKE operator is used to search for a specified pattern in a column.\n",
        "  - The pattern '%a' tells the database to find any value that has any number of characters (%) followed immediately by the letter 'a'. This effectively finds all names ending with 'a'."
      ],
      "metadata": {
        "id": "k4ugA28msMjA"
      }
    },
    {
      "cell_type": "code",
      "source": [],
      "metadata": {
        "id": "pgR6U41gsN8T"
      },
      "execution_count": null,
      "outputs": []
    },
    {
      "cell_type": "markdown",
      "source": [
        "**Q15.** Display the list of first 4 cities which start and end with ‘a’ .\n",
        "\n",
        "**Ans:** To get a list of the first 4 cities that both start and end with the letter 'a', you need to combine two LIKE conditions with an AND operator and then use LIMIT.\n",
        "\n",
        "```sql\n",
        "-- This query retrieves the names of the first 4 cities\n",
        "-- that start with the letter 'a' AND end with the letter 'a'.\n",
        "\n",
        "SELECT city\n",
        "FROM city\n",
        "WHERE city LIKE 'a%' AND city LIKE '%a'\n",
        "LIMIT 4;\n",
        "```\n",
        "\n",
        "Explanation of the Query:\n",
        "  - SELECT city: This specifies that you only want to see the city column in the result.\n",
        "  - FROM city: This indicates that you are querying the city table.\n",
        "  - WHERE city LIKE 'a%' AND city LIKE '%a': This is the filtering clause with two conditions joined by AND:\n",
        "  - city LIKE 'a%': Finds cities that start with 'a'.\n",
        "  - city LIKE '%a': Finds cities that end with 'a'.\n",
        "  - The AND operator ensures that only cities satisfying both conditions are returned.\n",
        "  - LIMIT 4: This clause restricts the output to the first 4 matching records found."
      ],
      "metadata": {
        "id": "sBeozMzisONN"
      }
    },
    {
      "cell_type": "code",
      "source": [],
      "metadata": {
        "id": "KJQtTAT_sPbP"
      },
      "execution_count": null,
      "outputs": []
    },
    {
      "cell_type": "markdown",
      "source": [
        "**Q16.** Find all customers whose first name have \"NI\" in any position.\n",
        "\n",
        "**Ans:** To find all customers whose first name contains \"NI\" in any position, you need to use the LIKE operator with wildcards (%) on both sides of the search string.\n",
        "\n",
        "```sql\n",
        "-- This query finds all customers whose first name contains the substring \"NI\".\n",
        "-- The '%' wildcards on both sides of 'NI' match any sequence of characters.\n",
        "\n",
        "SELECT *\n",
        "FROM customer\n",
        "WHERE first_name LIKE '%NI%';\n",
        "```\n",
        "\n",
        "Explanation of the Query:\n",
        "  - SELECT *: This command selects all columns for the customer records.\n",
        "  - FROM customer: This specifies that the data should be retrieved from the customer table.\n",
        "  - WHERE first_name LIKE '%NI%': This is the filtering clause.\n",
        "  - The LIKE operator is used to search for a specified pattern in a column.\n",
        "  - The pattern '%NI%' tells the database to find any value that contains the sequence 'NI' anywhere within it. The % before 'NI' matches any characters at the beginning of the name, and the % after 'NI' matches any characters at the end."
      ],
      "metadata": {
        "id": "yl4lyudMsP4L"
      }
    },
    {
      "cell_type": "code",
      "source": [],
      "metadata": {
        "id": "5ZBtuDlcsRn3"
      },
      "execution_count": null,
      "outputs": []
    },
    {
      "cell_type": "markdown",
      "source": [
        "**Q17.** Find all customers whose first name have \"r\" in the second position .\n",
        "\n",
        "**Ans:** To find all customers whose first name has the letter 'r' in the second position, you need to use the LIKE operator with the underscore (_) wildcard.\n",
        "\n",
        "```sql\n",
        "-- This query finds all customers whose first name has 'r' as the second letter.\n",
        "-- The underscore '_' is a wildcard that matches any single character.\n",
        "\n",
        "SELECT *\n",
        "FROM customer\n",
        "WHERE first_name LIKE '_r%';\n",
        "```\n",
        "\n",
        "Explanation of the Query:\n",
        "  - SELECT *: This command selects all columns for the customer records.\n",
        "  - FROM customer: This specifies that you are querying the customer table.\n",
        "  - WHERE first_name LIKE '_r%': This is the filtering clause that finds the specific pattern.\n",
        "  - The _ (underscore) wildcard matches exactly one single character.\n",
        "  - The % (percent sign) wildcard matches any sequence of zero or more characters.\n",
        "  - Therefore, the pattern '_r%' finds any name that starts with any single character, is immediately followed by the letter 'r', and then is followed by any other characters."
      ],
      "metadata": {
        "id": "nAGG0UP1sR-i"
      }
    },
    {
      "cell_type": "code",
      "source": [],
      "metadata": {
        "id": "HpE0kMGksTN2"
      },
      "execution_count": null,
      "outputs": []
    },
    {
      "cell_type": "markdown",
      "source": [
        "**Q18.** Find all customers whose first name starts with \"a\" and are at least 5 characters in length.\n",
        "\n",
        "**Ans:** To find all customers whose first name starts with \"a\" and is also at least five characters long, you need a WHERE clause with two conditions combined by the AND operator.\n",
        "\n",
        "```sql\n",
        "-- This query finds all customers whose first name starts with 'a'\n",
        "-- AND has a length of 5 or more characters.\n",
        "\n",
        "SELECT *\n",
        "FROM customer\n",
        "WHERE\n",
        "    first_name LIKE 'a%'\n",
        "    AND LENGTH(first_name) >= 5;\n",
        "```\n",
        "\n",
        "Explanation of the Query:\n",
        "  - SELECT *: This command selects all available columns for the customers.\n",
        "  - FROM customer: This specifies that you are querying the customer table.\n",
        "  - WHERE first_name LIKE 'a%' AND LENGTH(first_name) >= 5: This is the filtering clause that contains two conditions:\n",
        "  - first_name LIKE 'a%': This part ensures the customer's first name starts with the letter 'a'.\n",
        "  - AND: This logical operator requires that both conditions must be true for a row to be included in the result.\n",
        "  - LENGTH(first_name) >= 5: This part uses the LENGTH() function to calculate the number of characters in the first_name and ensures that the count is greater than or equal to 5."
      ],
      "metadata": {
        "id": "uUjTnoJtsTdB"
      }
    },
    {
      "cell_type": "code",
      "source": [],
      "metadata": {
        "id": "Ss498t-tsU-4"
      },
      "execution_count": null,
      "outputs": []
    },
    {
      "cell_type": "markdown",
      "source": [
        "**Q19.** Find all customers whose first name starts with \"a\" and ends with \"o\".\n",
        "\n",
        "**Ans:** To find all customers whose first name both starts with 'a' and ends with 'o', you can combine the patterns within a single LIKE operator.\n",
        "\n",
        "```sql\n",
        "-- This query finds all customers whose first name starts with 'a' and ends with 'o'.\n",
        "-- The pattern 'a%o' matches any string that begins with 'a',\n",
        "-- has any characters in the middle, and finishes with 'o'.\n",
        "\n",
        "SELECT *\n",
        "FROM customer\n",
        "WHERE first_name LIKE 'a%o';\n",
        "```\n",
        "\n",
        "Explanation of the Query:\n",
        "  - SELECT *: This selects all columns for the customer records that match the filter.\n",
        "  - FROM customer: This specifies that you are querying the customer table.\n",
        "  - WHERE first_name LIKE 'a%o': This is the filtering clause.\n",
        "  - 'a%o' is a powerful pattern that combines two conditions:\n",
        "  - a: The name must start with the letter 'a'.\n",
        "  - %: The percent sign is a wildcard that matches any sequence of zero or more characters in the middle.\n",
        "  - o: The name must end with the letter 'o'."
      ],
      "metadata": {
        "id": "zWFza6_hsVRr"
      }
    },
    {
      "cell_type": "code",
      "source": [],
      "metadata": {
        "id": "-QOtmn4XsWMy"
      },
      "execution_count": null,
      "outputs": []
    },
    {
      "cell_type": "markdown",
      "source": [
        "**Q20.** Get the films with pg and pg-13 rating using IN operator.\n",
        "\n",
        "**Ans:** To get all films that are rated either 'PG' or 'PG-13', you can use the IN operator to specify both ratings in the WHERE clause.\n",
        "\n",
        "```sql\n",
        "-- This query selects all information for films that have a rating of either 'PG' or 'PG-13'.\n",
        "-- The IN operator is used to specify a list of possible values for the 'rating' column.\n",
        "\n",
        "SELECT *\n",
        "FROM film\n",
        "WHERE rating IN ('PG', 'PG-13');\n",
        "```\n",
        "\n",
        "Explanation of the Query:\n",
        "  - SELECT *: This command selects all columns for the films that match the filter.\n",
        "  - FROM film: This specifies that you are querying the film table.\n",
        "  - WHERE rating IN ('PG', 'PG-13'): This is the filtering clause.\n",
        "  - The IN operator allows you to provide a list of values.\n",
        "  - The query will return any row where the value in the rating column matches any one of the values inside the parentheses ('PG' or 'PG-13'). It's a more concise way of writing WHERE rating = 'PG' OR rating = 'PG-13'."
      ],
      "metadata": {
        "id": "DMuNJhJbsWhm"
      }
    },
    {
      "cell_type": "code",
      "source": [],
      "metadata": {
        "id": "2dzl_UMPsYA3"
      },
      "execution_count": null,
      "outputs": []
    },
    {
      "cell_type": "markdown",
      "source": [
        "**Q21.** Get the films with length between 50 to 100 using between operator.\n",
        "\n",
        "**Ans:** To get all films with a length between 50 and 100 minutes, you should use the BETWEEN operator in your WHERE\n",
        "\n",
        "```sql\n",
        "-- This query selects all information for films with a length\n",
        "-- between 50 and 100 minutes, inclusive.\n",
        "\n",
        "SELECT *\n",
        "FROM film\n",
        "WHERE length BETWEEN 50 AND 100;\n",
        "```\n",
        "\n",
        "Explanation of the Query:\n",
        "  - SELECT *: This command selects all columns for the films that match the filter.\n",
        "  - FROM film: This specifies that you are querying the film table.\n",
        "  - WHERE length BETWEEN 50 AND 100: This is the filtering clause.\n",
        "  - The BETWEEN operator is used to select values within a given range.\n",
        "  - It is inclusive, meaning it will include films with a length of exactly 50 and exactly 100 minutes, as well as everything in between. It's equivalent to writing WHERE length >= 50 AND length <= 100."
      ],
      "metadata": {
        "id": "M6mxSGBDsYRI"
      }
    },
    {
      "cell_type": "code",
      "source": [],
      "metadata": {
        "id": "mBjpkBIOsZeE"
      },
      "execution_count": null,
      "outputs": []
    },
    {
      "cell_type": "markdown",
      "source": [
        "**Q22.** Get the top 50 actors using limit operator.\n",
        "\n",
        "**Ans:** To get the top 50 actors from the database, you simply need to select from the actor table and use the LIMIT operator to restrict the number of rows returned.\n",
        "\n",
        "```sql\n",
        "-- This query retrieves the first 50 records from the 'actor' table.\n",
        "-- The LIMIT clause is used to restrict the number of rows returned.\n",
        "\n",
        "SELECT *\n",
        "FROM actor\n",
        "LIMIT 50;\n",
        "```\n",
        "\n",
        "Explanation of the Query:\n",
        "  - SELECT *: This command selects all columns for the actor records.\n",
        "  - FROM actor: This specifies that you are querying the actor table.\n",
        "  - LIMIT 50: This is a crucial clause that tells the database to stop processing and return the result set after it has found 50 rows. Without an ORDER BY clause, the \"top 50\" will be the first 50 actors as they are stored in the database, which is typically by actor_id."
      ],
      "metadata": {
        "id": "uxqlggZgsZu-"
      }
    },
    {
      "cell_type": "code",
      "source": [],
      "metadata": {
        "id": "hfs5_A41sadd"
      },
      "execution_count": null,
      "outputs": []
    },
    {
      "cell_type": "markdown",
      "source": [
        "**Q23.** Get the distinct film ids from inventory table.\n",
        "\n",
        "**Ans:** To get a distinct list of film IDs from the inventory table, you need to select the film_id column and use the DISTINCT keyword to remove duplicate entries.\n",
        "\n",
        "This is useful because the inventory table lists every single copy of a film, so a popular film might appear many times. DISTINCT ensures you see each film_id only once.\n",
        "\n",
        "```sql\n",
        "-- This query retrieves a unique list of all film_id values\n",
        "-- present in the 'inventory' table.\n",
        "\n",
        "SELECT DISTINCT film_id\n",
        "FROM inventory;\n",
        "```\n",
        "\n",
        "Explanation of the Query:\n",
        "  - SELECT DISTINCT film_id: This command tells the database to retrieve the values from the film_id column. The DISTINCT keyword filters this list to ensure that each unique film_id is returned only one time, no matter how many copies of that film exist in the inventory.\n",
        "  - FROM inventory: This specifies that the data should be pulled from the inventory table."
      ],
      "metadata": {
        "id": "DNAuYEYFsazC"
      }
    },
    {
      "cell_type": "code",
      "source": [],
      "metadata": {
        "id": "yokIjvKFT4NG"
      },
      "execution_count": null,
      "outputs": []
    },
    {
      "cell_type": "markdown",
      "source": [
        "###Functions\n",
        "**Basic Aggregate Functions:**\n"
      ],
      "metadata": {
        "id": "0AJ5cfE3T4f4"
      }
    },
    {
      "cell_type": "markdown",
      "source": [
        "**Question 1:** Retrieve the total number of rentals made in the Sakila database.\n",
        "\n",
        "(*Hint: Use the COUNT() function.*)\n",
        "\n",
        "**Ans:** To retrieve the total number of rentals, you need to count all the rows in the rental table using the COUNT() function.\n",
        "```sql\n",
        "-- This query counts the total number of records in the 'rental' table\n",
        "-- to find the total number of rentals made.\n",
        "\n",
        "SELECT\n",
        "    COUNT(*) AS total_rentals\n",
        "FROM\n",
        "    rental;\n",
        "```\n",
        "\n",
        "Explanation of the Query:\n",
        "  - SELECT COUNT(*): This is the core of the query. The COUNT() function is an aggregate function that counts the number of rows. The asterisk (*) is a wildcard that tells the function to count every single row in the table, regardless of column values.\n",
        "  - AS total_rentals: This is an alias, which gives a temporary, descriptive name to the result column.\n",
        "  - FROM rental: This specifies that the counting should be performed on the rental table."
      ],
      "metadata": {
        "id": "X6vnCHUfT5Jg"
      }
    },
    {
      "cell_type": "code",
      "source": [],
      "metadata": {
        "id": "vvQ0rQb_T5Xm"
      },
      "execution_count": null,
      "outputs": []
    },
    {
      "cell_type": "markdown",
      "source": [
        "**Question 2:** Find the average rental duration (in days) of movies rented from the Sakila database.\n",
        "\n",
        "(*Hint: Utilize the AVG() function.*)\n",
        "\n",
        "**Ans:** To find the average rental duration of movies, you need to use the AVG() function on the rental_duration column in the film table.\n",
        "\n",
        "```sql\n",
        "-- This query calculates the average rental duration for all films\n",
        "-- in the 'film' table.\n",
        "\n",
        "SELECT\n",
        "    AVG(rental_duration) AS average_rental_duration\n",
        "FROM\n",
        "    film;\n",
        "```\n",
        "\n",
        "Explanation of the Query:\n",
        "  - SELECT AVG(rental_duration): This command uses the AVG() aggregate function to calculate the average value of all entries in the rental_duration column.\n",
        "  - AS average_rental_duration: This is an alias that gives a clean, readable name to the resulting column.\n",
        "  - FROM film: This specifies that the calculation should be performed on the film table."
      ],
      "metadata": {
        "id": "pVmoirmQT5rK"
      }
    },
    {
      "cell_type": "code",
      "source": [],
      "metadata": {
        "id": "ZYWMZ3IdT5_W"
      },
      "execution_count": null,
      "outputs": []
    },
    {
      "cell_type": "markdown",
      "source": [
        "**Question 3:** Display the first name and last name of customers in uppercase.\n",
        "\n",
        "(*Hint: Use the UPPER () function.*)\n",
        "\n",
        "**Ans:** To display the first and last names of all customers in uppercase, you need to apply the UPPER() function to the first_name and last_name columns.\n",
        "\n",
        "```sql\n",
        "-- This query retrieves the first name and last name of each customer\n",
        "-- and converts them to uppercase using the UPPER() function.\n",
        "\n",
        "SELECT\n",
        "    UPPER(first_name) AS upper_first_name,\n",
        "    UPPER(last_name) AS upper_last_name\n",
        "FROM\n",
        "    customer;\n",
        "```\n",
        "\n",
        "Explanation of the Query:\n",
        "  - SELECT UPPER(first_name) AS upper_first_name, UPPER(last_name) AS upper_last_name: This command selects two columns.\n",
        "  - The UPPER() function is applied to both the first_name and last_name columns, which converts all characters in those fields to their uppercase form.\n",
        "  - AS is used to create a clear alias for each new column.\n",
        "  - FROM customer: This specifies that the data should be retrieved from the customer table."
      ],
      "metadata": {
        "id": "RcW5MOrQT6l9"
      }
    },
    {
      "cell_type": "code",
      "source": [],
      "metadata": {
        "id": "Ekr5LviwT66e"
      },
      "execution_count": null,
      "outputs": []
    },
    {
      "cell_type": "markdown",
      "source": [
        "**Question 4:** Extract the month from the rental date and display it alongside the rental ID.\n",
        "\n",
        "(*Hint: Employ the MONTH() function.*)\n",
        "\n",
        "**Ans:** To extract the month from the rental_date for each rental, you can use the MONTH() function on the rental_date column.\n",
        "```sql\n",
        "-- This query retrieves the rental ID and extracts the month\n",
        "-- from the rental_date column for each rental.\n",
        "\n",
        "SELECT\n",
        "    rental_id,\n",
        "    MONTH(rental_date) AS rental_month\n",
        "FROM\n",
        "    rental;\n",
        "```\n",
        "\n",
        "Explanation of the Query:\n",
        "  - SELECT rental_id, MONTH(rental_date) AS rental_month: This command selects two columns:\n",
        "  - rental_id: The unique identifier for the rental.\n",
        "  - MONTH(rental_date): The MONTH() function is a date function that takes a date or datetime value (in this case, rental_date) and returns the month as an integer (from 1 for January to 12 for December).\n",
        "  - AS rental_month: This gives a clear and descriptive name to the new column containing the extracted month.\n",
        "  - FROM rental: This specifies that the data should be retrieved from the rental table."
      ],
      "metadata": {
        "id": "F4sktAKzT7Kc"
      }
    },
    {
      "cell_type": "code",
      "source": [],
      "metadata": {
        "id": "Ol_44BBJT7kG"
      },
      "execution_count": null,
      "outputs": []
    },
    {
      "cell_type": "markdown",
      "source": [
        "###GROUP BY:"
      ],
      "metadata": {
        "id": "V0TAS0gYVntj"
      }
    },
    {
      "cell_type": "markdown",
      "source": [
        "**Question 5:** Retrieve the count of rentals for each customer (display customer ID and the count of rentals).\n",
        "\n",
        "(*Hint: Use COUNT () in conjunction with GROUP BY.*)\n",
        "\n",
        "**Ans:** To get the total number of rentals for each customer, you need to count the rentals and then group them by the customer_id.\n",
        "\n",
        "```sql\n",
        "-- This query counts the number of rentals made by each customer.\n",
        "-- It groups the rows by customer_id and then counts the rentals within each group.\n",
        "\n",
        "SELECT\n",
        "    customer_id,\n",
        "    COUNT(rental_id) AS rental_count\n",
        "FROM\n",
        "    rental\n",
        "GROUP BY\n",
        "    customer_id\n",
        "ORDER BY\n",
        "    rental_count DESC; -- Optional: Orders the result to show customers with the most rentals first.\n",
        "```\n",
        "\n",
        "Explanation of the Query:\n",
        "  - SELECT customer_id, COUNT(rental_id) AS rental_count: This selects the customer_id and then uses the COUNT() function to count the number of rental_ids for each customer. The result of the count is given the alias rental_count.\n",
        "  - FROM rental: This specifies that you are querying the rental table.\n",
        "  - GROUP BY customer_id: This is the key part of the query. It groups all the rows with the same customer_id into a single summary row. The COUNT() function then operates on each of these groups individually.\n",
        "  - ORDER BY rental_count DESC: This optional clause sorts the results in descending order, so you can easily see which customers have rented the most movies."
      ],
      "metadata": {
        "id": "rhv2YG0OT8Kb"
      }
    },
    {
      "cell_type": "code",
      "source": [],
      "metadata": {
        "id": "zn0wNtJXT8aQ"
      },
      "execution_count": null,
      "outputs": []
    },
    {
      "cell_type": "markdown",
      "source": [
        "**Question 6:** Find the total revenue generated by each store.\n",
        "\n",
        "(*Hint: Combine SUM() and GROUP BY.*)\n",
        "\n",
        "**Ans:** To calculate the total revenue generated by each store, you'll need to join multiple tables to link payments to their respective stores and then use SUM() with GROUP BY.\n",
        "\n",
        "The logical path is: payment → rental → inventory → store.\n",
        "\n",
        "```sql\n",
        "-- This query calculates the total revenue for each store.\n",
        "-- It joins the payment, rental, inventory, and store tables to link each payment\n",
        "-- to a store, then groups by the store_id to sum the revenue.\n",
        "\n",
        "SELECT\n",
        "    s.store_id,\n",
        "    SUM(p.amount) AS total_revenue\n",
        "FROM\n",
        "    payment p\n",
        "INNER JOIN\n",
        "    rental r ON p.rental_id = r.rental_id\n",
        "INNER JOIN\n",
        "    inventory i ON r.inventory_id = i.inventory_id\n",
        "INNER JOIN\n",
        "    store s ON i.store_id = s.store_id\n",
        "GROUP BY\n",
        "    s.store_id;\n",
        "```\n",
        "\n",
        "Explanation of the Query:\n",
        "  - SELECT s.store_id, SUM(p.amount) AS total_revenue: This selects the store_id to identify each store and uses the SUM() function on the amount column from the payment table to calculate the total revenue. The result is aliased as total_revenue.\n",
        "  - FROM payment p: The query starts with the payment table, which contains the revenue data.\n",
        "  - INNER JOIN ...: Three INNER JOIN clauses are used to connect the tables:\n",
        "  - payment is joined with rental on rental_id.\n",
        "  - rental is joined with inventory on inventory_id.\n",
        "  - inventory is joined with store on store_id. This final join successfully links each payment to a specific store.\n",
        "  - GROUP BY s.store_id: This crucial clause groups all the payments by their store_id. The SUM() function then calculates the total revenue for each of these distinct store groups."
      ],
      "metadata": {
        "id": "O8D87EZvT99c"
      }
    },
    {
      "cell_type": "code",
      "source": [],
      "metadata": {
        "id": "b7ZcHfRPT-Nk"
      },
      "execution_count": null,
      "outputs": []
    },
    {
      "cell_type": "markdown",
      "source": [
        "**Question 7:** Determine the total number of rentals for each category of movies.\n",
        "\n",
        "(*Hint: JOIN film_category, film, and rental tables, then use cOUNT () and GROUP BY.*)\n",
        "\n",
        "**Ans:** To determine the total number of rentals for each movie category, you need to join the tables that link categories to films and films to rentals, then aggregate the results.\n",
        "\n",
        "The logical path is: category → film_category → inventory → rental.\n",
        "\n",
        "```sql\n",
        "-- This query calculates the total number of rentals for each movie category.\n",
        "-- It joins the necessary tables to link categories to rentals,\n",
        "-- then groups by the category name to count the rentals in each group.\n",
        "\n",
        "SELECT\n",
        "    c.name AS category_name,\n",
        "    COUNT(r.rental_id) AS rental_count\n",
        "FROM\n",
        "    category c\n",
        "INNER JOIN\n",
        "    film_category fc ON c.category_id = fc.category_id\n",
        "INNER JOIN\n",
        "    inventory i ON fc.film_id = i.film_id\n",
        "INNER JOIN\n",
        "    rental r ON i.inventory_id = r.inventory_id\n",
        "GROUP BY\n",
        "    c.name\n",
        "ORDER BY\n",
        "    rental_count DESC; -- Optional: Orders the results to show the most popular categories first.\n",
        "```\n",
        "\n",
        "Explanation of the Query:\n",
        "  - SELECT c.name AS category_name, COUNT(r.rental_id) AS rental_count: This selects the category name and uses COUNT() on rental_id to count every rental transaction. The columns are aliased for clarity.\n",
        "  - FROM category c: The query starts from the category table.\n",
        "  - INNER JOIN ...: A series of INNER JOINs connects the tables:\n",
        "  - category is linked to film_category by category_id.\n",
        "  - film_category is linked to inventory by film_id.\n",
        "  - inventory is linked to rental by inventory_id. This successfully connects each rental to its film's category.\n",
        "  - GROUP BY c.name: This crucial clause groups all the rentals by their category name. The COUNT() function then calculates the total for each distinct category.\n",
        "  - ORDER BY rental_count DESC: This optional clause sorts the results to easily see which categories are the most rented."
      ],
      "metadata": {
        "id": "RBmfKtBqT-mw"
      }
    },
    {
      "cell_type": "code",
      "source": [],
      "metadata": {
        "id": "vXLu5ULHT_EU"
      },
      "execution_count": null,
      "outputs": []
    },
    {
      "cell_type": "markdown",
      "source": [
        "**Question 8:** Find the average rental rate of movies in each language.\n",
        "\n",
        "(*Hint: JOIN film and language tables, then use AVG () and GROUP BY.*)\n",
        "\n",
        "**Ans:** To find the average rental rate for movies in each language, you need to join the film and language tables, and then use the AVG() function with GROUP BY.\n",
        "\n",
        "```sql\n",
        "-- This query calculates the average rental rate for films, grouped by their language.\n",
        "-- It joins the film and language tables to get the name of each language.\n",
        "\n",
        "SELECT\n",
        "    l.name AS language,\n",
        "    AVG(f.rental_rate) AS average_rental_rate\n",
        "FROM\n",
        "    film f\n",
        "INNER JOIN\n",
        "    language l ON f.language_id = l.language_id\n",
        "GROUP BY\n",
        "    l.name\n",
        "ORDER BY\n",
        "    average_rental_rate DESC; -- Optional: Orders the results to show languages with the highest average rate first.\n",
        "```\n",
        "\n",
        "Explanation of the Query:\n",
        "  - SELECT l.name AS language, AVG(f.rental_rate) AS average_rental_rate: This selects the language name from the language table and calculates the average of the rental_rate from the film table. Both columns are given clear aliases.\n",
        "  - FROM film f INNER JOIN language l ON f.language_id = l.language_id: This joins the film table with the language table on their common language_id column, allowing you to associate each film with its language's name.\n",
        "  - GROUP BY l.name: This clause groups all the films by their language name. The AVG() function then calculates the average rental rate for all films within each distinct language group."
      ],
      "metadata": {
        "id": "F_qPYOxxT_cu"
      }
    },
    {
      "cell_type": "code",
      "source": [],
      "metadata": {
        "id": "wy4uFgUOT_yU"
      },
      "execution_count": null,
      "outputs": []
    },
    {
      "cell_type": "markdown",
      "source": [
        "###Joins"
      ],
      "metadata": {
        "id": "gnoGTgiFUAAO"
      }
    },
    {
      "cell_type": "markdown",
      "source": [
        "**Question 9:** Display the title of the movie, customer s first name, and last name who rented it.\n",
        "\n",
        "(*Hint: Use JOIN between the film, inventory, rental, and customer tables.*)\n",
        "\n",
        "**Ans:** To display the movie title along with the first and last name of the customer who rented it, you need to join four tables together: customer, rental, inventory, and film.\n",
        "\n",
        "```sql\n",
        "-- This query retrieves the movie title and the full name of the customer who rented it.\n",
        "-- It requires joining four tables to connect customers to the films they rented.\n",
        "\n",
        "SELECT\n",
        "    f.title,\n",
        "    c.first_name,\n",
        "    c.last_name\n",
        "FROM\n",
        "    rental r\n",
        "INNER JOIN\n",
        "    customer c ON r.customer_id = c.customer_id\n",
        "INNER JOIN\n",
        "    inventory i ON r.inventory_id = i.inventory_id\n",
        "INNER JOIN\n",
        "    film f ON i.film_id = f.film_id\n",
        "ORDER BY\n",
        "    r.rental_date DESC -- Optional: Shows the most recent rentals first.\n",
        "LIMIT 10; -- Optional: Limits the output to a manageable number for display.\n",
        "```\n",
        "\n",
        "Explanation of the Query:\n",
        "  - SELECT f.title, c.first_name, c.last_name: This specifies the three columns you want to display: the movie's title, and the customer's first and last names.\n",
        "  - FROM rental r: The query starts from the rental table as it is the central link between customers and the film inventory.\n",
        "  - INNER JOIN ...: A series of INNER JOINs are used to connect the tables:\n",
        "  - rental is joined with customer on customer_id to get the customer's name.\n",
        "  - rental is then joined with inventory on inventory_id to find out which specific copy of a film was rented.\n",
        "  - Finally, inventory is joined with film on film_id to get the title of that film.\n",
        "  - ORDER BY and LIMIT: These optional clauses are added to make the output more readable by showing the 10 most recent rentals."
      ],
      "metadata": {
        "id": "9FLMF8tsX8r0"
      }
    },
    {
      "cell_type": "code",
      "source": [],
      "metadata": {
        "id": "QuT9Bg9UUAVY"
      },
      "execution_count": null,
      "outputs": []
    },
    {
      "cell_type": "markdown",
      "source": [
        "**Question 10:** Retrieve the names of all actors who have appeared in the film \"Gone with the Wind.\"\n",
        "\n",
        "(*Hint: Use JOIN between the film actor, film, and actor tables.*)\n",
        "\n",
        "**Ans:** To get the names of all actors who appeared in the film \"Gone with the Wind,\" you need to join the actor, film_actor, and film tables.\n",
        "\n",
        "```sql\n",
        "-- This query retrieves the first and last names of all actors\n",
        "-- who have appeared in the film titled 'Gone with the Wind'.\n",
        "\n",
        "SELECT\n",
        "    a.first_name,\n",
        "    a.last_name\n",
        "FROM\n",
        "    actor a\n",
        "INNER JOIN\n",
        "    film_actor fa ON a.actor_id = fa.actor_id\n",
        "INNER JOIN\n",
        "    film f ON fa.film_id = f.film_id\n",
        "WHERE\n",
        "    f.title = 'Gone with the Wind';\n",
        "```\n",
        "\n",
        "Explanation of the Query:\n",
        "  - SELECT a.first_name, a.last_name: This specifies that you want to retrieve the first and last names from the actor table.\n",
        "  - FROM actor a: The query starts with the actor table.\n",
        "  - INNER JOIN ...: Two INNER JOINs are used to create the link:\n",
        "  - The actor table is joined with the film_actor junction table on actor_id.\n",
        "  - The result is then joined with the film table on film_id.\n",
        "  - WHERE f.title = 'Gone with the Wind': This crucial clause filters the massive joined table to include only the records associated with the film titled \"Gone with the Wind\"."
      ],
      "metadata": {
        "id": "dsoHxlkeUCMG"
      }
    },
    {
      "cell_type": "code",
      "source": [],
      "metadata": {
        "id": "DDl-JrMuUCe4"
      },
      "execution_count": null,
      "outputs": []
    },
    {
      "cell_type": "markdown",
      "source": [
        "**Question 11:** Retrieve the customer names along with the total amount they've spent on rentals.\n",
        "\n",
        "(*Hint: JOIN customer, payment, and rental tables, then use SUM() and GROUP BY.*)\n",
        "\n",
        "**Ans:** To get the total amount each customer has spent, you need to join the customer and payment tables and then group the results by customer to sum their payments.\n",
        "\n",
        "(Note: While the hint mentions the rental table, a more direct join between customer and payment is sufficient, as the payment table already includes the customer_id.)\n",
        "\n",
        "```sql\n",
        "-- This query calculates the total amount of money each customer has spent on rentals.\n",
        "-- It joins the customer and payment tables, then groups by customer to sum their payments.\n",
        "\n",
        "SELECT\n",
        "    c.first_name,\n",
        "    c.last_name,\n",
        "    SUM(p.amount) AS total_spent\n",
        "FROM\n",
        "    customer c\n",
        "INNER JOIN\n",
        "    payment p ON c.customer_id = p.customer_id\n",
        "GROUP BY\n",
        "    c.customer_id, c.first_name, c.last_name\n",
        "ORDER BY\n",
        "    total_spent DESC; -- Optional: Orders the results to show the highest-spending customers first.\n",
        "```\n",
        "\n",
        "Explanation of the Query:\n",
        "  - SELECT c.first_name, c.last_name, SUM(p.amount) AS total_spent: This selects the customer's full name and uses the SUM() function on the amount column to calculate their total spending. The result is given the alias total_spent.\n",
        "  - FROM customer c INNER JOIN payment p ON c.customer_id = p.customer_id: This joins the customer table with the payment table on their common customer_id. This links every payment to the customer who made it.\n",
        "  - GROUP BY c.customer_id, c.first_name, c.last_name: This crucial clause groups all payments made by the same customer. The SUM() function then calculates the total for each individual customer group.\n",
        "  - ORDER BY total_spent DESC: This optional clause sorts the results to list the top-spending customers first, which is often the most useful view."
      ],
      "metadata": {
        "id": "Ymik8OreUCxf"
      }
    },
    {
      "cell_type": "code",
      "source": [],
      "metadata": {
        "id": "D6-LSh6OUDKs"
      },
      "execution_count": null,
      "outputs": []
    },
    {
      "cell_type": "markdown",
      "source": [
        "**Question 12:** List the titles of movies rented by each customer in a particular city (e.g., 'London').\n",
        "\n",
        "(*Hint: JOIN customer, address, city, rental, inventory, and film tables, then use GROUP BY.*)\n",
        "\n",
        "**Ans:** To get a list of movie titles rented by each customer in a specific city like 'London', you need to perform a multi-table join and then use GROUP_CONCAT() to aggregate the titles for each customer.\n",
        "\n",
        "```sql\n",
        "-- This query lists each customer in London and all the movie titles they have rented.\n",
        "-- It requires joining six tables to connect customers in a specific city to the films they rented.\n",
        "\n",
        "SELECT\n",
        "    c.first_name,\n",
        "    c.last_name,\n",
        "    GROUP_CONCAT(f.title SEPARATOR '; ') AS rented_movies\n",
        "FROM\n",
        "    customer c\n",
        "INNER JOIN\n",
        "    address a ON c.address_id = a.address_id\n",
        "INNER JOIN\n",
        "    city ci ON a.city_id = ci.city_id\n",
        "INNER JOIN\n",
        "    rental r ON c.customer_id = r.customer_id\n",
        "INNER JOIN\n",
        "    inventory i ON r.inventory_id = i.inventory_id\n",
        "INNER JOIN\n",
        "    film f ON i.film_id = f.film_id\n",
        "WHERE\n",
        "    ci.city = 'London'\n",
        "GROUP BY\n",
        "    c.customer_id, c.first_name, c.last_name\n",
        "ORDER BY\n",
        "    c.first_name;\n",
        "```\n",
        "\n",
        "Explanation of the Query:\n",
        "  - SELECT c.first_name, c.last_name, GROUP_CONCAT(f.title SEPARATOR '; ') AS rented_movies:\n",
        "    - This selects the customer's name.\n",
        "    - GROUP_CONCAT(f.title SEPARATOR '; ') is an aggregate function that takes all the movie titles belonging to a customer (after grouping) and combines them into a single string, separated by a semicolon and a space.\n",
        "  - FROM customer c and INNER JOIN ...: This section links all six tables together:\n",
        "    1. customer is joined to address to find where the customer lives.\n",
        "    2. address is joined to city to get the city name.\n",
        "    3. customer is joined to rental to find their rentals.\n",
        "    4. rental is joined to inventory to find which film copy was rented.\n",
        "    5. inventory is joined to film to get the movie's title.\n",
        "  - WHERE ci.city = 'London': This filters the entire joined result to include only records for customers who live in 'London'.\n",
        "  - GROUP BY c.customer_id, c.first_name, c.last_name: This groups all the rows by customer, so that GROUP_CONCAT() can aggregate all the rented movie titles for each unique customer."
      ],
      "metadata": {
        "id": "Zphspqc5UDjF"
      }
    },
    {
      "cell_type": "code",
      "source": [],
      "metadata": {
        "id": "rHmY9EKIUEf-"
      },
      "execution_count": null,
      "outputs": []
    },
    {
      "cell_type": "markdown",
      "source": [
        "### Advanced Joins and GROUP BY:"
      ],
      "metadata": {
        "id": "pN_fMPK6ZwUu"
      }
    },
    {
      "cell_type": "markdown",
      "source": [
        "**Question 13:** Display the top 5 rented movies along with the number of times they've been rented.\n",
        "\n",
        "(*Hint: JOIN film, inventory, and rental tables, then use COUNT () and GROUP BY, and limit the results.*)\n",
        "\n",
        "**Ans:** To determine the top 5 most rented movies, you need to count the number of rentals for each film and then select the highest counts. This requires joining the tables that connect a rental transaction to a specific film title.\n",
        "\n",
        "```sql\n",
        "-- This query identifies the top 5 most rented movies by counting\n",
        "-- the number of rental records associated with each film.\n",
        "\n",
        "SELECT\n",
        "    f.title,\n",
        "    COUNT(r.rental_id) AS rental_count\n",
        "FROM\n",
        "    rental r\n",
        "INNER JOIN\n",
        "    inventory i ON r.inventory_id = i.inventory_id\n",
        "INNER JOIN\n",
        "    film f ON i.film_id = f.film_id\n",
        "GROUP BY\n",
        "    f.title\n",
        "ORDER BY\n",
        "    rental_count DESC\n",
        "LIMIT 5;\n",
        "\n",
        "```\n",
        "\n",
        "Explanation of the Query:\n",
        "  - SELECT f.title, COUNT(r.rental_id) AS rental_count: This selects the film's title and uses COUNT() to count every rental associated with it. The count is given the clear alias rental_count.\n",
        "  - FROM rental r and INNER JOIN ...:\n",
        "    1. The query starts with the rental table, which contains the transaction data.\n",
        "    2. It's joined to inventory on inventory_id to identify which film copy was rented.\n",
        "    3. That is then joined to film on film_id to get the actual title of the movie.\n",
        "  - GROUP BY f.title: This is a crucial step that groups all rental records by the movie title, ensuring that the COUNT() function aggregates the total rentals for each individual movie.\n",
        "  - ORDER BY rental_count DESC: This sorts the grouped results from the highest rental count to the lowest.\n",
        "  - LIMIT 5: This final clause restricts the output to only the top 5 rows from the sorted result set."
      ],
      "metadata": {
        "id": "oJU1dgQ9UE1j"
      }
    },
    {
      "cell_type": "code",
      "source": [],
      "metadata": {
        "id": "7yzN8GYQUFY5"
      },
      "execution_count": null,
      "outputs": []
    },
    {
      "cell_type": "markdown",
      "source": [
        "**Question 14:** Determine the customers who have rented movies from both stores (store ID 1 and store ID 2).\n",
        "\n",
        "(*Hint: Use JOINS with rental, inventory, and customer tables and consider COUNT() and GROUP BY.*)\n",
        "\n",
        "**Ans:** To find customers who have rented from both Store 1 and Store 2, you need to identify which unique stores each customer has rented from and then filter for those who have rented from exactly two different stores.\n",
        "```sql\n",
        "-- This query identifies customers who have rented movies from both store 1 and store 2.\n",
        "-- It works by counting the number of distinct stores each customer has rented from\n",
        "-- and then filtering for those where the count is 2.\n",
        "\n",
        "SELECT\n",
        "    c.first_name,\n",
        "    c.last_name\n",
        "FROM\n",
        "    customer c\n",
        "INNER JOIN\n",
        "    rental r ON c.customer_id = r.customer_id\n",
        "INNER JOIN\n",
        "    inventory i ON r.inventory_id = i.inventory_id\n",
        "GROUP BY\n",
        "    c.customer_id, c.first_name, c.last_name\n",
        "HAVING\n",
        "    COUNT(DISTINCT i.store_id) = 2;\n",
        "```\n",
        "\n",
        "Explanation of the Query:\n",
        "  - SELECT c.first_name, c.last_name: This selects the names of the customers who meet the criteria.\n",
        "  - FROM customer c and INNER JOIN ...:\n",
        "    1. The query starts with the customer table.\n",
        "    2. It's joined to rental to find all of a customer's rental transactions.\n",
        "    3. That result is then joined to inventory to find out which store_id each rental belongs to.\n",
        "  - GROUP BY c.customer_id, c.first_name, c.last_name: This groups all the rental records by customer.\n",
        "  - HAVING COUNT(DISTINCT i.store_id) = 2: This is the key filtering step that happens after grouping.\n",
        "    - COUNT(DISTINCT i.store_id): For each customer group, this counts the number of unique store IDs they have rented from.\n",
        "    - =2 :The HAVING clause then filters these groups, keeping only those customers for whom the distinct store count is exactly 2. Since there are only two stores in the database, this effectively finds the customers who have rented from both."
      ],
      "metadata": {
        "id": "BgBRYt14UF-m"
      }
    },
    {
      "cell_type": "code",
      "source": [],
      "metadata": {
        "id": "z-LA5FvIUGQ6"
      },
      "execution_count": null,
      "outputs": []
    },
    {
      "cell_type": "markdown",
      "source": [
        "### Windows Function:\n"
      ],
      "metadata": {
        "id": "5ZYep3bgUG6z"
      }
    },
    {
      "cell_type": "markdown",
      "source": [
        "***Question 1:** Rank the customers based on the total amount they've spent on rentals.\n",
        "\n",
        "**Ans:** To rank customers based on the total amount they've spent, you first need to calculate the total for each customer and then apply the RANK() window function to that result.\n",
        "\n",
        "A Common Table Expression (CTE) is a clean way to structure this query.\n",
        "\n",
        "```sql\n",
        "-- This query ranks customers based on their total rental spending.\n",
        "-- It first calculates the total amount spent by each customer in a CTE,\n",
        "-- then uses the RANK() window function to assign a rank based on that total.\n",
        "\n",
        "WITH CustomerSpending AS (\n",
        "    -- First, calculate the total amount spent by each customer\n",
        "    SELECT\n",
        "        c.customer_id,\n",
        "        c.first_name,\n",
        "        c.last_name,\n",
        "        SUM(p.amount) AS total_spent\n",
        "    FROM\n",
        "        customer c\n",
        "    INNER JOIN\n",
        "        payment p ON c.customer_id = p.customer_id\n",
        "    GROUP BY\n",
        "        c.customer_id, c.first_name, c.last_name\n",
        ")\n",
        "-- Now, select from the CTE and apply the RANK() function\n",
        "SELECT\n",
        "    first_name,\n",
        "    last_name,\n",
        "    total_spent,\n",
        "    RANK() OVER (ORDER BY total_spent DESC) AS customer_rank\n",
        "FROM\n",
        "    CustomerSpending;\n",
        "```\n",
        "\n",
        "Explanation of the Query:\n",
        "  - WITH CustomerSpending AS (...): This defines a Common Table Expression (CTE), which is like a temporary, named result set.\n",
        "    - Inside the CTE, we join customer and payment and use SUM(p.amount) with GROUP BY to calculate the total_spent for each customer.\n",
        "  - SELECT ... FROM CustomerSpending: This is the final SELECT statement that operates on our temporary CustomerSpending table.\n",
        "  - RANK() OVER (ORDER BY total_spent DESC) AS customer_rank: This is the window function.\n",
        "    - RANK(): This function assigns a rank to each row. It gives the same rank to rows with the same value (a \"tie\"), and skips the next rank(s) accordingly.\n",
        "    - OVER (...): This clause defines the \"window\" or the set of rows the function works on.\n",
        "    - ORDER BY total_spent DESC: This tells the RANK() function to order the customers by their total_spent in descending order (highest spender first) before assigning ranks."
      ],
      "metadata": {
        "id": "tYyU33ilbDh8"
      }
    },
    {
      "cell_type": "code",
      "source": [],
      "metadata": {
        "id": "i5k-no_7UHVQ"
      },
      "execution_count": null,
      "outputs": []
    },
    {
      "cell_type": "markdown",
      "source": [
        "***Question 2:**  Calculate the cumulative revenue generated by each film over time.\n",
        "\n",
        "**Ans:** To calculate the cumulative revenue (a running total) for each film over time, you need to use the SUM() window function. This function can calculate a sum over a \"window\" of rows that are related to the current row.\n",
        "\n",
        "```sql\n",
        "-- This query calculates a running total of revenue for each film, ordered by payment date.\n",
        "-- It uses a window function to partition the data by film title and order it by time.\n",
        "\n",
        "SELECT\n",
        "    f.title,\n",
        "    p.payment_date,\n",
        "    p.amount,\n",
        "    SUM(p.amount) OVER (PARTITION BY f.title ORDER BY p.payment_date) AS cumulative_revenue\n",
        "FROM\n",
        "    payment p\n",
        "INNER JOIN\n",
        "    rental r ON p.rental_id = r.rental_id\n",
        "INNER JOIN\n",
        "    inventory i ON r.inventory_id = i.inventory_id\n",
        "INNER JOIN\n",
        "    film f ON i.film_id = f.film_id\n",
        "ORDER BY\n",
        "    f.title, p.payment_date;\n",
        "```\n",
        "\n",
        "Explanation of the Query:\n",
        "  - SELECT f.title, p.payment_date, p.amount, ...: This selects the basic information we want to see: the film title, the date of the payment, and the amount of that specific payment.\n",
        "  - SUM(p.amount) OVER (PARTITION BY f.title ORDER BY p.payment_date) AS cumulative_revenue: This is the window function that does the main work.\n",
        "    - SUM(p.amount): Specifies that we want to sum the amount column.\n",
        "    - OVER (...): This clause defines the \"window\" for the function.\n",
        "    - PARTITION BY f.title: This breaks the data into separate partitions, one for each unique film title. The SUM() will restart its calculation for each new film.\n",
        "    - ORDER BY p.payment_date: Within each partition (for each film), this orders the rows by the payment date. This is what makes the sum cumulative—it sums the current row's amount with all the preceding rows' amounts for that film.\n",
        "  - FROM payment p and INNER JOIN ...: This series of joins connects each payment to its corresponding film title through the rental and inventory tables.\n",
        "  - ORDER BY f.title, p.payment_date: This final clause organizes the entire output so you can easily follow the cumulative calculation for each film."
      ],
      "metadata": {
        "id": "YsFOJmgCUHxP"
      }
    },
    {
      "cell_type": "code",
      "source": [],
      "metadata": {
        "id": "DVqrWw10UIMA"
      },
      "execution_count": null,
      "outputs": []
    },
    {
      "cell_type": "markdown",
      "source": [
        "***Question 3:**  Determine the average rental duration for each film, considering films with similar lengths.\n",
        "\n",
        "**Ans:** To determine the average rental duration for films with similar lengths, we first need to categorize the films into groups based on their length (e.g., 'Short', 'Medium', 'Long'). We can achieve this using a CASE statement, and then GROUP BY these new categories to calculate the average.\n",
        "\n",
        "```sql\n",
        "-- This query calculates the average rental duration for films grouped into categories\n",
        "-- based on their length ('Short', 'Medium', 'Long').\n",
        "\n",
        "SELECT\n",
        "    CASE\n",
        "        WHEN length < 60 THEN 'Short'\n",
        "        WHEN length BETWEEN 60 AND 120 THEN 'Medium'\n",
        "        ELSE 'Long'\n",
        "    END AS length_category,\n",
        "    AVG(rental_duration) AS average_rental_duration\n",
        "FROM\n",
        "    film\n",
        "GROUP BY\n",
        "    length_category\n",
        "ORDER BY\n",
        "    length_category;\n",
        "```\n",
        "\n",
        "Explanation of the Query:\n",
        "  - SELECT CASE ... END AS length_category, AVG(rental_duration) ...: This part of the query does two things:\n",
        "    - CASE WHEN ... END AS length_category: This creates a new temporary column named length_category. It checks the length of each film and assigns it to a category: 'Short' if less than 60 minutes, 'Medium' if between 60 and 120 minutes, and 'Long' if over 120 minutes.\n",
        "    - AVG(rental_duration) AS average_rental_duration: This calculates the average rental_duration for the films.\n",
        "  - FROM film: This specifies that the data comes from the film table.\n",
        "  - GROUP BY length_category: This is the key step. It groups all the films based on the new length_category we created. The AVG() function then calculates the average rental duration for each of these distinct groups ('Short', 'Medium', 'Long')."
      ],
      "metadata": {
        "id": "Fyvv4SlFUIjd"
      }
    },
    {
      "cell_type": "code",
      "source": [],
      "metadata": {
        "id": "mSEM6MweUIy9"
      },
      "execution_count": null,
      "outputs": []
    },
    {
      "cell_type": "markdown",
      "source": [
        "***Question 4:**  Identify the top 3 films in each category based on their rental counts.\n",
        "\n",
        "**Ans:** To identify the top 3 rented films in each category, you need to first count the rentals for each film, then rank them within their category using a window function, and finally filter for the top 3 ranks.\n",
        "\n",
        "Using Common Table Expressions (CTEs) makes this multi-step process clean and easy to read.\n",
        "\n",
        "```sql\n",
        "-- This query identifies the top 3 most-rented films within each category.\n",
        "-- It uses two CTEs: one to count rentals per film, and a second to rank films within their category.\n",
        "\n",
        "WITH FilmRentalCounts AS (\n",
        "    -- First, count the total rentals for each film\n",
        "    SELECT\n",
        "        f.film_id,\n",
        "        f.title,\n",
        "        COUNT(r.rental_id) AS rental_count\n",
        "    FROM\n",
        "        rental r\n",
        "    INNER JOIN inventory i ON r.inventory_id = i.inventory_id\n",
        "    INNER JOIN film f ON i.film_id = f.film_id\n",
        "    GROUP BY\n",
        "        f.film_id, f.title\n",
        "),\n",
        "RankedFilms AS (\n",
        "    -- Next, join with categories and rank the films within each category\n",
        "    SELECT\n",
        "        c.name AS category_name,\n",
        "        frc.title,\n",
        "        frc.rental_count,\n",
        "        RANK() OVER (PARTITION BY c.name ORDER BY frc.rental_count DESC) AS film_rank\n",
        "    FROM\n",
        "        FilmRentalCounts frc\n",
        "    INNER JOIN film_category fc ON frc.film_id = fc.film_id\n",
        "    INNER JOIN category c ON fc.category_id = c.category_id\n",
        ")\n",
        "-- Finally, select the top 3 ranked films from each category\n",
        "SELECT\n",
        "    category_name,\n",
        "    title,\n",
        "    rental_count,\n",
        "    film_rank\n",
        "FROM\n",
        "    RankedFilms\n",
        "WHERE\n",
        "    film_rank <= 3\n",
        "ORDER BY\n",
        "    category_name, film_rank;\n",
        "```\n",
        "\n",
        "Explanation of the Query:\n",
        "  1. WITH FilmRentalCounts AS (...): The first CTE calculates the total rental_count for every single film by joining the film, inventory, and rental tables.\n",
        "  2. WITH RankedFilms AS (...): The second CTE takes the rental counts from the first CTE and adds the category information by joining to film_category and category. Then, it applies the crucial window function:\n",
        "    - RANK() OVER (PARTITION BY c.name ORDER BY frc.rental_count DESC) AS film_rank:\n",
        "      - PARTITION BY c.name: This divides the data into separate \"windows,\" one for each category (e.g., 'Action', 'Comedy', 'Drama'). The ranking function restarts for each new category.\n",
        "      - ORDER BY frc.rental_count DESC: Within each category partition, it orders the films from the highest rental count to the lowest.\n",
        "      - RANK(): Assigns a rank based on this order.\n",
        "  3. SELECT ... FROM RankedFilms WHERE film_rank <= 3: The final SELECT statement queries the result of the RankedFilms CTE and filters it to show only the rows where the film_rank is 1, 2, or 3."
      ],
      "metadata": {
        "id": "6X0qZghMUJBO"
      }
    },
    {
      "cell_type": "code",
      "source": [],
      "metadata": {
        "id": "jfHvzrdrUJXc"
      },
      "execution_count": null,
      "outputs": []
    },
    {
      "cell_type": "markdown",
      "source": [
        "***Question 5:**  Calculate the difference in rental counts between each customer's total rentals and the average rentals\n",
        "\n",
        "across all customers.\n",
        "\n",
        "**Ans:** To calculate the difference between each customer's total rentals and the average rental count across all customers, you'll need a multi-step query. Using Common Table Expressions (CTEs) is an excellent way to break down the problem.\n",
        "\n",
        "  1. First, calculate the rental count for each customer.\n",
        "  2. Second, calculate the overall average of those counts.\n",
        "  3. Finally, subtract the average from each customer's individual count.\n",
        "\n",
        "```sql\n",
        "-- This query calculates the difference between each customer's total rental count\n",
        "-- and the average rental count across all customers.\n",
        "\n",
        "WITH CustomerRentalCounts AS (\n",
        "    -- Step 1: Count the number of rentals for each customer\n",
        "    SELECT\n",
        "        customer_id,\n",
        "        COUNT(rental_id) AS rental_count\n",
        "    FROM\n",
        "        rental\n",
        "    GROUP BY\n",
        "        customer_id\n",
        "),\n",
        "AverageRentals AS (\n",
        "    -- Step 2: Calculate the single average rental value from the counts above\n",
        "    SELECT\n",
        "        AVG(rental_count) AS avg_rental_count\n",
        "    FROM\n",
        "        CustomerRentalCounts\n",
        ")\n",
        "-- Step 3: Join the tables and calculate the difference\n",
        "SELECT\n",
        "    c.first_name,\n",
        "    c.last_name,\n",
        "    crc.rental_count,\n",
        "    (crc.rental_count - ar.avg_rental_count) AS difference_from_average\n",
        "FROM\n",
        "    CustomerRentalCounts crc\n",
        "JOIN\n",
        "    customer c ON crc.customer_id = c.customer_id\n",
        "CROSS JOIN\n",
        "    AverageRentals ar -- Join with the average value\n",
        "ORDER BY\n",
        "    difference_from_average DESC;\n",
        "```\n",
        "\n",
        "Explanation of the Query:\n",
        "  - WITH CustomerRentalCounts AS (...): The first CTE creates a temporary table that lists each customer_id and their total number of rentals (rental_count).\n",
        "  - WITH AverageRentals AS (...): The second CTE calculates a single value: the average of all the rental counts from the first CTE. This gives us the overall average rentals per customer.\n",
        "  - Final SELECT Statement:\n",
        "    - It retrieves the customer's name by joining CustomerRentalCounts with the customer table.\n",
        "    - It uses CROSS JOIN AverageRentals to make the single average value available to every row.\n",
        "    - The calculation (crc.rental_count - ar.avg_rental_count) is then performed for each customer, showing how their rental habits compare to the average.\n",
        "    - The results are ordered to show the customers with the highest positive difference first."
      ],
      "metadata": {
        "id": "punA-1AmUJuS"
      }
    },
    {
      "cell_type": "code",
      "source": [],
      "metadata": {
        "id": "lHYKAGVGUJ9e"
      },
      "execution_count": null,
      "outputs": []
    },
    {
      "cell_type": "markdown",
      "source": [
        "***Question 6:**  Find the monthly revenue trend for the entire rental store over time.\n",
        "\n",
        "**Ans:** To find the monthly revenue trend, you need to extract the year and month from the payment_date in the payment table, and then GROUP BY that new value to SUM() the revenue for each period.\n",
        "\n",
        "```sql\n",
        "-- This query calculates the total revenue for each month.\n",
        "-- It uses the DATE_FORMAT function to group all payments by their year and month,\n",
        "-- and then sums the payment amounts for each group to find the monthly revenue.\n",
        "\n",
        "SELECT\n",
        "    DATE_FORMAT(payment_date, '%Y-%m') AS payment_month,\n",
        "    SUM(amount) AS monthly_revenue\n",
        "FROM\n",
        "    payment\n",
        "GROUP BY\n",
        "    payment_month\n",
        "ORDER BY\n",
        "    payment_month;\n",
        "```\n",
        "\n",
        "Explanation of the Query:\n",
        "  - SELECT DATE_FORMAT(payment_date, '%Y-%m') AS payment_month, SUM(amount) AS monthly_revenue:\n",
        "    - DATE_FORMAT(payment_date, '%Y-%m'): This function extracts the year (%Y) and month (%m) from the payment_date and formats it as a string (e.g., '2025-09'). This allows us to group all payments from the same month together, regardless of the day.\n",
        "    - SUM(amount): This calculates the total revenue for each group.\n",
        "  - FROM payment: This specifies that you are querying the payment table.\n",
        "  - GROUP BY payment_month: This groups all the payment records based on the payment_month we created, so the SUM() function calculates the total revenue for each month individually.\n",
        "  - ORDER BY payment_month: This sorts the results chronologically, making it easy to see the revenue trend over time."
      ],
      "metadata": {
        "id": "IPczM_dTUKON"
      }
    },
    {
      "cell_type": "code",
      "source": [],
      "metadata": {
        "id": "38eyPsgabR6G"
      },
      "execution_count": null,
      "outputs": []
    },
    {
      "cell_type": "markdown",
      "source": [
        "***Question 7:** Identify the customers whose total spending on rentals falls within the top 20% of all customers.\n",
        "\n",
        "**Ans:** To identify the top 20% of customers by their total spending, you can use the NTILE() window function. This function is perfect for dividing an ordered set of rows into a specified number of equal-sized groups.\n",
        "\n",
        "By dividing the customers into 5 groups (NTILE(5)), the first group will represent the top 20%.\n",
        "\n",
        "```sql\n",
        "-- This query identifies the top 20% of customers based on their total rental spending.\n",
        "-- It uses a CTE to first calculate each customer's total spending,\n",
        "-- and then another CTE with the NTILE(5) window function to find the top quintile.\n",
        "\n",
        "WITH CustomerSpending AS (\n",
        "    -- First, calculate the total amount spent by each customer\n",
        "    SELECT\n",
        "        c.customer_id,\n",
        "        c.first_name,\n",
        "        c.last_name,\n",
        "        SUM(p.amount) AS total_spent\n",
        "    FROM\n",
        "        customer c\n",
        "    INNER JOIN\n",
        "        payment p ON c.customer_id = p.customer_id\n",
        "    GROUP BY\n",
        "        c.customer_id, c.first_name, c.last_name\n",
        "),\n",
        "RankedCustomers AS (\n",
        "    -- Next, divide the customers into 5 equal groups (quintiles) based on their spending\n",
        "    SELECT\n",
        "        first_name,\n",
        "        last_name,\n",
        "        total_spent,\n",
        "        NTILE(5) OVER (ORDER BY total_spent DESC) AS spending_quintile\n",
        "    FROM\n",
        "        CustomerSpending\n",
        ")\n",
        "-- Finally, select only the customers from the top group (quintile 1)\n",
        "SELECT\n",
        "    first_name,\n",
        "    last_name,\n",
        "    total_spent\n",
        "FROM\n",
        "    RankedCustomers\n",
        "WHERE\n",
        "    spending_quintile = 1;\n",
        "```\n",
        "\n",
        "Explanation of the Query:\n",
        "  1. WITH CustomerSpending AS (...): The first Common Table Expression (CTE) calculates the total_spent for each customer by joining the customer and payment tables and using SUM() with GROUP BY.\n",
        "  2. WITH RankedCustomers AS (...): The second CTE takes the results from the first and applies the window function:\n",
        "      - NTILE(5) OVER (ORDER BY total_spent DESC):\n",
        "        - ORDER BY total_spent DESC: This first sorts all customers from the highest spending to the lowest.\n",
        "        - NTILE(5): This function then divides the sorted list into 5 equal-sized groups, or \"quintiles\". It assigns a number from 1 to 5 to each customer. The highest spenders get 1, the next group gets 2, and so on.\n",
        "  3. Final SELECT Statement:\n",
        "      - WHERE spending_quintile = 1: This final step filters the results to show only the customers who were assigned to the first quintile, which represents the top 20% of spenders.\n"
      ],
      "metadata": {
        "id": "bvUVyVDPbSP2"
      }
    },
    {
      "cell_type": "code",
      "source": [],
      "metadata": {
        "id": "ApoAvULZbTvE"
      },
      "execution_count": null,
      "outputs": []
    },
    {
      "cell_type": "markdown",
      "source": [
        "***Question 8:** Calculate the running total of rentals per category, ordered by rental count.\n",
        "\n",
        "**Ans:** To calculate a running total of rentals per category, you first need to get the total count for each category, and then apply the SUM() window function to these totals.\n",
        "\n",
        "Using a Common Table Expression (CTE) is the clearest way to structure this query.\n",
        "\n",
        "```sql\n",
        "-- This query calculates a running total of rental counts across movie categories.\n",
        "-- It first calculates the total rentals for each category in a CTE,\n",
        "-- then uses a window function to compute the cumulative sum.\n",
        "\n",
        "WITH CategoryRentalCounts AS (\n",
        "    -- Step 1: Count the total number of rentals for each category\n",
        "    SELECT\n",
        "        c.name AS category_name,\n",
        "        COUNT(r.rental_id) AS rental_count\n",
        "    FROM\n",
        "        category c\n",
        "    INNER JOIN\n",
        "        film_category fc ON c.category_id = fc.category_id\n",
        "    INNER JOIN\n",
        "        inventory i ON fc.film_id = i.film_id\n",
        "    INNER JOIN\n",
        "        rental r ON i.inventory_id = r.inventory_id\n",
        "    GROUP BY\n",
        "        c.name\n",
        ")\n",
        "-- Step 2: Calculate the running total from the counts above\n",
        "SELECT\n",
        "    category_name,\n",
        "    rental_count,\n",
        "    SUM(rental_count) OVER (ORDER BY rental_count DESC) AS running_total\n",
        "FROM\n",
        "    CategoryRentalCounts;\n",
        "```\n",
        "\n",
        "Explanation of the Query:\n",
        "  1. WITH CategoryRentalCounts AS (...): This CTE first calculates the total rental_count for each movie category. It does this by joining the four necessary tables and using COUNT() with GROUP BY.\n",
        "  2. Final SELECT Statement: This part of the query operates on the results from the CTE.\n",
        "      - SELECT category_name, rental_count: It selects the category and its individual rental count.\n",
        "      - SUM(rental_count) OVER (ORDER BY rental_count DESC) AS running_total: This is the window function that calculates the running total.\n",
        "          - SUM(rental_count): Specifies that we want a sum.\n",
        "          - OVER (...): Defines the window for the sum.\n",
        "          - ORDER BY rental_count DESC: This is the key part. It orders the rows from the highest rental_count to the lowest. The SUM() function then calculates a cumulative sum based on this order. It takes the value from the current row and adds it to the sum of all preceding rows."
      ],
      "metadata": {
        "id": "-SKOb_G7bUH8"
      }
    },
    {
      "cell_type": "code",
      "source": [],
      "metadata": {
        "id": "zi6iYV_tbVWJ"
      },
      "execution_count": null,
      "outputs": []
    },
    {
      "cell_type": "markdown",
      "source": [
        "***Question 9:**  Find the films that have been rented less than the average rental count for their respective categories.\n",
        "\n",
        "**Ans:** This is a complex query that requires multiple steps. You need to:\n",
        "  1. Calculate the rental count for each film.\n",
        "  2. Calculate the average rental count for each category.\n",
        "  3. Compare each film's count to its category's average.\n",
        "\n",
        "Using Common Table Expressions (CTEs) and a window function is the most efficient and readable way to solve this.\n",
        "\n",
        "```sql\n",
        "-- This query identifies films that have been rented less than the average\n",
        "-- number of times for their respective categories.\n",
        "\n",
        "WITH FilmRentalCounts AS (\n",
        "    -- Step 1: Get the rental count for each film along with its category\n",
        "    SELECT\n",
        "        c.name AS category_name,\n",
        "        f.title,\n",
        "        COUNT(r.rental_id) AS rental_count\n",
        "    FROM\n",
        "        rental r\n",
        "    INNER JOIN inventory i ON r.inventory_id = i.inventory_id\n",
        "    INNER JOIN film f ON i.film_id = f.film_id\n",
        "    INNER JOIN film_category fc ON f.film_id = fc.film_id\n",
        "    INNER JOIN category c ON fc.category_id = c.category_id\n",
        "    GROUP BY\n",
        "        c.name, f.title\n",
        "),\n",
        "FilmAndCategoryStats AS (\n",
        "    -- Step 2: Use a window function to calculate the average rental count for each category\n",
        "    SELECT\n",
        "        category_name,\n",
        "        title,\n",
        "        rental_count,\n",
        "        AVG(rental_count) OVER (PARTITION BY category_name) AS avg_category_rentals\n",
        "    FROM\n",
        "        FilmRentalCounts\n",
        ")\n",
        "-- Step 3: Filter the results to find films rented less than their category's average\n",
        "SELECT\n",
        "    category_name,\n",
        "    title,\n",
        "    rental_count,\n",
        "    ROUND(avg_category_rentals, 2) AS avg_category_rentals -- Rounding for cleaner output\n",
        "FROM\n",
        "    FilmAndCategoryStats\n",
        "WHERE\n",
        "    rental_count < avg_category_rentals\n",
        "ORDER BY\n",
        "    category_name, rental_count;\n",
        "```\n",
        "\n",
        "Explanation of the Query:\n",
        "  1. WITH FilmRentalCounts AS (...): The first CTE performs a large join to connect rentals to their film titles and categories. It then groups by category_name and title to get the specific rental_count for each movie.\n",
        "  2. WITH FilmAndCategoryStats AS (...): The second CTE takes the data from the first CTE and adds a crucial piece of information using a window function:\n",
        "      - AVG(rental_count) OVER (PARTITION BY category_name): This calculates the average rental count.\n",
        "          - PARTITION BY category_name tells the function to calculate the average separately for each category (e.g., it calculates one average for 'Action', another for 'Comedy', etc.).\n",
        "          - This gives us each film's individual rental count alongside the average for its specific category, all in the same row.\n",
        "\n",
        "  3. Final SELECT Statement:\n",
        "      - WHERE rental_count < avg_category_rentals: This final step simply filters the results from the second CTE, keeping only the rows where a film's individual rental_count is less than the calculated avg_category_rentals for its category."
      ],
      "metadata": {
        "id": "G3Hpj0KObVt6"
      }
    },
    {
      "cell_type": "code",
      "source": [],
      "metadata": {
        "id": "LxHOyrk6bXIS"
      },
      "execution_count": null,
      "outputs": []
    },
    {
      "cell_type": "markdown",
      "source": [
        "***Question 10:**  Identify the top 5 months with the highest revenue and display the revenue generated in each month.\n",
        "\n",
        "**Ans:** To identify the top 5 months with the highest revenue, you need to first calculate the total revenue for each month, then order the results in descending order, and finally, limit the output to the top 5.\n",
        "\n",
        "```sql\n",
        "-- This query identifies the top 5 months with the highest rental revenue.\n",
        "-- It groups payments by month, sums the revenue, and then orders\n",
        "-- the results to find the highest-grossing months.\n",
        "\n",
        "SELECT\n",
        "    DATE_FORMAT(payment_date, '%Y-%m') AS payment_month,\n",
        "    SUM(amount) AS monthly_revenue\n",
        "FROM\n",
        "    payment\n",
        "GROUP BY\n",
        "    payment_month\n",
        "ORDER BY\n",
        "    monthly_revenue DESC\n",
        "LIMIT 5;\n",
        "```\n",
        "\n",
        "Explanation of the Query:\n",
        "  - SELECT DATE_FORMAT(payment_date, '%Y-%m') AS payment_month, SUM(amount) AS monthly_revenue:\n",
        "    - DATE_FORMAT(...): This function groups all payments by the year and month they occurred in.\n",
        "    - SUM(amount): This calculates the total revenue for each of those monthly groups.\n",
        "  - FROM payment: This specifies that the data comes from the payment table.\n",
        "  - GROUP BY payment_month: This groups the payment records by the month, which is essential for the SUM() function to work correctly.\n",
        "  - ORDER BY monthly_revenue DESC: This sorts the results from the highest revenue month to the lowest.\n",
        "  - LIMIT 5: This final clause restricts the output to only the top 5 rows from the sorted result."
      ],
      "metadata": {
        "id": "FlE1gghUbXa7"
      }
    },
    {
      "cell_type": "code",
      "source": [],
      "metadata": {
        "id": "NQjhf8z9gO3Z"
      },
      "execution_count": null,
      "outputs": []
    },
    {
      "cell_type": "markdown",
      "source": [
        "### Normalisation & CTE"
      ],
      "metadata": {
        "id": "V9hvYMRLgPLH"
      }
    },
    {
      "cell_type": "markdown",
      "source": [
        "*1.* First Normal Form (1NF):\n",
        "\n",
        "  a. Identify a table in the Sakila database that violates 1NF. Explain how you would normalize it to achieve 1NF.\n",
        "\n",
        "**Ans:** Based on the mavenmovies schema, the film table violates the First Normal Form (1NF) due to the special_features column.\n",
        "\n",
        "First Normal Form (1NF) requires that every column in a table hold a single, atomic (indivisible) value, and that each row be unique. The special_features column, defined as a SET type, can store multiple values in a single cell (e.g., 'Trailers,Commentaries,Deleted Scenes'), which violates the rule of atomicity.\n",
        "\n",
        "**How to Normalize the film Table to 1NF**\n",
        "\n",
        "To fix this, you would remove the multi-valued column and create a new table to store each special feature as a separate row. This is the standard process for eliminati\n",
        "\n",
        "**Step 1: Create a New Junction Table**\n",
        "\n",
        "First, create a new table, let's call it film_features, to link films to their special features. This table will hold one row for each feature a film has.\n",
        "\n",
        "```sql\n",
        "CREATE TABLE film_features (\n",
        "    film_id SMALLINT UNSIGNED NOT NULL,\n",
        "    feature VARCHAR(25) NOT NULL,\n",
        "    PRIMARY KEY (film_id, feature), -- Composite primary key\n",
        "    FOREIGN KEY (film_id) REFERENCES film(film_id)\n",
        ");\n",
        "```\n",
        "  - film_id: A foreign key that links back to the original film table.\n",
        "  - feature: A column that stores a single special feature (e.g., 'Trailers').\n",
        "  - PRIMARY KEY (film_id, feature): A composite key ensures that a film cannot have the same feature listed more than once.\n",
        "\n",
        "**Step 2: Remove the Old Column**\n",
        "Next, you would remove the original special_features column from the film table.\n",
        "\n",
        "```sql\n",
        "ALTER TABLE film\n",
        "DROP COLUMN special_features;\n",
        "```\n",
        "\n",
        "**Step 3: Populate the New Table**\n",
        "\n",
        "Finally, you would populate the new film_features table.\n",
        "\n",
        "(*By making this change, each cell now holds a single atomic value, and the film table conforms to the First Normal Form. This makes the data easier to query and manage.*)"
      ],
      "metadata": {
        "id": "iFV2UyrrgTip"
      }
    },
    {
      "cell_type": "code",
      "source": [
        "# ------------------------------------------------------------"
      ],
      "metadata": {
        "id": "W0jthrxZgS8A"
      },
      "execution_count": null,
      "outputs": []
    },
    {
      "cell_type": "markdown",
      "source": [
        "2. Second Normal Form (2NF):\n",
        "\n",
        " a. Choose a table in Sakila and describe how you would determine whether it is in 2NF. If it violates 2NF, explain the steps to normalize it.\n",
        "\n",
        " **Ans:** Second Normal Form (2NF) has two main requirements:\n",
        "  1. The table must already be in First Normal Form (1NF).\n",
        "  2. The table must have no partial dependencies. This means that every non-key attribute must be fully dependent on the entire primary key.\n",
        "\n",
        "This rule is only relevant for tables that have a composite primary key (a primary key made up of two or more columns). If a table has a single-column primary key, it cannot have partial dependencies and is automatically in 2NF (assuming it's in 1NF).\n",
        "\n",
        "**How to Determine if a Table is in 2NF**\n",
        "\n",
        "Let's choose the film_actor table to analyze.\n",
        "\n",
        "Its structure is:\n",
        "  - actor_id (Primary Key, Foreign Key)\n",
        "  - film_id (Primary Key, Foreign Key)\n",
        "  - last_update\n",
        "\n",
        "Here is the step-by-step process to determine if it is in 2NF:\n",
        "\n",
        "1. Check for 1NF: The film_actor table is in 1NF. Each cell holds a single, atomic value.\n",
        "\n",
        "2. Identify the Primary Key: The primary key for this table is a composite key made up of two columns: (actor_id, film_id). This combination uniquely identifies each row (i.e., which actor appeared in which film).\n",
        "\n",
        "3. Identify Non-Key Attributes: A non-key attribute is any column that is not part of the primary key. In this table, the only non-key attribute is last_update.\n",
        "\n",
        "4. Check for Partial Dependencies: Now, we check if any non-key attribute depends on only a part of the primary key.\n",
        "\n",
        "    - Does last_update depend only on actor_id? No, the timestamp refers to when this specific actor-film relationship was last updated, not when the actor's general record was updated.\n",
        "\n",
        "    - Does last_update depend only on film_id? No, for the same reason. It's specific to the actor's role in that film.\n",
        "\n",
        "Since the non-key attribute (last_update) is dependent on the entire composite key (actor_id and film_id together), there are no partial dependencies.\n",
        "\n",
        "**Conclusion: The film_actor table is already in 2NF.**\n",
        "\n",
        "---\n",
        "\n",
        "Example of a Violation and Normalization Steps:\n",
        "\n",
        "To illustrate the process, let's imagine a poorly designed version of this table that violates 2NF.\n",
        "\n",
        "Suppose the film_actor table was created like this:\n",
        "\n",
        "film_actor_violates_2NF:\n",
        "| actor_id | film_id | actor_first_name |\n",
        "| :--- | :--- | :--- |\n",
        "| 1 | 1 | PENELOPE |\n",
        "| 1 | 23 | PENELOPE |\n",
        "| 2 | 1 | NICK |\n",
        "\n",
        "In this hypothetical table:\n",
        "  - The primary key is still (actor_id, film_id).\n",
        "  - The non-key attribute is actor_first_name.\n",
        "\n",
        "This table violates 2NF because actor_first_name is partially dependent on the primary key. The actor's first name depends only on the actor_id part of the key. It has nothing to do with the film_id. This creates data redundancy—'PENELOPE' is stored multiple times for the same actor.\n",
        "\n",
        "Steps to Normalize it to 2NF\n",
        "  1. Identify the Partial Dependency: Recognize that actor_first_name depends only on actor_id.\n",
        "  2. Decompose the Table: Split the table into two separate tables to remove the partial dependency.\n",
        "      - One table will hold the relationship between actors and films.\n",
        "      - The other will hold the information that was partially dependent (the actor's name).\n",
        "\n",
        "Step 1: Create a separate actors table. (This already exists in the real Sakila database). This table will store the actor's information.\n",
        "\n",
        "actors table:\n",
        "| actor_id | actor_first_name |\n",
        "| :--- | :--- |\n",
        "| 1 | PENELOPE |\n",
        "| 2 | NICK |\n",
        "\n",
        "Step 2: Remove the partially dependent column from the original table. The film_actor table now only contains the columns that make up the primary key, correctly representing the many-to-many relationship.\n",
        "\n",
        "film_actor table (Normalized):\n",
        "| actor_id | film_id |\n",
        "| :--- | :--- |\n",
        "| 1 | 1 |\n",
        "| 1 | 23 |\n",
        "| 2 | 1 |\n",
        "\n",
        "By splitting the table, we have eliminated the partial dependency and the data redundancy. The film_actor table is now in 2NF, and we can get the actor's name by joining it with the actors table."
      ],
      "metadata": {
        "id": "YpO5c6JXhuPT"
      }
    },
    {
      "cell_type": "code",
      "source": [
        "# ---------------------------------------------------------------------"
      ],
      "metadata": {
        "id": "1sI4JWPajr-v"
      },
      "execution_count": null,
      "outputs": []
    },
    {
      "cell_type": "markdown",
      "source": [
        "3. Third Normal Form (3NF):\n",
        "\n",
        " a. Identify a table in Sakila that violates 3NF. Describe the transitive dependencies present and outline the steps to normalize the table to 3NF.\n",
        "\n",
        "**Ans:** Third Normal Form (3NF) requires that a table is already in 2NF and that it has no transitive dependencies.\n",
        "\n",
        "A transitive dependency exists when a non-key attribute is indirectly dependent on the primary key through another non-key attribute. The chain of dependency looks like this:\n",
        "Primary Key → Non-Key Attribute 1 → Non-Key Attribute 2\n",
        "\n",
        "---\n",
        "\n",
        "**Identifying a 3NF Violation**\n",
        "\n",
        "In the Sakila database, the tables are already well-normalized, and a clear 3NF violation is not present in the final schema. However, we can look at the customer_list view to see an example of what a table that violates 3NF would look like.\n",
        "\n",
        "Let's imagine a denormalized customer_report table based on that view:\n",
        "\n",
        "**customer_report table (Violates 3NF):**\n",
        "| customer_id (PK) | first_name | last_name | address | city | country |\n",
        "| :--- | :--- | :--- | :--- | :--- | :--- |\n",
        "| 1 | MARY | SMITH | 123 Main St | Lethbridge | Canada |\n",
        "| 2 | PATRICIA | JOHNSON | 456 Oak Ave | Woodridge | Australia |\n",
        "\n",
        "\n",
        "**Transitive Dependencies Present**\n",
        "In this hypothetical customer_report table:\n",
        "  - The Primary Key is customer_id.\n",
        "\n",
        "The following transitive dependencies exist:\n",
        "  - customer_id → city → country\n",
        "\n",
        "\n",
        "The country depends on the city, and the city depends on the customer_id (indirectly via their address). The country is not directly determined by the customer themselves, but by their city. This causes data redundancy; for every customer in 'Lethbridge', the country 'Canada' would be repeated.\n",
        "\n",
        "---\n",
        "\n",
        "**Steps to Normalize the Table to 3NF**\n",
        "\n",
        "To fix this, you must remove the transitive dependencies by splitting the table. The goal is to make every non-key attribute dependent only on the primary key.\n",
        "\n",
        "**Step 1: Remove the transitively dependent address columns from the main table.**\n",
        "\n",
        "First, create a separate address table that contains all the location-specific details. The original customer table will only keep a foreign key to link to the address. This is exactly how the actual Sakila database is designed.\n",
        "\n",
        "**customer table (Normalized):**\n",
        "| customer_id (PK) | first_name | last_name | address_id (FK) |\n",
        "| :--- | :--- | :--- | :--- |\n",
        "| 1 | MARY | SMITH | 5 |\n",
        "| 2 | PATRICIA | JOHNSON | 6 |\n",
        "\n",
        "**Step 2: Create new tables for the dependent attributes.**\n",
        "\n",
        "Next, create the address, city, and country tables to store the location information hierarchically, removing the transitive dependencies.\n",
        "\n",
        "**address table:**\n",
        "| address_id (PK) | address | city_id (FK) |\n",
        "| :--- | :--- | :--- |\n",
        "| 5 | 123 Main St | 300 |\n",
        "| 6 | 456 Oak Ave | 576 |\n",
        "\n",
        "**city table:**\n",
        "| city_id (PK) | city | country_id (FK) |\n",
        "| :--- | :--- | :--- |\n",
        "| 300 | Lethbridge | 20 |\n",
        "| 576 | Woodridge | 8 |\n",
        "\n",
        "**country table:**\n",
        "| country_id (PK) | country |\n",
        "| :--- | :--- |\n",
        "| 20 | Canada |\n",
        "| 8 | Australia |\n",
        "\n",
        "By decomposing the original table, we have eliminated the transitive dependencies. Now, each attribute in each table is dependent only on its table's primary key. The entire schema is now in 3NF, which reduces data redundancy and improves data integrity."
      ],
      "metadata": {
        "id": "KG_F5rajjsYZ"
      }
    },
    {
      "cell_type": "code",
      "source": [],
      "metadata": {
        "id": "TFdvTdCPkiQB"
      },
      "execution_count": null,
      "outputs": []
    },
    {
      "cell_type": "markdown",
      "source": [
        "4. Normalization Process:\n",
        "\n",
        " a. Take a specific table in Sakila and guide through the process of normalizing it from the initial unnormalized form up to at least 2NF.\n",
        "\n",
        "**Ans:** Let's take a hypothetical, unnormalized table that combines information from several places in the Sakila database and walk through normalizing it to the Second Normal Form (2NF).\n",
        "\n",
        "**The Unnormalized Table**\n",
        "\n",
        "Imagine we start with a flat report that lists every single item in every rental order. The business wants to see the film title, the category name, and the customer's name on each line.\n",
        "\n",
        "An unnormalized version might look like this:\n",
        "\n",
        "**Unnormalized_Rentals Table:**\n",
        "| rental_id | customer_name   | film_titles_and_categories                           |\n",
        "|-----------|-----------------|------------------------------------------------------|\n",
        "| 1         | MARY SMITH      | ZORRO ARK (Horror), BUCKET BROTHERHOOD (Action)      |\n",
        "| 2         | PATRICIA JOHNSON| APACHE DIVINE (Classics)                             |\n",
        "\n",
        "\n",
        "This table has several problems:\n",
        "  - It violates the rule of atomicity because the film_titles_and_categories column contains multiple distinct values (a list of movies).\n",
        "  - It's difficult to query (e.g., \"How many 'Action' movies were rented?\").\n",
        "  - It creates a lot of redundant data.\n",
        "\n",
        "**Step 1: Achieving First Normal Form (1NF)**\n",
        "\n",
        "Goal: Ensure every cell has a single, atomic value and every row is unique.\n",
        "\n",
        "To achieve 1NF, we must eliminate the repeating group in the film_titles_and_categories column. We do this by decomposing the table, giving each film in a rental its own separate row.\n",
        "\n",
        "**1NF Normalized_Rentals Table:**\n",
        "| rental_id | customer_id | customer_name     | film_id | film_title         | category_name |\n",
        "|-----------|-------------|------------------|---------|--------------------|---------------|\n",
        "| 1         | 1           | MARY SMITH       | 1000    | ZORRO ARK          | Horror        |\n",
        "| 1         | 1           | MARY SMITH       | 101     | BUCKET BROTHERHOOD | Action        |\n",
        "| 2         | 2           | PATRICIA JOHNSON | 25      | APACHE DIVINE      | Classics      |\n",
        "\n",
        "Now, every cell has a single value. We can define a composite primary key of (rental_id, film_id) to uniquely identify each row. The table is now in 1NF.\n",
        "\n",
        "However, it's still not ideal. There's a lot of redundancy:\n",
        "  - MARY SMITH is repeated for every item in her rental.\n",
        "  - ZORRO ARK and Horror would be repeated every time that film is rented.\n",
        "\n",
        "\n",
        "**tep 2: Achieving Second Normal Form (2NF)**\n",
        "\n",
        "Goal: Be in 1NF and eliminate all partial dependencies. A partial dependency occurs when a non-key attribute depends on only part of a composite primary key.\n",
        "\n",
        "\n",
        "Our Normalized_Rentals table has a composite primary key: (rental_id, film_id). Let's check the non-key attributes:\n",
        "  - customer_name: Depends only on customer_id (which depends on rental_id). It has nothing to do with film_id. This is a partial dependency.\n",
        "  - film_title: Depends only on film_id. It has nothing to do with rental_id. This is a partial dependency.\n",
        "  - category_name: Depends only on film_id (indirectly). It has nothing to do with rental_id. This is also a partial dependency.\n",
        "  - To fix this, we decompose the table further, splitting it into entities that are fully dependent on their keys. This process results in the actual, well-designed tables you see in the Sakila database.\n",
        "\n",
        "\n",
        "**The Normalized 2NF Schema:**\n",
        "1. rentals Table:\n",
        "| rental_id (PK) | customer_id (FK) |\n",
        "| :--- | :--- |\n",
        "| 1 | 1 |\n",
        "| 2 | 2 |\n",
        "\n",
        "2. rental_items (Junction Table):\n",
        "| rental_id (PK, FK) | film_id (PK, FK) |\n",
        "| :--- | :--- |\n",
        "| 1 | 1000 |\n",
        "| 1 | 101 |\n",
        "| 2 | 25 |\n",
        "\n",
        "3. customers Table:\n",
        "| customer_id (PK) | customer_name |\n",
        "| :--- | :--- |\n",
        "| 1 | MARY SMITH |\n",
        "| 2 | PATRICIA JOHNSON|\n",
        "\n",
        "4. films Table:\n",
        "| film_id (PK) | film_title | category_id (FK) |\n",
        "| :--- | :--- | :--- |\n",
        "| 1000 | ZORRO ARK | 11 |\n",
        "| 101 | BUCKET BROTHERHOOD | 1 |\n",
        "| 25 | APACHE DIVINE | 4 |\n",
        "\n",
        "By splitting the single, messy table into multiple, focused tables, we have eliminated the partial dependencies. Every non-key attribute is now fully dependent on its table's primary key. The schema is now in 2NF, which significantly reduces data redundancy and prevents data modification anomalies."
      ],
      "metadata": {
        "id": "GCdkhdwokinK"
      }
    },
    {
      "cell_type": "code",
      "source": [
        "# -----------------------------------------------------------------------------------"
      ],
      "metadata": {
        "id": "gi7o9LDRl-jd"
      },
      "execution_count": null,
      "outputs": []
    },
    {
      "cell_type": "markdown",
      "source": [
        "5. CTE Basics:\n",
        "\n",
        " a. Write a query using a CTE to retrieve the distinct list of actor names and the number of films they have acted in from the actor and film_actor tables.\n",
        "\n",
        "**Ans:** Of course. A Common Table Expression (CTE) is an excellent way to structure this query, as it allows you to first prepare the data (by counting the films per actor) and then select from that prepared set.\n",
        "\n",
        "Here is the query using a CTE to get the name of each actor and the number of films they've acted in.\n",
        "\n",
        "```sql\n",
        "-- This query uses a Common Table Expression (CTE) to first calculate\n",
        "-- the number of films each actor has appeared in, and then displays the results.\n",
        "\n",
        "WITH ActorFilmCounts AS (\n",
        "    -- This CTE joins the actor and film_actor tables\n",
        "    -- and counts the number of films for each actor.\n",
        "    SELECT\n",
        "        a.first_name,\n",
        "        a.last_name,\n",
        "        COUNT(fa.film_id) AS number_of_films\n",
        "    FROM\n",
        "        actor a\n",
        "    INNER JOIN\n",
        "        film_actor fa ON a.actor_id = fa.actor_id\n",
        "    GROUP BY\n",
        "        a.actor_id, a.first_name, a.last_name\n",
        ")\n",
        "-- This final SELECT statement retrieves the data from the CTE\n",
        "-- and orders it to show the most prolific actors first.\n",
        "SELECT\n",
        "    first_name,\n",
        "    last_name,\n",
        "    number_of_films\n",
        "FROM\n",
        "    ActorFilmCounts\n",
        "ORDER BY\n",
        "    number_of_films DESC;\n",
        "```\n",
        "\n",
        "Explanation of the Query:\n",
        "  1. WITH ActorFilmCounts AS (...): This defines the Common Table Expression.\n",
        "      - We JOIN the actor table with the film_actor table on actor_id to link actors to their films.\n",
        "      - COUNT(fa.film_id) counts the number of film entries for each actor.\n",
        "      - GROUP BY a.actor_id, a.first_name, a.last_name ensures that the counting is done for each unique actor.\n",
        "      - The result of this subquery is a temporary table named ActorFilmCounts that contains the actor's name and their total film count.\n",
        "  2. SELECT ... FROM ActorFilmCounts: This is the final query that is executed.\n",
        "      - It treats ActorFilmCounts just like a regular table.\n",
        "      - It selects the name and the calculated number_of_films from the CTE.\n",
        "      - ORDER BY number_of_films DESC sorts the final result to show the actors who have appeared in the most films at the top.\n",
        "\n",
        "(*The query will return a list of all actors, along with the total count of films they have acted in, ordered from most films to least*)"
      ],
      "metadata": {
        "id": "EQWtU1G_l-6w"
      }
    },
    {
      "cell_type": "code",
      "source": [
        "# -----------------------------------------------------"
      ],
      "metadata": {
        "id": "dP5n0Gr1mjDQ"
      },
      "execution_count": null,
      "outputs": []
    },
    {
      "cell_type": "markdown",
      "source": [
        "6. CTE with Joins:\n",
        "\n",
        " a. Create a CTE that combines information from the film and language tables to display the film title, language name, and rental rate.\n",
        "\n",
        "**Ans:** Of course. Here is a query that uses a Common Table Expression (CTE) to combine information from the film and language tables.\n",
        "\n",
        "```sql\n",
        "-- This query uses a CTE to create a temporary, combined view of film titles,\n",
        "-- their languages, and their rental rates.\n",
        "\n",
        "WITH FilmLanguageInfo AS (\n",
        "    -- The CTE joins the film and language tables to bring the language name\n",
        "    -- together with the film's details.\n",
        "    SELECT\n",
        "        f.title,\n",
        "        l.name AS language_name,\n",
        "        f.rental_rate\n",
        "    FROM\n",
        "        film f\n",
        "    INNER JOIN\n",
        "        language l ON f.language_id = l.language_id\n",
        ")\n",
        "-- The final SELECT statement simply retrieves and displays the data from the CTE.\n",
        "SELECT\n",
        "    title,\n",
        "    language_name,\n",
        "    rental_rate\n",
        "FROM\n",
        "    FilmLanguageInfo;\n",
        "```\n",
        "\n",
        "Explanation of the Query:\n",
        "  1. WITH FilmLanguageInfo AS (...): This defines the Common Table Expression named FilmLanguageInfo.\n",
        "      - Inside the CTE, we perform an INNER JOIN between the film table (aliased as f) and the language table (aliased as l) on their common language_id column.\n",
        "      - It selects the title and rental_rate from the film table, and the name of the language (which is aliased as language_name for clarity).\n",
        "      - This effectively creates a simple, temporary table that has exactly the information we need.\n",
        "  2. SELECT ... FROM FilmLanguageInfo: This is the main query. Instead of querying the original tables, it queries the clean, pre-joined data from our FilmLanguageInfo CTE.\n",
        "\n",
        "(*The query will return a list of every film, its language, and its rental rate*)"
      ],
      "metadata": {
        "id": "41kMWtNNmkxw"
      }
    },
    {
      "cell_type": "code",
      "source": [
        "# -------------"
      ],
      "metadata": {
        "id": "_x8c-Xg3m67g"
      },
      "execution_count": null,
      "outputs": []
    },
    {
      "cell_type": "markdown",
      "source": [
        "7. CTE for Aggregation:\n",
        "\n",
        " a. Write a query using a CTE to find the total revenue generated by each customer (sum of payments) from the customer and payment tables.\n",
        "\n",
        "**Ans:** Using a Common Table Expression (CTE) is a very clean and readable way to perform this kind of aggregation before joining to get the customer details.\n",
        "\n",
        "Here is the query to find the total revenue generated by each customer.\n",
        "\n",
        "```sql\n",
        "-- This query uses a CTE to first calculate the total revenue for each customer ID,\n",
        "-- and then joins that result with the customer table to display their names.\n",
        "\n",
        "WITH CustomerRevenue AS (\n",
        "    -- The CTE aggregates the payment table to find the sum of payments for each customer.\n",
        "    SELECT\n",
        "        customer_id,\n",
        "        SUM(amount) AS total_revenue\n",
        "    FROM\n",
        "        payment\n",
        "    GROUP BY\n",
        "        customer_id\n",
        ")\n",
        "-- The final SELECT statement joins the CTE with the customer table\n",
        "-- to get the full name of each customer alongside their total spending.\n",
        "SELECT\n",
        "    c.first_name,\n",
        "    c.last_name,\n",
        "    cr.total_revenue\n",
        "FROM\n",
        "    CustomerRevenue cr\n",
        "INNER JOIN\n",
        "    customer c ON cr.customer_id = c.customer_id\n",
        "ORDER BY\n",
        "    cr.total_revenue DESC; -- Optional: Orders the result to show the highest-spending customers first.\n",
        "```\n",
        "\n",
        "Explanation of the Query:\n",
        "  1. WITH CustomerRevenue AS (...): This defines the Common Table Expression.\n",
        "      - Inside the CTE, we query the payment table.\n",
        "      - SUM(amount) calculates the total amount paid.\n",
        "      - GROUP BY customer_id ensures that the SUM() function calculates the total for each unique customer, creating a temporary table that maps customer_id to total_revenue.\n",
        "  2. SELECT ... FROM CustomerRevenue cr INNER JOIN customer c ...: This is the main query.\n",
        "      - It treats our CTE (CustomerRevenue) as a standard table, giving it the alias cr.\n",
        "      - It performs an INNER JOIN with the customer table (c) on their common customer_id column. This links the calculated total revenue to the customer's name.\n",
        "      - Finally, it selects the customer's name and their calculated total revenue.\n",
        "(*The query will return a list of all customers along with the total revenue they have generated, sorted from highest to lowest*)\n"
      ],
      "metadata": {
        "id": "oZpDkIoCm7-3"
      }
    },
    {
      "cell_type": "code",
      "source": [
        "# -----------------"
      ],
      "metadata": {
        "id": "pCHxf2iznWoX"
      },
      "execution_count": null,
      "outputs": []
    },
    {
      "cell_type": "markdown",
      "source": [
        "8. CTE with Window Functions:\n",
        "\n",
        " a. Utilize a CTE with a window function to rank films based on their rental duration from the film table.\n",
        "\n",
        "**Ans:** You can use a Common Table Expression (CTE) to select the film data first, and then apply the RANK() window function in the final SELECT statement to rank the films by their rental duration.\n",
        "\n",
        "```sql\n",
        "-- This query uses a CTE and a window function to rank films\n",
        "-- based on their rental duration, from longest to shortest.\n",
        "\n",
        "WITH FilmDurations AS (\n",
        "    -- The CTE simply selects the necessary columns from the film table.\n",
        "    SELECT\n",
        "        title,\n",
        "        rental_duration\n",
        "    FROM\n",
        "        film\n",
        ")\n",
        "-- The final SELECT statement queries the CTE and applies the RANK() function.\n",
        "SELECT\n",
        "    title,\n",
        "    rental_duration,\n",
        "    RANK() OVER (ORDER BY rental_duration DESC) AS duration_rank\n",
        "FROM\n",
        "    FilmDurations;\n",
        "```\n",
        "\n",
        "Explanation of the Query:\n",
        "  1. WITH FilmDurations AS (...): This defines a simple Common Table Expression that creates a temporary result set containing just the title and rental_duration for every film. This makes the main query slightly cleaner.\n",
        "  2. SELECT ... FROM FilmDurations: This is the main query that operates on our CTE.\n",
        "  3. RANK() OVER (ORDER BY rental_duration DESC) AS duration_rank: This is the window function that performs the ranking.\n",
        "      - ORDER BY rental_duration DESC: This sorts all the films within the \"window\" (in this case, the entire table) from the longest rental duration to the shortest.\n",
        "      - RANK(): The function then assigns a rank to each film based on this order. If multiple films have the same duration, they will receive the same rank, and the next rank will be skipped (e.g., 1, 1, 3).\n",
        "      \n",
        "(*The query will return a list of all films, their rental duration, and a new column with their rank based on that duration.*)\n"
      ],
      "metadata": {
        "id": "F5egIwGmnXy6"
      }
    },
    {
      "cell_type": "code",
      "source": [
        "# -------------"
      ],
      "metadata": {
        "id": "tXWUBqRnnzkf"
      },
      "execution_count": null,
      "outputs": []
    },
    {
      "cell_type": "markdown",
      "source": [
        "9. CTE and Filtering:\n",
        "\n",
        " a. Create a CTE to list customers who have made more than two rentals, and then join this CTE with the customer table to retrieve additional customer details.\n",
        "\n",
        "**Ans:** To get the details of customers who have made more than two rentals, you can use a CTE to first identify these customers and then join that list back to the customer table.\n",
        "\n",
        "```sql\n",
        "-- This query uses a CTE to identify customers who have made more than two rentals,\n",
        "-- and then retrieves their full details.\n",
        "\n",
        "WITH FrequentRenters AS (\n",
        "    -- This CTE creates a list of customer_ids for customers\n",
        "    -- who have more than two rental records.\n",
        "    SELECT\n",
        "        customer_id\n",
        "    FROM\n",
        "        rental\n",
        "    GROUP BY\n",
        "        customer_id\n",
        "    HAVING\n",
        "        COUNT(rental_id) > 2\n",
        ")\n",
        "-- The final SELECT statement joins the main customer table with the CTE\n",
        "-- to fetch the details of only the frequent renters.\n",
        "SELECT\n",
        "    c.customer_id,\n",
        "    c.first_name,\n",
        "    c.last_name,\n",
        "    c.email\n",
        "FROM\n",
        "    customer c\n",
        "INNER JOIN\n",
        "    FrequentRenters fr ON c.customer_id = fr.customer_id;\n",
        "```\n",
        "\n",
        "Explanation of the Query:\n",
        "  1. WITH FrequentRenters AS (...): This defines the Common Table Expression.\n",
        "      - Inside the CTE, we query the rental table.\n",
        "      - GROUP BY customer_id groups all rental records by the customer who made them.\n",
        "      - HAVING COUNT(rental_id) > 2 is a filter that is applied after grouping. It ensures that only the customer_ids of customers with a rental count greater than 2 are included in the CTE's result set.\n",
        "  2. SELECT ... FROM customer c INNER JOIN FrequentRenters fr ...: This is the main query.\n",
        "      - It joins the customer table with our temporary FrequentRenters list on customer_id.\n",
        "      - Because it's an INNER JOIN, the final result will only include customers who exist in both tables—effectively, only the frequent renters we identified in the CTE.\n",
        "\n",
        "(*The query will return the details for every customer who has rented three or more movies.*)\n"
      ],
      "metadata": {
        "id": "V4J1G0gxn0oA"
      }
    },
    {
      "cell_type": "code",
      "source": [
        "# -------------------------"
      ],
      "metadata": {
        "id": "RAqAKlsUoRHk"
      },
      "execution_count": null,
      "outputs": []
    },
    {
      "cell_type": "markdown",
      "source": [
        "10. CTE for Date Calculations:\n",
        "\n",
        " a. Write a query using a CTE to find the total number of rentals made each month, considering the rental_date from the rental table\n",
        "\n",
        "**Ans:** Using a Common Table Expression (CTE) is a great way to first process the date information and then perform the aggregation in a separate, clean step.\n",
        "\n",
        "Here is the query to find the total number of rentals for each month.\n",
        "\n",
        "```sql\n",
        "-- This query uses a CTE to calculate the total number of rentals for each month.\n",
        "-- The CTE first extracts the year and month from each rental_date.\n",
        "\n",
        "WITH MonthlyRentals AS (\n",
        "    -- This CTE creates a temporary table with a formatted 'rental_month'\n",
        "    -- for every single rental record.\n",
        "    SELECT\n",
        "        DATE_FORMAT(rental_date, '%Y-%m') AS rental_month\n",
        "    FROM\n",
        "        rental\n",
        ")\n",
        "-- The final SELECT statement queries the CTE to count the rentals per month.\n",
        "SELECT\n",
        "    rental_month,\n",
        "    COUNT(*) AS total_rentals\n",
        "FROM\n",
        "    MonthlyRentals\n",
        "GROUP BY\n",
        "    rental_month\n",
        "ORDER BY\n",
        "    rental_month;\n",
        "```\n",
        "\n",
        "Explanation of the Query:\n",
        "  1. WITH MonthlyRentals AS (...): This defines the Common Table Expression.\n",
        "      - Inside the CTE, we query the rental table.\n",
        "      - DATE_FORMAT(rental_date, '%Y-%m') is a function that takes the rental_date and formats it into a 'Year-Month' string (e.g., '2025-09'). This is aliased as rental_month.\n",
        "      - The result is a temporary table containing a single column (rental_month) with an entry for every rental that has occurred.\n",
        "  2. SELECT ... FROM MonthlyRentals: This is the main query that operates on our CTE.\n",
        "      - It selects the rental_month.\n",
        "      - COUNT(*) counts all the rows for each group, which gives us the total number of rentals.\n",
        "      - GROUP BY rental_month groups all the records by the month they occurred in, so the COUNT() function can aggregate them correctly.\n",
        "      - ORDER BY rental_month sorts the final output chronologically.\n",
        "\n",
        "(*The query will return a summary table showing each month and the total number of rentals that occurred during that month.*)"
      ],
      "metadata": {
        "id": "mHMtY60soSUe"
      }
    },
    {
      "cell_type": "code",
      "source": [
        "# ---------------"
      ],
      "metadata": {
        "id": "puXAKDLcowOY"
      },
      "execution_count": null,
      "outputs": []
    },
    {
      "cell_type": "markdown",
      "source": [
        "11. CTE and Self-Join:\n",
        "\n",
        " a. Create a CTE to generate a report showing pairs of actors who have appeared in the same film together, using the film_actor table.\n",
        "\n",
        "**Ans:** To generate a report of actor pairs who have appeared in the same film, you need to perform a self-join on the film_actor table. Using a CTE can help organize the data, especially for joining with the actor table to get the names.\n",
        "\n",
        "```sql\n",
        "-- This query uses a CTE and a self-join to find pairs of actors who have acted together.\n",
        "\n",
        "WITH FilmActorDetails AS (\n",
        "    -- The CTE joins film_actor with actor to get the actor's full name and film_id.\n",
        "    SELECT\n",
        "        fa.film_id,\n",
        "        a.actor_id,\n",
        "        CONCAT(a.first_name, ' ', a.last_name) AS actor_name\n",
        "    FROM\n",
        "        film_actor fa\n",
        "    JOIN\n",
        "        actor a ON fa.actor_id = a.actor_id\n",
        ")\n",
        "-- The final query self-joins the CTE to find pairs and adds the film title.\n",
        "SELECT\n",
        "    f.title AS film_title,\n",
        "    fad1.actor_name AS actor_1,\n",
        "    fad2.actor_name AS actor_2\n",
        "FROM\n",
        "    FilmActorDetails fad1\n",
        "JOIN\n",
        "    FilmActorDetails fad2 ON fad1.film_id = fad2.film_id AND fad1.actor_id < fad2.actor_id\n",
        "JOIN\n",
        "    film f ON fad1.film_id = f.film_id\n",
        "ORDER BY\n",
        "    film_title, actor_1;\n",
        "```\n",
        "\n",
        "Explanation of the Query:\n",
        "  1. WITH FilmActorDetails AS (...): This CTE prepares the data by joining film_actor and actor to create a temporary table that maps each film_id to the actor_id and full actor_name of an actor in that film.\n",
        "  2. FROM FilmActorDetails fad1 JOIN FilmActorDetails fad2 ...: This is the self-join. We are joining the CTE to itself, giving each instance a different alias (fad1 and fad2).\n",
        "  3. ON fad1.film_id = fad2.film_id AND fad1.actor_id < fad2.actor_id: This is the crucial join condition that creates the pairs.\n",
        "      - fad1.film_id = fad2.film_id: This ensures that we only pair actors who appeared in the exact same film.\n",
        "      - fad1.actor_id < fad2.actor_id: This clever condition accomplishes two things:\n",
        "          - It prevents an actor from being paired with themselves (since actor_id can't be less than itself).\n",
        "          - It eliminates duplicate pairs. Without it, you would get a row for (Actor A, Actor B) and another for (Actor B, Actor A). This condition ensures you only get the pair once.\n",
        "  4. JOIN film f ON fad1.film_id = f.film_id: After finding the pairs, we join with the film table to get the title of the movie they appeared in together, making the report much more readable.\n",
        "\n",
        "(*The query will produce a list of films, with each row showing a unique pair of actors who starred in that film together.*)"
      ],
      "metadata": {
        "id": "a6Nl1NwWoxQV"
      }
    },
    {
      "cell_type": "code",
      "source": [
        "# ---------------------"
      ],
      "metadata": {
        "id": "Zls_faVrpRD2"
      },
      "execution_count": null,
      "outputs": []
    },
    {
      "cell_type": "markdown",
      "source": [
        "12. CTE for Recursive Search:\n",
        "\n",
        " a. Implement a recursive CTE to find all employees in the staff table who report to a specific manager, considering the reports_to column\n",
        "\n",
        "**Ans:** The standard staff table in the Sakila (Mavenmovies) database does not have a reports_to column to represent a multi-level management hierarchy. The structure is flat, with one manager per store.\n",
        "\n",
        "To demonstrate how a recursive CTE works for this kind of problem, we'll need to use a hypothetical employees table that has a self-referencing manager_id column.\n",
        "\n",
        "1. Hypothetical Table Setup\n",
        "\n",
        "First, let's imagine we have an employees table structured like this:\n",
        "\n",
        "```sql\n",
        "-- This is a hypothetical table to demonstrate a recursive query.\n",
        "CREATE TABLE employees (\n",
        "    employee_id INT PRIMARY KEY,\n",
        "    employee_name VARCHAR(50),\n",
        "    manager_id INT -- This column refers back to another employee_id\n",
        ");\n",
        "\n",
        "INSERT INTO employees (employee_id, employee_name, manager_id) VALUES\n",
        "(1, 'Jon Snow (CEO)', NULL),\n",
        "(2, 'Daenerys Targaryen (VP)', 1),\n",
        "(3, 'Tyrion Lannister (VP)', 1),\n",
        "(4, 'Arya Stark (Director)', 2),\n",
        "(5, 'Sansa Stark (Director)', 2),\n",
        "(6, 'Bronn (Manager)', 3),\n",
        "(7, 'Samwell Tarly (Analyst)', 4);\n",
        "```\n",
        "\n",
        "2. The Recursive CTE Query\n",
        "\n",
        "Now, here is the recursive CTE to find all employees who report up to a specific manager (e.g., the CEO, employee_id = 1).\n",
        "\n",
        "```sql\n",
        "-- This query uses a recursive CTE to find the entire reporting hierarchy\n",
        "-- under a specific manager (in this case, employee_id = 1).\n",
        "\n",
        "WITH RECURSIVE EmployeeHierarchy AS (\n",
        "    -- 1. Anchor Member: The starting point of the recursion.\n",
        "    -- We select the top-level manager we want to start from.\n",
        "    SELECT\n",
        "        employee_id,\n",
        "        employee_name,\n",
        "        manager_id,\n",
        "        0 AS hierarchy_level -- Start level at 0\n",
        "    FROM\n",
        "        employees\n",
        "    WHERE\n",
        "        employee_id = 1 -- The ID of the top-level manager\n",
        "\n",
        "    UNION ALL\n",
        "\n",
        "    -- 2. Recursive Member: This part joins the CTE to itself.\n",
        "    -- It finds all employees whose manager_id is in the result set from the previous step.\n",
        "    SELECT\n",
        "        e.employee_id,\n",
        "        e.employee_name,\n",
        "        e.manager_id,\n",
        "        eh.hierarchy_level + 1 -- Increment the level for each recursion\n",
        "    FROM\n",
        "        employees e\n",
        "    INNER JOIN\n",
        "        EmployeeHierarchy eh ON e.manager_id = eh.employee_id\n",
        ")\n",
        "-- 3. Final SELECT: Retrieve all results from the CTE.\n",
        "SELECT * FROM EmployeeHierarchy;\n",
        "```\n",
        "\n",
        "**How the Recursive CTE Works**\n",
        "\n",
        "A recursive CTE has two parts connected by a UNION ALL:\n",
        "  1. The Anchor Member: This is the initial SELECT statement before the UNION ALL. It's the base case for the recursion. In our query, it selects the CEO ('Jon Snow'), which becomes the first result in our EmployeeHierarchy.\n",
        "  2. The Recursive Member: This is the SELECT statement after the UNION ALL. It references the CTE itself (EmployeeHierarchy eh). The query runs in a loop:\n",
        "      - Iteration 1: It looks for employees in the employees table whose manager_id matches the employee_ids currently in the CTE (which is just the CEO, ID 1). It finds the two VPs (Daenerys and Tyrion) and adds them to the result set.\n",
        "      - Iteration 2: It runs again, this time looking for employees whose manager_id matches the IDs now in the CTE (1, 2, and 3). It finds the Directors and the Manager.\n",
        "      - This process continues until the recursive member finds no new employees to add, at which point the query stops.\n",
        "\n",
        "(*The query will return the complete reporting chain, starting from the specified manager.*)"
      ],
      "metadata": {
        "id": "L8ea90qspS8B"
      }
    }
  ]
}