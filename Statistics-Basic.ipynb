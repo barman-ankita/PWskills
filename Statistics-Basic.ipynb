{
  "metadata": {
    "kernelspec": {
      "name": "python",
      "display_name": "Python (Pyodide)",
      "language": "python"
    },
    "language_info": {
      "codemirror_mode": {
        "name": "python",
        "version": 3
      },
      "file_extension": ".py",
      "mimetype": "text/x-python",
      "name": "python",
      "nbconvert_exporter": "python",
      "pygments_lexer": "ipython3",
      "version": "3.8"
    }
  },
  "nbformat_minor": 4,
  "nbformat": 4,
  "cells": [
    {
      "cell_type": "code",
      "source": "# 1. What is statistics, and why is it important?\n# ans. Statistics is the study of data collection, analysis, interpretation, and presentation. Importance: Helps in decision-making and predictions in fields like science, business, and health.",
      "metadata": {
        "trusted": true
      },
      "outputs": [],
      "execution_count": 1
    },
    {
      "cell_type": "code",
      "source": "#",
      "metadata": {
        "trusted": true
      },
      "outputs": [],
      "execution_count": null
    },
    {
      "cell_type": "code",
      "source": "# 2. What are the two main types of statistics?\n# ans. \n'''\n    1.) Descriptive Statistics – Summarizes data.\n    2.) Inferential Statistics – Makes predictions from data.\n'''",
      "metadata": {
        "trusted": true
      },
      "outputs": [],
      "execution_count": null
    },
    {
      "cell_type": "code",
      "source": "#",
      "metadata": {
        "trusted": true
      },
      "outputs": [],
      "execution_count": null
    },
    {
      "cell_type": "code",
      "source": "# 3. What are descriptive statistics?\n# ans. Techniques to describe data features using: mean, median, mode, range, std deviation.",
      "metadata": {
        "trusted": true
      },
      "outputs": [],
      "execution_count": null
    },
    {
      "cell_type": "code",
      "source": "# ",
      "metadata": {
        "trusted": true
      },
      "outputs": [],
      "execution_count": null
    },
    {
      "cell_type": "code",
      "source": "# 4. What is inferential statistics?\n# ans. It uses sample data to draw conclusions about a population.Example: Hypothesis testing, confidence intervals.",
      "metadata": {
        "trusted": true
      },
      "outputs": [],
      "execution_count": null
    },
    {
      "cell_type": "code",
      "source": "#",
      "metadata": {
        "trusted": true
      },
      "outputs": [],
      "execution_count": null
    },
    {
      "cell_type": "code",
      "source": "# 5. What is sampling in statistics?\n# ans. The process of selecting a subset of a population for analysis. Example: Surveying 100 people from a city.",
      "metadata": {
        "trusted": true
      },
      "outputs": [],
      "execution_count": null
    },
    {
      "cell_type": "code",
      "source": "#",
      "metadata": {
        "trusted": true
      },
      "outputs": [],
      "execution_count": null
    },
    {
      "cell_type": "code",
      "source": "# 6. What are the different types of sampling methods?\n# ans. \n'''\n    - Random sampling\n    - Stratified sampling\n    - Cluster sampling\n    - Systematic sampling\n    - Convenience sampling\n'''",
      "metadata": {
        "trusted": true
      },
      "outputs": [],
      "execution_count": null
    },
    {
      "cell_type": "code",
      "source": "#",
      "metadata": {
        "trusted": true
      },
      "outputs": [],
      "execution_count": null
    },
    {
      "cell_type": "code",
      "source": "# 7. What is the difference between random and non-random sampling?\n# ans. \n'''\n    - Random: Equal chance for all (e.g., lottery)\n    - Non-random: Based on choice/convenience (e.g., voluntary survey)\n'''",
      "metadata": {
        "trusted": true
      },
      "outputs": [],
      "execution_count": null
    },
    {
      "cell_type": "code",
      "source": "#",
      "metadata": {
        "trusted": true
      },
      "outputs": [],
      "execution_count": null
    },
    {
      "cell_type": "code",
      "source": "# 8. Define and give examples of qualitative and quantitative data.\n# ans. \n'''\n    - Qualitative: Descriptive (e.g., color, gender)\n    - Quantitative: Numeric (e.g., age, income)\n'''",
      "metadata": {
        "trusted": true
      },
      "outputs": [],
      "execution_count": null
    },
    {
      "cell_type": "code",
      "source": "#",
      "metadata": {
        "trusted": true
      },
      "outputs": [],
      "execution_count": null
    },
    {
      "cell_type": "code",
      "source": "# 9. What are the different types of data in statistics?\n# ans. \n'''\n    - Nominal\n    - Ordinal\n    - Interval\n    - Ratio\n'''",
      "metadata": {
        "trusted": true
      },
      "outputs": [],
      "execution_count": null
    },
    {
      "cell_type": "code",
      "source": "#",
      "metadata": {
        "trusted": true
      },
      "outputs": [],
      "execution_count": null
    },
    {
      "cell_type": "code",
      "source": "# 10. Explain nominal, ordinal, interval, and ratio levels of measurement.\n# ans. \n'''\n    - Nominal: Categories (e.g., colors)\n    - Ordinal: Ordered (e.g., ranks)\n    - Interval: Numbers, no true zero (e.g., temperature)\n    - Ratio: Numbers, true zero (e.g., height)\n'''",
      "metadata": {
        "trusted": true
      },
      "outputs": [],
      "execution_count": null
    },
    {
      "cell_type": "code",
      "source": "#",
      "metadata": {
        "trusted": true
      },
      "outputs": [],
      "execution_count": null
    },
    {
      "cell_type": "code",
      "source": "# 11. What is the measure of central tendency?\n# ans. It shows the center of data distribution. Includes: Mean, Median, Mode.",
      "metadata": {
        "trusted": true
      },
      "outputs": [],
      "execution_count": null
    },
    {
      "cell_type": "code",
      "source": "#",
      "metadata": {
        "trusted": true
      },
      "outputs": [],
      "execution_count": null
    },
    {
      "cell_type": "code",
      "source": "# 12. Define mean, median, and mode.\n# ans. \n'''\n    Mean: Average\n    Median: Middle value\n    Mode: Most frequent value\n'''\n# example:\nimport statistics\ndata = [1, 2, 2, 3, 4]\nprint(statistics.mean(data))   # 2.4\nprint(statistics.median(data)) # 2\nprint(statistics.mode(data))   # 2",
      "metadata": {
        "trusted": true
      },
      "outputs": [
        {
          "name": "stdout",
          "output_type": "stream",
          "text": "2.4\n2\n2\n"
        }
      ],
      "execution_count": 3
    },
    {
      "cell_type": "code",
      "source": "#",
      "metadata": {
        "trusted": true
      },
      "outputs": [],
      "execution_count": null
    },
    {
      "cell_type": "code",
      "source": "# 13. What is the significance of the measure of central tendency?\n# ans. Summarizes large datasets using a single value to represent the whole.",
      "metadata": {
        "trusted": true
      },
      "outputs": [],
      "execution_count": null
    },
    {
      "cell_type": "code",
      "source": "#",
      "metadata": {
        "trusted": true
      },
      "outputs": [],
      "execution_count": null
    },
    {
      "cell_type": "code",
      "source": "# 14. What is variance, and how is it calculated?\n# ans. Variance is the average of squared differences from the mean.\n# example:\nimport statistics\ndata = [2, 4, 6, 8]\nprint(statistics.variance(data))  # Output: 6.666...",
      "metadata": {
        "trusted": true
      },
      "outputs": [
        {
          "name": "stdout",
          "output_type": "stream",
          "text": "6.666666666666667\n"
        }
      ],
      "execution_count": 5
    },
    {
      "cell_type": "code",
      "source": "#",
      "metadata": {
        "trusted": true
      },
      "outputs": [],
      "execution_count": null
    },
    {
      "cell_type": "code",
      "source": "# 15. What is standard deviation, and why is it important?\n# ans. Standard deviation is the square root of variance. Shows how spread out values are.\n# example:\nimport statistics\nprint(statistics.stdev(data))  # Output: ~2.58",
      "metadata": {
        "trusted": true
      },
      "outputs": [
        {
          "name": "stdout",
          "output_type": "stream",
          "text": "1.140175425099138\n"
        }
      ],
      "execution_count": 4
    },
    {
      "cell_type": "code",
      "source": "#",
      "metadata": {
        "trusted": true
      },
      "outputs": [],
      "execution_count": null
    },
    {
      "cell_type": "code",
      "source": "# 16. Define and explain the term range in statistics.\n# ans. Range = Maximum – Minimum Shows data spread.\n# example:\ndata = [3, 5, 10, 12]\nprint(max(data) - min(data))  # 9",
      "metadata": {
        "trusted": true
      },
      "outputs": [],
      "execution_count": null
    },
    {
      "cell_type": "code",
      "source": "#",
      "metadata": {
        "trusted": true
      },
      "outputs": [],
      "execution_count": null
    },
    {
      "cell_type": "code",
      "source": "# 17. What is the difference between variance and standard deviation?\n# ans. \n'''\n    Variance: Squared spread Std \n    Dev: Root of variance (in original units)\n'''",
      "metadata": {
        "trusted": true
      },
      "outputs": [],
      "execution_count": null
    },
    {
      "cell_type": "code",
      "source": "#",
      "metadata": {
        "trusted": true
      },
      "outputs": [],
      "execution_count": null
    },
    {
      "cell_type": "code",
      "source": "# 18. What is skewness in a dataset?\n# ans. Skewness shows asymmetry in distribution. Use scipy.stats.skew()\nfrom scipy.stats import skew\nprint(skew([1, 2, 3, 4, 100]))  # Positive skew",
      "metadata": {
        "trusted": true
      },
      "outputs": [],
      "execution_count": null
    },
    {
      "cell_type": "code",
      "source": "#",
      "metadata": {
        "trusted": true
      },
      "outputs": [],
      "execution_count": null
    },
    {
      "cell_type": "code",
      "source": "# 19. What does it mean if a dataset is positively or negatively skewed?\n# ans. \n'''\n    - Positive: Tail on right\n    - Negative: Tail on left\n    - Affects mean > or < median.\n'''",
      "metadata": {
        "trusted": true
      },
      "outputs": [],
      "execution_count": null
    },
    {
      "cell_type": "code",
      "source": "#",
      "metadata": {
        "trusted": true
      },
      "outputs": [],
      "execution_count": null
    },
    {
      "cell_type": "code",
      "source": "# 20. Define and explain kurtosis.\n# ans.\n'''\n    - Kurtosis measures the \"tailedness\" of distribution.\n    - High: More outliers\n    - Low: Flat distribution\n'''\n# example:\nfrom scipy.stats import kurtosis\nprint(kurtosis([1, 2, 3, 4, 100]))  # High kurtosis",
      "metadata": {
        "trusted": true
      },
      "outputs": [],
      "execution_count": null
    },
    {
      "cell_type": "code",
      "source": "#",
      "metadata": {
        "trusted": true
      },
      "outputs": [],
      "execution_count": null
    },
    {
      "cell_type": "code",
      "source": "# 21. What is the purpose of covariance?\n# ans. Covariance measures how two variables change together. Positive = Same direction\n# example:\nimport numpy as np\nx = [1, 2, 3]\ny = [2, 4, 6]\nprint(np.cov(x, y)[0][1])  # Positive",
      "metadata": {
        "trusted": true
      },
      "outputs": [],
      "execution_count": null
    },
    {
      "cell_type": "code",
      "source": "#",
      "metadata": {
        "trusted": true
      },
      "outputs": [],
      "execution_count": null
    },
    {
      "cell_type": "code",
      "source": "# 22. What does correlation measure in statistics?\n# ans. Correlation measures strength & direction of linear relationship.\n# example:\nimport numpy as np\nprint(np.corrcoef(x, y)[0][1])  # 1.0",
      "metadata": {
        "trusted": true
      },
      "outputs": [],
      "execution_count": null
    },
    {
      "cell_type": "code",
      "source": "#",
      "metadata": {
        "trusted": true
      },
      "outputs": [],
      "execution_count": 2
    },
    {
      "cell_type": "code",
      "source": "# 23. What is the difference between covariance and correlation?\n# ans. \n'''\n    - Covariance: Value depends on scale\n    - Correlation: Normalized between −1 to +1\n'''",
      "metadata": {
        "trusted": true
      },
      "outputs": [],
      "execution_count": null
    },
    {
      "cell_type": "code",
      "source": "#",
      "metadata": {
        "trusted": true
      },
      "outputs": [],
      "execution_count": null
    },
    {
      "cell_type": "code",
      "source": "# 24. What are some real-world applications of statistics?\n# ans. \n'''\n    - Weather prediction\n    - Business trends\n    - Health data analysis\n    - Quality control in manufacturing\n    - Political polling\n'''",
      "metadata": {
        "trusted": true
      },
      "outputs": [
        {
          "execution_count": 6,
          "output_type": "execute_result",
          "data": {
            "text/plain": "'\\n    - Weather prediction\\n    - Business trends\\n    - Health data analysis\\n    - Quality control in manufacturing\\n    - Political polling\\n'"
          },
          "metadata": {}
        }
      ],
      "execution_count": 6
    },
    {
      "cell_type": "code",
      "source": "#",
      "metadata": {
        "trusted": true
      },
      "outputs": [],
      "execution_count": 7
    },
    {
      "cell_type": "code",
      "source": "# PRACTICAL QUESTIONS",
      "metadata": {
        "trusted": true
      },
      "outputs": [],
      "execution_count": 8
    },
    {
      "cell_type": "code",
      "source": "# Q1. How do you calculate the mean, median, and mode of a dataset\n# ans.\nimport statistics\n\ndata = [1, 2, 2, 3, 4, 5, 5, 6]\nprint(\"Mean:\", statistics.mean(data))\nprint(\"Median:\", statistics.median(data))\nprint(\"Mode:\", statistics.mode(data))",
      "metadata": {
        "trusted": true
      },
      "outputs": [],
      "execution_count": 9
    },
    {
      "cell_type": "code",
      "source": "#",
      "metadata": {
        "trusted": true
      },
      "outputs": [],
      "execution_count": 10
    },
    {
      "cell_type": "code",
      "source": "# Q.2 Write a Python program to compute the variance and standard deviation of a dataset\n# ans.\nimport statistics\n\ndata = [4, 8, 6, 5, 3, 7, 9]\nprint(\"Variance:\", statistics.variance(data))\nprint(\"Standard Deviation:\", statistics.stdev(data))\n",
      "metadata": {
        "trusted": true
      },
      "outputs": [],
      "execution_count": null
    },
    {
      "cell_type": "code",
      "source": "#",
      "metadata": {
        "trusted": true
      },
      "outputs": [],
      "execution_count": null
    },
    {
      "cell_type": "code",
      "source": "# Q.3 Create a dataset and classify it into nominal, ordinal, interval, and ratio types\n# ans.\n# Nominal: Categories\ncolors = ['Red', 'Blue', 'Green']\n\n# Ordinal: Ranked data\nsatisfaction = ['Low', 'Medium', 'High']\n\n# Interval: Temperature (no true zero)\ntemperature = [20, 30, 40]\n\n# Ratio: Has true zero\nweights = [50, 60, 70]",
      "metadata": {
        "trusted": true
      },
      "outputs": [],
      "execution_count": null
    },
    {
      "cell_type": "code",
      "source": "#",
      "metadata": {
        "trusted": true
      },
      "outputs": [],
      "execution_count": null
    },
    {
      "cell_type": "code",
      "source": "# Q.4 Implement sampling techniques like random sampling and stratified sampling\n# ans.\nimport pandas as pd\nfrom sklearn.model_selection import train_test_split\n\ndf = pd.DataFrame({'Gender': ['M','F']*50, 'Score': range(100)})\n\n# Random\nrandom_sample = df.sample(n=10)\n\n# Stratified\nstratified_sample, _ = train_test_split(df, stratify=df['Gender'], train_size=0.2)\n",
      "metadata": {
        "trusted": true
      },
      "outputs": [],
      "execution_count": null
    },
    {
      "cell_type": "code",
      "source": "#",
      "metadata": {
        "trusted": true
      },
      "outputs": [],
      "execution_count": null
    },
    {
      "cell_type": "code",
      "source": "# Q.5 Write a Python function to calculate the range of a dataset\n# ans.\ndef calc_range(data):\n    return max(data) - min(data)\n\nprint(calc_range([10, 20, 30, 40]))  # Output: 30\n",
      "metadata": {
        "trusted": true
      },
      "outputs": [],
      "execution_count": null
    },
    {
      "cell_type": "code",
      "source": "#",
      "metadata": {
        "trusted": true
      },
      "outputs": [],
      "execution_count": null
    },
    {
      "cell_type": "code",
      "source": "# Q.6 Create a dataset and plot its histogram to visualize skewness\n# ans.\nimport matplotlib.pyplot as plt\n\ndata = [1, 2, 2, 3, 3, 3, 8, 9, 10, 20]\nplt.hist(data, bins=5)\nplt.title(\"Histogram\")\nplt.show()\n",
      "metadata": {
        "trusted": true
      },
      "outputs": [],
      "execution_count": null
    },
    {
      "cell_type": "code",
      "source": "#",
      "metadata": {
        "trusted": true
      },
      "outputs": [],
      "execution_count": null
    },
    {
      "cell_type": "code",
      "source": "# Q7. Calculate skewness and kurtosis of a dataset using Python libraries\n# ans.\nfrom scipy.stats import skew, kurtosis\n\ndata = [1, 2, 2, 3, 3, 3, 8, 9, 10, 20]\nprint(\"Skewness:\", skew(data))\nprint(\"Kurtosis:\", kurtosis(data))\n",
      "metadata": {
        "trusted": true
      },
      "outputs": [],
      "execution_count": null
    },
    {
      "cell_type": "code",
      "source": "#",
      "metadata": {
        "trusted": true
      },
      "outputs": [],
      "execution_count": null
    },
    {
      "cell_type": "code",
      "source": "# Q8. Generate a dataset and demonstrate positive and negative skewness\n# ans.\nimport seaborn as sns\n\n# Positive skew\ndata_pos = [1, 2, 3, 4, 10, 20]\nsns.histplot(data_pos, kde=True)\nplt.title(\"Positive Skew\")\nplt.show()\n\n# Negative skew\ndata_neg = [20, 18, 17, 16, 10, 5]\nsns.histplot(data_neg, kde=True)\nplt.title(\"Negative Skew\")\nplt.show()\n",
      "metadata": {
        "trusted": true
      },
      "outputs": [],
      "execution_count": null
    },
    {
      "cell_type": "code",
      "source": "#",
      "metadata": {
        "trusted": true
      },
      "outputs": [],
      "execution_count": null
    },
    {
      "cell_type": "code",
      "source": "# Q9. Write a Python script to calculate covariance between two datasets\n# ans.\nimport numpy as np\n\nx = [2, 4, 6, 8]\ny = [1, 3, 5, 7]\nprint(\"Covariance:\", np.cov(x, y)[0][1])\n",
      "metadata": {
        "trusted": true
      },
      "outputs": [],
      "execution_count": null
    },
    {
      "cell_type": "code",
      "source": "#",
      "metadata": {
        "trusted": true
      },
      "outputs": [],
      "execution_count": null
    },
    {
      "cell_type": "code",
      "source": "# Q10. Write a Python script to calculate the correlation coefficient between two datasets\n# ans.\nprint(\"Correlation:\", np.corrcoef(x, y)[0][1])  # Output: 1.0 (perfect correlation)\n",
      "metadata": {
        "trusted": true
      },
      "outputs": [],
      "execution_count": null
    },
    {
      "cell_type": "code",
      "source": "#",
      "metadata": {
        "trusted": true
      },
      "outputs": [],
      "execution_count": null
    },
    {
      "cell_type": "code",
      "source": "# Q11. Create a scatter plot to visualize the relationship between two variables\n# ans.\nplt.scatter(x, y)\nplt.title(\"Scatter Plot\")\nplt.xlabel(\"X\")\nplt.ylabel(\"Y\")\nplt.show()\n",
      "metadata": {
        "trusted": true
      },
      "outputs": [],
      "execution_count": null
    },
    {
      "cell_type": "code",
      "source": "#",
      "metadata": {
        "trusted": true
      },
      "outputs": [],
      "execution_count": null
    },
    {
      "cell_type": "code",
      "source": "# Q12. Implement and compare simple random sampling and systematic sampling\n# ans.\nimport numpy as np\n\ndata = np.arange(1, 101)\n\n# Random\nrandom_sample = np.random.choice(data, size=10, replace=False)\n\n# Systematic (every 10th)\nsystematic_sample = data[::10]\n",
      "metadata": {
        "trusted": true
      },
      "outputs": [],
      "execution_count": null
    },
    {
      "cell_type": "code",
      "source": "#",
      "metadata": {
        "trusted": true
      },
      "outputs": [],
      "execution_count": null
    },
    {
      "cell_type": "code",
      "source": "# Q13. Calculate the mean, median, and mode of grouped data\n# ans.\nimport pandas as pd\ndf = pd.DataFrame({'Class': ['0-10','10-20','20-30'], 'Freq': [5, 10, 5]})\n# Assume midpoints for simplicity\ndf['Mid'] = [5, 15, 25]\nmean = sum(df['Mid'] * df['Freq']) / sum(df['Freq'])\nprint(\"Grouped Mean:\", mean)\n",
      "metadata": {
        "trusted": true
      },
      "outputs": [],
      "execution_count": null
    },
    {
      "cell_type": "code",
      "source": "#",
      "metadata": {
        "trusted": true
      },
      "outputs": [],
      "execution_count": null
    },
    {
      "cell_type": "code",
      "source": "# Q14. Simulate data using Python and calculate its central tendency and dispersion\n# ans.\nimport numpy as np\n\ndata = np.random.normal(50, 10, 100)\nprint(\"Mean:\", np.mean(data))\nprint(\"Std Dev:\", np.std(data))\n",
      "metadata": {
        "trusted": true
      },
      "outputs": [],
      "execution_count": 11
    },
    {
      "cell_type": "code",
      "source": "#",
      "metadata": {
        "trusted": true
      },
      "outputs": [],
      "execution_count": null
    },
    {
      "cell_type": "code",
      "source": "# Q15. Use NumPy or pandas to summarize a dataset’s descriptive statistics\n# ans.\ndf = pd.DataFrame({'A': np.random.randint(1, 100, 20)})\nprint(df.describe())\n",
      "metadata": {
        "trusted": true
      },
      "outputs": [],
      "execution_count": null
    },
    {
      "cell_type": "code",
      "source": "#",
      "metadata": {
        "trusted": true
      },
      "outputs": [],
      "execution_count": null
    },
    {
      "cell_type": "code",
      "source": "# Q16. Plot a boxplot to understand the spread and identify outliers\n# ans.\nsns.boxplot(data=df['A'])\nplt.title(\"Boxplot\")\nplt.show()\n",
      "metadata": {
        "trusted": true
      },
      "outputs": [],
      "execution_count": null
    },
    {
      "cell_type": "code",
      "source": "#",
      "metadata": {
        "trusted": true
      },
      "outputs": [],
      "execution_count": null
    },
    {
      "cell_type": "code",
      "source": "# Q17. Calculate the interquartile range (IQR) of a dataset\n# ans.\nQ1 = df['A'].quantile(0.25)\nQ3 = df['A'].quantile(0.75)\nIQR = Q3 - Q1\nprint(\"IQR:\", IQR)\n",
      "metadata": {
        "trusted": true
      },
      "outputs": [],
      "execution_count": null
    },
    {
      "cell_type": "code",
      "source": "#",
      "metadata": {
        "trusted": true
      },
      "outputs": [],
      "execution_count": null
    },
    {
      "cell_type": "code",
      "source": "# Q18. Implement Z-score normalization and explain its significance\n# ans.\nfrom scipy.stats import zscore\n\ndata = np.array([10, 20, 30, 40, 50])\nz = zscore(data)\nprint(z)\n",
      "metadata": {
        "trusted": true
      },
      "outputs": [],
      "execution_count": null
    },
    {
      "cell_type": "code",
      "source": "#",
      "metadata": {
        "trusted": true
      },
      "outputs": [],
      "execution_count": null
    },
    {
      "cell_type": "code",
      "source": "# Q19. Compare two datasets using their standard deviations\n# ans.\na = [10, 12, 14, 16]\nb = [5, 15, 25, 35]\nprint(np.std(a), np.std(b))  # Higher std = more spread\n",
      "metadata": {
        "trusted": true
      },
      "outputs": [],
      "execution_count": null
    },
    {
      "cell_type": "code",
      "source": "#",
      "metadata": {
        "trusted": true
      },
      "outputs": [],
      "execution_count": null
    },
    {
      "cell_type": "code",
      "source": "# Q20. Write a Python program to visualize covariance using a heatmap\n# ans.\nimport seaborn as sns\n\ndf = pd.DataFrame({'X': x, 'Y': y})\nsns.heatmap(df.cov(), annot=True)\nplt.title(\"Covariance Heatmap\")\nplt.show()\n",
      "metadata": {
        "trusted": true
      },
      "outputs": [],
      "execution_count": null
    },
    {
      "cell_type": "code",
      "source": "#",
      "metadata": {
        "trusted": true
      },
      "outputs": [],
      "execution_count": 12
    },
    {
      "cell_type": "code",
      "source": "# Q21. Use seaborn to create a correlation matrix for a dataset\n# ans.\nsns.heatmap(df.corr(), annot=True, cmap=\"coolwarm\")\nplt.title(\"Correlation Matrix\")\nplt.show()\n",
      "metadata": {
        "trusted": true
      },
      "outputs": [],
      "execution_count": null
    },
    {
      "cell_type": "code",
      "source": "#",
      "metadata": {
        "trusted": true
      },
      "outputs": [],
      "execution_count": 13
    },
    {
      "cell_type": "code",
      "source": "# Q22. Generate a dataset and implement both variance and standard deviation computations\n# ans.\ndata = [10, 12, 14, 18]\nprint(\"Variance:\", np.var(data))\nprint(\"Std Dev:\", np.std(data))\n",
      "metadata": {
        "trusted": true
      },
      "outputs": [],
      "execution_count": null
    },
    {
      "cell_type": "code",
      "source": "#",
      "metadata": {
        "trusted": true
      },
      "outputs": [],
      "execution_count": 14
    },
    {
      "cell_type": "code",
      "source": "# Q23. Visualize skewness and kurtosis using Python libraries like matplotlib or seaborn\n# ans.\nsns.histplot(data, kde=True)\nplt.title(\"Distribution\")\nplt.show()\n\nprint(\"Skew:\", skew(data))\nprint(\"Kurtosis:\", kurtosis(data))\n",
      "metadata": {
        "trusted": true
      },
      "outputs": [],
      "execution_count": 15
    },
    {
      "cell_type": "code",
      "source": "#",
      "metadata": {
        "trusted": true
      },
      "outputs": [],
      "execution_count": 16
    },
    {
      "cell_type": "code",
      "source": "# Q24. Implement the Pearson and Spearman correlation coefficients for a dataset.\n# ans.\nfrom scipy.stats import pearsonr, spearmanr\n\nx = [1, 2, 3, 4, 5]\ny = [5, 6, 7, 8, 7]\n\nprint(\"Pearson:\", pearsonr(x, y))\nprint(\"Spearman:\", spearmanr(x, y))\n",
      "metadata": {
        "trusted": true
      },
      "outputs": [],
      "execution_count": null
    }
  ]
}