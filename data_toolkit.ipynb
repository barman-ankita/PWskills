{
  "metadata": {
    "kernelspec": {
      "name": "python",
      "display_name": "Python (Pyodide)",
      "language": "python"
    },
    "language_info": {
      "codemirror_mode": {
        "name": "python",
        "version": 3
      },
      "file_extension": ".py",
      "mimetype": "text/x-python",
      "name": "python",
      "nbconvert_exporter": "python",
      "pygments_lexer": "ipython3",
      "version": "3.8"
    }
  },
  "nbformat_minor": 5,
  "nbformat": 4,
  "cells": [
    {
      "id": "894b5ce6-42f7-43ee-a57b-0c3f35c2d8f4",
      "cell_type": "code",
      "source": "# THOERY QUESTIONS",
      "metadata": {
        "trusted": true
      },
      "outputs": [],
      "execution_count": 1
    },
    {
      "id": "5a25e899-b807-4178-a5ab-3dfe471d9e1c",
      "cell_type": "code",
      "source": "# Qus.1) What is NumPy, and why is it widely used in Python?\n# Ans.) NumPy is a Python library used for numerical computations. It provides support for arrays, matrices, and many mathematical functions. It's widely used for its speed, efficiency, and powerful array operations",
      "metadata": {
        "trusted": true
      },
      "outputs": [],
      "execution_count": 3
    },
    {
      "id": "21ecc4a4-f699-4e7e-9ae5-7705de7b373c",
      "cell_type": "code",
      "source": "#",
      "metadata": {
        "trusted": true
      },
      "outputs": [],
      "execution_count": 4
    },
    {
      "id": "7ec6b7ab-fab6-4ce0-81eb-8547c955b556",
      "cell_type": "code",
      "source": "# Qus.2) How does broadcasting work in NumPy?\n# Ans.) Broadcasting in NumPy allows operations on arrays of different shapes by automatically expanding the smaller array to match the shape of the larger one without copying data.",
      "metadata": {
        "trusted": true
      },
      "outputs": [],
      "execution_count": 5
    },
    {
      "id": "a6d2e2dc-d0a2-487e-b21b-9fe18aea89b7",
      "cell_type": "code",
      "source": "#",
      "metadata": {
        "trusted": true
      },
      "outputs": [],
      "execution_count": 6
    },
    {
      "id": "e5862857-8e60-4902-a47b-95ff54648abf",
      "cell_type": "code",
      "source": "# Qus.3) What is a Pandas DataFrame?\n# Ans.) A Pandas DataFrame is a 2D, labeled data structure with rows and columns, used to store and manipulate tabular data\n# Example:\n\nimport pandas as pd\n\ndata = {'Name': ['Alice', 'Bob'], 'Age': [25, 30]}\ndf = pd.DataFrame(data)\nprint(df)",
      "metadata": {
        "trusted": true
      },
      "outputs": [
        {
          "name": "stdout",
          "output_type": "stream",
          "text": "    Name  Age\n0  Alice   25\n1    Bob   30\n"
        }
      ],
      "execution_count": 7
    },
    {
      "id": "20fee4ae-730a-457e-a538-3f80ff32220e",
      "cell_type": "code",
      "source": "#",
      "metadata": {
        "trusted": true
      },
      "outputs": [],
      "execution_count": 8
    },
    {
      "id": "a889a1a0-1a78-4b78-8bd9-689bba9aa837",
      "cell_type": "code",
      "source": "# Qus.4) Explain the use of the groupby() method in Pandas?\n# Ans.) The groupby() method in Pandas is used to group data based on one or more columns, then apply functions like sum, mean, etc., to each group.\n# Example:\n\nimport pandas as pd\n\ndata = {'Department': ['HR', 'HR', 'IT', 'IT'],\n        'Salary': [3000, 3500, 4000, 4200]}\ndf = pd.DataFrame(data)\n\ngrouped = df.groupby('Department')['Salary'].mean()\nprint(grouped)",
      "metadata": {
        "trusted": true
      },
      "outputs": [
        {
          "name": "stdout",
          "output_type": "stream",
          "text": "Department\nHR    3250.0\nIT    4100.0\nName: Salary, dtype: float64\n"
        }
      ],
      "execution_count": 9
    },
    {
      "id": "0e555414-4d12-4d20-bd8a-59ed72503cac",
      "cell_type": "code",
      "source": "#",
      "metadata": {
        "trusted": true
      },
      "outputs": [],
      "execution_count": 10
    },
    {
      "id": "f981ae0c-dbcc-4433-abac-f7e9eb0bca73",
      "cell_type": "code",
      "source": "# Qus.5) Why is Seaborn preferred for statistical visualizations?\n# Ans.) Seaborn is preferred for statistical visualizations because it provides high-level, attractive, and easy-to-use functions for plotting complex statistical graphs with fewer lines of code.\n# Example: (library seaborn is not avaible)\n'''\nimport seaborn as sns\nimport pandas as pd\n\ndata = {'Age': [22, 25, 30, 28, 35], 'Salary': [3000, 3200, 4000, 3600, 5000]}\ndf = pd.DataFrame(data)\n\nsns.scatterplot(x='Age', y='Salary', data=df)\n'''",
      "metadata": {
        "trusted": true
      },
      "outputs": [
        {
          "execution_count": 13,
          "output_type": "execute_result",
          "data": {
            "text/plain": "\"\\nimport seaborn as sns\\nimport pandas as pd\\n\\ndata = {'Age': [22, 25, 30, 28, 35], 'Salary': [3000, 3200, 4000, 3600, 5000]}\\ndf = pd.DataFrame(data)\\n\\nsns.scatterplot(x='Age', y='Salary', data=df)\\n\""
          },
          "metadata": {}
        }
      ],
      "execution_count": 13
    },
    {
      "id": "f1908e23-b1a8-4acc-96bc-83e3ff7820bf",
      "cell_type": "code",
      "source": "#",
      "metadata": {
        "trusted": true
      },
      "outputs": [],
      "execution_count": 14
    },
    {
      "id": "ec795b56-da09-4262-90c0-a43211806d47",
      "cell_type": "code",
      "source": "# Qus.6) What are the differences between NumPy arrays and Python lists?\n# Ans.) \n'''\n    1.) NumPy arrays are faster, use less memory, and support vectorized operations.\n    2.) Python lists are slower, use more memory, and don't support element-wise operations directly.\n'''\n# Example:\nimport numpy as np\n\narr = np.array([1, 2, 3])\nlst = [1, 2, 3]\n\nprint(arr * 2)  # [2 4 6]\nprint([x * 2 for x in lst])  # [2, 4, 6]",
      "metadata": {
        "trusted": true
      },
      "outputs": [
        {
          "name": "stdout",
          "output_type": "stream",
          "text": "[2 4 6]\n[2, 4, 6]\n"
        }
      ],
      "execution_count": 15
    },
    {
      "id": "1eb6747f-3daf-4fa3-ab4e-5e39066817c7",
      "cell_type": "code",
      "source": "#",
      "metadata": {
        "trusted": true
      },
      "outputs": [],
      "execution_count": 16
    },
    {
      "id": "86b46ebf-621d-4b20-a855-2631f30ef723",
      "cell_type": "code",
      "source": "# Qus 7.) What is a heatmap, and when should it be used?\n# Ans.) A heatmap is a graphical representation of data using colors to show values in a matrix. It’s used to visualize correlations or patterns in data, especially in large datasets.\n# example:\n'''\nimport seaborn as sns #library not available\nimport pandas as pd #library not available\n\ndata = pd.DataFrame([[1, 2], [3, 4]], columns=['A', 'B'])\nsns.heatmap(data, annot=True)\n'''",
      "metadata": {
        "trusted": true
      },
      "outputs": [
        {
          "execution_count": 26,
          "output_type": "execute_result",
          "data": {
            "text/plain": "\"\\nimport seaborn as sns #library not available\\nimport pandas as pd #library not available\\n\\ndata = pd.DataFrame([[1, 2], [3, 4]], columns=['A', 'B'])\\nsns.heatmap(data, annot=True)\\n\""
          },
          "metadata": {}
        }
      ],
      "execution_count": 26
    },
    {
      "id": "61cf0421-4f91-41f8-9ebe-cf84a641bc11",
      "cell_type": "code",
      "source": "#",
      "metadata": {
        "trusted": true
      },
      "outputs": [],
      "execution_count": 19
    },
    {
      "id": "b5fd4eb6-55af-4dd2-ae86-f6332a5f8a93",
      "cell_type": "code",
      "source": "# Qus 8.) What does the term “vectorized operation” mean in NumPy?\n# Ans.) A vectorized operation in NumPy means performing operations on entire arrays without using explicit loops, making the code faster and more efficient.\n# Example:\nimport numpy as np\n\na = np.array([1, 2, 3])\nb = np.array([4, 5, 6])\n\nprint(a + b)  # [5 7 9]",
      "metadata": {
        "trusted": true
      },
      "outputs": [
        {
          "name": "stdout",
          "output_type": "stream",
          "text": "[5 7 9]\n"
        }
      ],
      "execution_count": 20
    },
    {
      "id": "2331131d-792f-4f67-8d06-f4884b6e9234",
      "cell_type": "code",
      "source": "#",
      "metadata": {
        "trusted": true
      },
      "outputs": [],
      "execution_count": 21
    },
    {
      "id": "a21c53da-f6c0-46c9-8aac-249f49f70387",
      "cell_type": "code",
      "source": "# Qus 9.) How does Matplotlib differ from Plotly?\n# Ans.) \n'''\n    - Matplotlib is a static, widely-used plotting library for creating basic graphs.\n    - Plotly creates interactive, web-based plots with zoom, hover, and more features.\n'''\n# Example: (matplotlib)\n\nimport matplotlib.pyplot as plt\nplt.plot([1, 2, 3], [4, 5, 6])\nplt.show()\n\n\n# Example (Plotly)\n'''\nimport plotly.express as px\nfig = px.line(x=[1, 2, 3], y=[4, 5, 6])\nfig.show()\n'''",
      "metadata": {
        "trusted": true
      },
      "outputs": [
        {
          "output_type": "display_data",
          "data": {
            "text/plain": "<Figure size 640x480 with 1 Axes>",
            "image/png": "[encoded data removed]"
          },
          "metadata": {}
        },
        {
          "execution_count": 28,
          "output_type": "execute_result",
          "data": {
            "text/plain": "'\\nimport plotly.express as px\\nfig = px.line(x=[1, 2, 3], y=[4, 5, 6])\\nfig.show()\\n'"
          },
          "metadata": {}
        }
      ],
      "execution_count": 28
    },
    {
      "id": "e542be30-f5e7-4d1c-9f2d-37103c41ee2d",
      "cell_type": "code",
      "source": "#",
      "metadata": {
        "trusted": true
      },
      "outputs": [],
      "execution_count": 23
    },
    {
      "id": "c132ce3c-9c95-462c-be4e-05891e9bb5fe",
      "cell_type": "code",
      "source": "# Qus 10.) What is the significance of hierarchical indexing in Pandas?\n# Ans.) Hierarchical indexing (MultiIndex) allows Pandas to store and access data with multiple index levels, enabling easy handling of higher-dimensional data in a 2D DataFrame.\n# Example:\nimport pandas as pd\n\narrays = [['A', 'A', 'B'], [1, 2, 1]]\nindex = pd.MultiIndex.from_arrays(arrays, names=('Letter', 'Number'))\ndata = pd.Series([10, 20, 30], index=index)\n\nprint(data)",
      "metadata": {
        "trusted": true
      },
      "outputs": [
        {
          "name": "stdout",
          "output_type": "stream",
          "text": "Letter  Number\nA       1         10\n        2         20\nB       1         30\ndtype: int64\n"
        }
      ],
      "execution_count": 24
    },
    {
      "id": "b031b072-d05f-401a-a37f-be35516e6523",
      "cell_type": "code",
      "source": "#",
      "metadata": {
        "trusted": true
      },
      "outputs": [],
      "execution_count": 29
    },
    {
      "id": "f6a39050-f92e-4d4b-a01e-c87218236acd",
      "cell_type": "code",
      "source": "# Qus 11.) What is the role of Seaborn’s pairplot() function?\n# Ans.) Seaborn’s pairplot() function creates a grid of scatterplots and histograms to visualize relationships and distributions between multiple variables in a dataset.\n# Example:\n'''\nimport seaborn as sns\nimport pandas as pd\n\ndf = sns.load_dataset('iris')\nsns.pairplot(df, hue='species')\n'''",
      "metadata": {
        "trusted": true
      },
      "outputs": [
        {
          "execution_count": 31,
          "output_type": "execute_result",
          "data": {
            "text/plain": "\"\\nimport seaborn as sns\\nimport pandas as pd\\n\\ndf = sns.load_dataset('iris')\\nsns.pairplot(df, hue='species')\\n\""
          },
          "metadata": {}
        }
      ],
      "execution_count": 31
    },
    {
      "id": "5b9ab93f-cb61-4bd4-aa41-543dcd296a20",
      "cell_type": "code",
      "source": "#",
      "metadata": {
        "trusted": true
      },
      "outputs": [],
      "execution_count": 32
    },
    {
      "id": "de37242e-198a-4bb5-86c7-30d19f99cba1",
      "cell_type": "code",
      "source": "# Qus 12.) The describe() function in Pandas provides a summary of statistical measures (like count, mean, std, min, max, quartiles) for numerical columns in a DataFrame?\n# Ans.) The describe() function in Pandas provides a summary of statistical measures (like count, mean, std, min, max, quartiles) for numerical columns in a DataFrame.\n# Example:\nimport pandas as pd\n\ndata = {'Age': [25, 30, 22, 40, 28]}\ndf = pd.DataFrame(data)\n\nprint(df.describe())",
      "metadata": {
        "trusted": true
      },
      "outputs": [
        {
          "name": "stdout",
          "output_type": "stream",
          "text": "             Age\ncount   5.000000\nmean   29.000000\nstd     6.855655\nmin    22.000000\n25%    25.000000\n50%    28.000000\n75%    30.000000\nmax    40.000000\n"
        }
      ],
      "execution_count": 34
    },
    {
      "id": "5d86dfda-5ce9-4a05-9562-6ce27511b16b",
      "cell_type": "code",
      "source": "#",
      "metadata": {
        "trusted": true
      },
      "outputs": [],
      "execution_count": 35
    },
    {
      "id": "ab6caafd-3669-4560-91ec-1c0f336dfda0",
      "cell_type": "code",
      "source": "# Qus 13.) Why is handling missing data important in Pandas?\n# Ans.) Handling missing data is important in Pandas because it can cause errors or inaccurate analysis. Proper handling ensures data quality and reliable results.",
      "metadata": {
        "trusted": true
      },
      "outputs": [],
      "execution_count": 36
    },
    {
      "id": "5fa27020-8fe4-4ea3-80bc-74a7f7b8e892",
      "cell_type": "code",
      "source": "#",
      "metadata": {
        "trusted": true
      },
      "outputs": [],
      "execution_count": 37
    },
    {
      "id": "ef64a965-d8a9-45b1-9447-1f395ffb561a",
      "cell_type": "code",
      "source": "# Qus 14.) What are the benefits of using Plotly for data visualization?\n# Ans.) Plotly offers interactive, web-based visualizations with features like zoom, hover info, and easy sharing. It supports a wide range of chart types and works well with dashboards.",
      "metadata": {
        "trusted": true
      },
      "outputs": [],
      "execution_count": 38
    },
    {
      "id": "c4a62b0c-9ff0-46d4-851a-c0e34346c44b",
      "cell_type": "code",
      "source": "#",
      "metadata": {
        "trusted": true
      },
      "outputs": [],
      "execution_count": 39
    },
    {
      "id": "3c760ae0-5880-41d4-98b7-e633100c6d4a",
      "cell_type": "code",
      "source": "# Qus 15.) How does NumPy handle multidimensional arrays?\n# Ans.) NumPy handles multidimensional arrays as ndarray objects, allowing efficient storage and operations on data with multiple dimensions (e.g., 2D matrices, 3D tensors).\n# Example:\nimport numpy as np\n\narr = np.array([[1, 2], [3, 4]])\nprint(arr.shape)  # (2, 2)",
      "metadata": {
        "trusted": true
      },
      "outputs": [
        {
          "name": "stdout",
          "output_type": "stream",
          "text": "(2, 2)\n"
        }
      ],
      "execution_count": 40
    },
    {
      "id": "cf4ba1c4-1a43-4537-b611-178ad99fdfa8",
      "cell_type": "code",
      "source": "#",
      "metadata": {
        "trusted": true
      },
      "outputs": [],
      "execution_count": 41
    },
    {
      "id": "acf8e089-1857-4d37-8583-29b7e2330361",
      "cell_type": "code",
      "source": "# Qus 16.) What is the role of Bokeh in data visualization?\n# Ans.) Bokeh is a Python library for creating interactive, browser-based visualizations that are easily shareable and customizable for web apps and dashboards",
      "metadata": {
        "trusted": true
      },
      "outputs": [],
      "execution_count": 42
    },
    {
      "id": "2ce81746-6882-4158-bf10-100fc6990c19",
      "cell_type": "code",
      "source": "#",
      "metadata": {
        "trusted": true
      },
      "outputs": [],
      "execution_count": 43
    },
    {
      "id": "f257a638-b9c0-4723-b72f-df93f76ae445",
      "cell_type": "code",
      "source": "# Qus 17.) Explain the difference between apply() and map() in Pandas?\n# Ans.) \n'''\n    1.) apply() works on DataFrame rows or columns and can apply any function.\n    2.) map() is used on Series to map values according to a dictionary or function.\n'''\n# Example:\nimport pandas as pd\n\ndf = pd.DataFrame({'A': [1, 2, 3]})\n\n# apply on DataFrame column\ndf['B'] = df['A'].apply(lambda x: x * 2)\n\n# map on Series\ndf['C'] = df['A'].map({1: 'one', 2: 'two', 3: 'three'})\n\nprint(df)",
      "metadata": {
        "trusted": true
      },
      "outputs": [
        {
          "name": "stdout",
          "output_type": "stream",
          "text": "   A  B      C\n0  1  2    one\n1  2  4    two\n2  3  6  three\n"
        }
      ],
      "execution_count": 44
    },
    {
      "id": "e0ea479f-fe1b-4bd0-b9c1-8c1482ca326b",
      "cell_type": "code",
      "source": "#",
      "metadata": {
        "trusted": true
      },
      "outputs": [],
      "execution_count": 45
    },
    {
      "id": "c04d26f1-a97a-45a0-b2fa-29b2186a4f63",
      "cell_type": "code",
      "source": "# Qus 18.) What are some advanced features of NumPy?\n# Ans.) Some advanced NumPy features include broadcasting, masked arrays, structured arrays, vectorized operations, and linear algebra functions.",
      "metadata": {
        "trusted": true
      },
      "outputs": [],
      "execution_count": 46
    },
    {
      "id": "2581790b-5301-4627-b866-3b65d4589369",
      "cell_type": "code",
      "source": "#",
      "metadata": {
        "trusted": true
      },
      "outputs": [],
      "execution_count": 47
    },
    {
      "id": "bf23daca-a530-4935-8d65-55a372ae0a7a",
      "cell_type": "code",
      "source": "# Qus 19.) How does Pandas simplify time series analysis?\n# Ans.) Pandas simplifies time series analysis by providing easy date/time indexing, resampling, rolling windows, and built-in functions for handling and manipulating time-based data.",
      "metadata": {
        "trusted": true
      },
      "outputs": [],
      "execution_count": 48
    },
    {
      "id": "e17eab9d-535c-406e-8944-d2c744ebc065",
      "cell_type": "code",
      "source": "#",
      "metadata": {
        "trusted": true
      },
      "outputs": [],
      "execution_count": 49
    },
    {
      "id": "1c60851e-13e3-44fb-8dff-b5e20190ac97",
      "cell_type": "code",
      "source": "# Qus 20.) What is the role of a pivot table in Pandas?\n# Ans.) A pivot table in Pandas summarizes and reorganizes data by aggregating values based on one or more keys, similar to Excel pivot tables.\n# Example:\nimport pandas as pd\n\ndata = {'Category': ['A', 'A', 'B'], 'Values': [10, 20, 30]}\ndf = pd.DataFrame(data)\n\npivot = df.pivot_table(values='Values', index='Category', aggfunc='sum')\nprint(pivot)",
      "metadata": {
        "trusted": true
      },
      "outputs": [
        {
          "name": "stdout",
          "output_type": "stream",
          "text": "          Values\nCategory        \nA             30\nB             30\n"
        }
      ],
      "execution_count": 50
    },
    {
      "id": "0ed8c5f4-9160-4c0d-893e-a7bb0c9798bd",
      "cell_type": "code",
      "source": "#",
      "metadata": {
        "trusted": true
      },
      "outputs": [],
      "execution_count": 51
    },
    {
      "id": "2e7aa3b4-ab9e-433e-9aac-2a57392eaeb7",
      "cell_type": "code",
      "source": "# Qus 21.) Why is NumPy’s array slicing faster than Python’s list slicing?\n# Ans.) NumPy’s array slicing is faster because it works on contiguous memory blocks using optimized C code, while Python list slicing involves copying and handling heterogeneous objects.",
      "metadata": {
        "trusted": true
      },
      "outputs": [],
      "execution_count": 52
    },
    {
      "id": "2916e711-c465-4608-ac4d-51a4ff5cd81f",
      "cell_type": "code",
      "source": "#",
      "metadata": {
        "trusted": true
      },
      "outputs": [],
      "execution_count": 53
    },
    {
      "id": "8f39e969-f2d9-4134-abcb-9d17596af4a4",
      "cell_type": "code",
      "source": "# Qus 22.) What are some common use cases for Seaborn?\n# Ans.) Common use cases for Seaborn include visualizing distributions, relationships, categorical data, and statistical summaries using plots like histograms, boxplots, scatterplots, and heatmaps.",
      "metadata": {
        "trusted": true
      },
      "outputs": [],
      "execution_count": 54
    },
    {
      "id": "5a2c17c9-84d8-4dd6-a68a-a220b525658c",
      "cell_type": "code",
      "source": "#",
      "metadata": {
        "trusted": true
      },
      "outputs": [],
      "execution_count": 55
    },
    {
      "id": "9f4f19f2-b5fc-4f7f-b256-77f4ada3e1d8",
      "cell_type": "code",
      "source": "# PRACTICAL QUESTIONS",
      "metadata": {
        "trusted": true
      },
      "outputs": [],
      "execution_count": 56
    },
    {
      "id": "8a138d7b-8046-476b-a154-916dbd6e55ab",
      "cell_type": "code",
      "source": "#",
      "metadata": {
        "trusted": true
      },
      "outputs": [],
      "execution_count": 57
    },
    {
      "id": "34dbf56a-b505-4587-bbeb-b214027df1bc",
      "cell_type": "code",
      "source": "# Q 1.) How do you create a 2D NumPy array and calculate the sum of each row?\n# Ans.)\nimport numpy as np\n\n# Create 2D NumPy array\narr = np.array([[1, 2, 3],\n                [4, 5, 6],\n                [7, 8, 9]])\n\n# Calculate sum of each row\nrow_sums = arr.sum(axis=1)\n\nprint(row_sums)  # Output: [ 6 15 24]\n",
      "metadata": {
        "trusted": true
      },
      "outputs": [
        {
          "name": "stdout",
          "output_type": "stream",
          "text": "[ 6 15 24]\n"
        }
      ],
      "execution_count": 58
    },
    {
      "id": "ec7f1650-ce8a-46c3-9a49-90e01d0d4458",
      "cell_type": "code",
      "source": "#",
      "metadata": {
        "trusted": true
      },
      "outputs": [],
      "execution_count": 59
    },
    {
      "id": "d821a8e7-3463-4717-a4b4-fa7e2f638b14",
      "cell_type": "code",
      "source": "# Q 2.) Write a Pandas script to find the mean of a specific column in a DataFrame?\n# Ans.) \nimport pandas as pd\n\n# Sample DataFrame\ndata = {'Name': ['Alice', 'Bob', 'Charlie'],\n        'Age': [25, 30, 35]}\ndf = pd.DataFrame(data)\n\n# Find mean of 'Age' column\nmean_age = df['Age'].mean()\n\nprint(mean_age)  # Output: 30.0\n",
      "metadata": {
        "trusted": true
      },
      "outputs": [
        {
          "name": "stdout",
          "output_type": "stream",
          "text": "30.0\n"
        }
      ],
      "execution_count": 60
    },
    {
      "id": "4990fb27-e374-4ed3-93c9-e89576aacc79",
      "cell_type": "code",
      "source": "#",
      "metadata": {
        "trusted": true
      },
      "outputs": [],
      "execution_count": 61
    },
    {
      "id": "13803068-da0c-4955-b321-70cab2e4a2d9",
      "cell_type": "code",
      "source": "# Q 3.) Create a scatter plot using Matplotlib?\n# Ans.) \nimport matplotlib.pyplot as plt\n\n# Sample data\nx = [1, 2, 3, 4, 5]\ny = [5, 7, 4, 6, 8]\n\n# Create scatter plot\nplt.scatter(x, y)\nplt.xlabel('X-axis')\nplt.ylabel('Y-axis')\nplt.title('Sample Scatter Plot')\nplt.show()\n",
      "metadata": {
        "trusted": true
      },
      "outputs": [
        {
          "output_type": "display_data",
          "data": {
            "text/plain": "<Figure size 640x480 with 1 Axes>",
            "image/png": "[encoded data removed]"
          },
          "metadata": {}
        }
      ],
      "execution_count": 62
    },
    {
      "id": "7c3e625d-bcf5-4874-908d-71d32e364e7f",
      "cell_type": "code",
      "source": "#",
      "metadata": {
        "trusted": true
      },
      "outputs": [],
      "execution_count": 63
    },
    {
      "id": "200ef172-cd31-4527-87c8-268388efbe1e",
      "cell_type": "code",
      "source": "# Q 4.) How do you calculate the correlation matrix using Seaborn and visualize it with a heatmap?\n# Ans.)\n'''\nimport seaborn as sns\nimport pandas as pd\nimport matplotlib.pyplot as plt\n\n# Sample DataFrame\ndata = {'A': [1, 2, 3, 4, 5],\n        'B': [5, 4, 3, 2, 1],\n        'C': [2, 3, 4, 5, 6]}\ndf = pd.DataFrame(data)\n\n# Calculate correlation matrix\ncorr = df.corr()\n\n# Visualize with heatmap\nsns.heatmap(corr, annot=True, cmap='coolwarm')\nplt.show()\n'''\n\n# Output:\n'''\n---------------------------------------------------------------------------\nModuleNotFoundError                       Traceback (most recent call last)\nCell In[64], line 3\n      1 # Q 4.) How do you calculate the correlation matrix using Seaborn and visualize it with a heatmap?\n      2 # Ans.)\n----> 3 import seaborn as sns\n      4 import pandas as pd\n      5 import matplotlib.pyplot as plt\n\nModuleNotFoundError: No module named 'seaborn'\n\n'''",
      "metadata": {
        "trusted": true
      },
      "outputs": [
        {
          "execution_count": 66,
          "output_type": "execute_result",
          "data": {
            "text/plain": "\"\\n---------------------------------------------------------------------------\\nModuleNotFoundError                       Traceback (most recent call last)\\nCell In[64], line 3\\n      1 # Q 4.) How do you calculate the correlation matrix using Seaborn and visualize it with a heatmap?\\n      2 # Ans.)\\n----> 3 import seaborn as sns\\n      4 import pandas as pd\\n      5 import matplotlib.pyplot as plt\\n\\nModuleNotFoundError: No module named 'seaborn'\\n\\n\""
          },
          "metadata": {}
        }
      ],
      "execution_count": 66
    },
    {
      "id": "a7637c80-e9d3-4cec-b154-e0ecb9afd0e7",
      "cell_type": "code",
      "source": "#",
      "metadata": {
        "trusted": true
      },
      "outputs": [],
      "execution_count": 67
    },
    {
      "id": "07557dd6-0f1f-4938-b4f0-96193920f56d",
      "cell_type": "code",
      "source": "# Q.5) Generate a bar plot using Plotly?\n# Ans.) \n\n'''\nimport plotly.express as px\nimport pandas as pd\n\n# Sample data\ndata = {'Fruits': ['Apple', 'Banana', 'Orange'],\n        'Quantity': [10, 15, 7]}\ndf = pd.DataFrame(data)\n\n# Generate bar plot\nfig = px.bar(df, x='Fruits', y='Quantity', title='Fruit Quantity')\nfig.show()\n'''\n\n\n# output:\n'''\n---------------------------------------------------------------------------\nModuleNotFoundError                       Traceback (most recent call last)\nCell In[68], line 3\n      1 # Q.5) Generate a bar plot using Plotly?\n      2 # Ans.) \n----> 3 import plotly.express as px\n      4 import pandas as pd\n      6 # Sample data\n\nModuleNotFoundError: No module named 'plotly'\n'''",
      "metadata": {
        "trusted": true
      },
      "outputs": [
        {
          "execution_count": 69,
          "output_type": "execute_result",
          "data": {
            "text/plain": "\"\\n---------------------------------------------------------------------------\\nModuleNotFoundError                       Traceback (most recent call last)\\nCell In[68], line 3\\n      1 # Q.5) Generate a bar plot using Plotly?\\n      2 # Ans.) \\n----> 3 import plotly.express as px\\n      4 import pandas as pd\\n      6 # Sample data\\n\\nModuleNotFoundError: No module named 'plotly'\\n\""
          },
          "metadata": {}
        }
      ],
      "execution_count": 69
    },
    {
      "id": "1c2460e4-7a48-4687-9172-488ec04d92fa",
      "cell_type": "code",
      "source": "#",
      "metadata": {
        "trusted": true
      },
      "outputs": [],
      "execution_count": 70
    },
    {
      "id": "d492a7e9-7b82-434c-b40e-6eddbaec599c",
      "cell_type": "code",
      "source": "# Q.6) Create a DataFrame and add a new column based on an existing column\n# Ans.) \nimport pandas as pd\n\n# Create DataFrame\ndata = {'Name': ['Alice', 'Bob', 'Charlie'],\n        'Age': [25, 30, 35]}\ndf = pd.DataFrame(data)\n\n# Add new column 'Age_in_5_years' based on 'Age'\ndf['Age_in_5_years'] = df['Age'] + 5\n\nprint(df)\n",
      "metadata": {
        "trusted": true
      },
      "outputs": [
        {
          "name": "stdout",
          "output_type": "stream",
          "text": "      Name  Age  Age_in_5_years\n0    Alice   25              30\n1      Bob   30              35\n2  Charlie   35              40\n"
        }
      ],
      "execution_count": 87
    },
    {
      "id": "a83ccb07-34bf-4707-8dd9-bf5a38a16622",
      "cell_type": "code",
      "source": "#",
      "metadata": {
        "trusted": true
      },
      "outputs": [],
      "execution_count": 72
    },
    {
      "id": "25d16003-4e0e-4173-bf18-b80df02b6ecf",
      "cell_type": "code",
      "source": "# Q.7) Write a program to perform element-wise multiplication of two NumPy arrays\n# Ans.) \nimport numpy as np\n\n# Define two arrays\narr1 = np.array([1, 2, 3])\narr2 = np.array([4, 5, 6])\n\n# Element-wise multiplication\nresult = arr1 * arr2\n\nprint(result)  # Output: [ 4 10 18]\n",
      "metadata": {
        "trusted": true
      },
      "outputs": [
        {
          "name": "stdout",
          "output_type": "stream",
          "text": "[ 4 10 18]\n"
        }
      ],
      "execution_count": 88
    },
    {
      "id": "ae8c1396-da9e-4335-ad56-aecf392249b9",
      "cell_type": "code",
      "source": "#",
      "metadata": {
        "trusted": true
      },
      "outputs": [],
      "execution_count": 74
    },
    {
      "id": "aafdb135-078c-419e-8b4a-a8b01c79497b",
      "cell_type": "code",
      "source": "# Q.8) Create a line plot with multiple lines using Matplotlib\n# Ans.) \nimport matplotlib.pyplot as plt\n\n# Sample data\nx = [1, 2, 3, 4, 5]\ny1 = [2, 3, 5, 7, 11]\ny2 = [1, 4, 6, 8, 10]\n\n# Create line plot with multiple lines\nplt.plot(x, y1, label='Line 1')\nplt.plot(x, y2, label='Line 2')\n\nplt.xlabel('X-axis')\nplt.ylabel('Y-axis')\nplt.title('Multiple Line Plot')\nplt.legend()\nplt.show()\n",
      "metadata": {
        "trusted": true
      },
      "outputs": [
        {
          "output_type": "display_data",
          "data": {
            "text/plain": "<Figure size 640x480 with 1 Axes>",
            "image/png": "[encoded data removed]"
          },
          "metadata": {}
        }
      ],
      "execution_count": 89
    },
    {
      "id": "87a96482-33cd-4ea7-86e5-cd3f832cb59a",
      "cell_type": "code",
      "source": "#",
      "metadata": {
        "trusted": true
      },
      "outputs": [],
      "execution_count": 76
    },
    {
      "id": "fa6af366-1f08-46cc-b2af-13a4ce54bd5d",
      "cell_type": "code",
      "source": "# Q.9) Generate a Pandas DataFrame and filter rows where a column value is greater than a threshold?\n# Ans.) \nimport pandas as pd\n\n# Create DataFrame\ndata = {'Name': ['Alice', 'Bob', 'Charlie', 'David'],\n        'Age': [25, 30, 22, 40]}\ndf = pd.DataFrame(data)\n\n# Filter rows where Age > 25\nfiltered_df = df[df['Age'] > 25]\n\nprint(filtered_df)\n",
      "metadata": {
        "trusted": true
      },
      "outputs": [
        {
          "name": "stdout",
          "output_type": "stream",
          "text": "    Name  Age\n1    Bob   30\n3  David   40\n"
        }
      ],
      "execution_count": 90
    },
    {
      "id": "0bb0d309-a49f-4094-83e1-454ddd547d8f",
      "cell_type": "code",
      "source": "#",
      "metadata": {
        "trusted": true
      },
      "outputs": [],
      "execution_count": 78
    },
    {
      "id": "4e50d48c-6f16-470d-b060-7451fd6eb38c",
      "cell_type": "code",
      "source": "# Q.10) Create a histogram using Seaborn to visualize a distribution\n# Ans.) \n'''\nimport seaborn as sns\nimport matplotlib.pyplot as plt\n\n# Sample data\ndata = [12, 15, 14, 10, 13, 15, 16, 14, 13, 12, 10, 11]\n\n# Create histogram\nsns.histplot(data, bins=5, kde=False)\n\nplt.xlabel('Value')\nplt.ylabel('Frequency')\nplt.title('Histogram')\nplt.show()\n'''\n\n# Output:\n\n'''\n---------------------------------------------------------------------------\nModuleNotFoundError                       Traceback (most recent call last)\nCell In[91], line 3\n      1 # Q.10) Create a histogram using Seaborn to visualize a distribution\n      2 # Ans.) \n----> 3 import seaborn as sns\n      4 import matplotlib.pyplot as plt\n      6 # Sample data\n\nModuleNotFoundError: No module named 'seaborn'\n\n'''",
      "metadata": {
        "trusted": true
      },
      "outputs": [
        {
          "execution_count": 92,
          "output_type": "execute_result",
          "data": {
            "text/plain": "\"\\n---------------------------------------------------------------------------\\nModuleNotFoundError                       Traceback (most recent call last)\\nCell In[91], line 3\\n      1 # Q.10) Create a histogram using Seaborn to visualize a distribution\\n      2 # Ans.) \\n----> 3 import seaborn as sns\\n      4 import matplotlib.pyplot as plt\\n      6 # Sample data\\n\\nModuleNotFoundError: No module named 'seaborn'\\n\\n\""
          },
          "metadata": {}
        }
      ],
      "execution_count": 92
    },
    {
      "id": "c7030e89-252b-43c6-a30d-2987e19fbc48",
      "cell_type": "code",
      "source": "#",
      "metadata": {
        "trusted": true
      },
      "outputs": [],
      "execution_count": 80
    },
    {
      "id": "cc2a5af7-5de2-482c-93a0-89002715b92d",
      "cell_type": "code",
      "source": "# Q.11) Perform matrix multiplication using NumPy?\n# Ans.) \nimport numpy as np\n\n# Define two 2D arrays (matrices)\nA = np.array([[1, 2],\n              [3, 4]])\nB = np.array([[5, 6],\n              [7, 8]])\n\n# Perform matrix multiplication\nresult = np.dot(A, B)\n\nprint(result)\n",
      "metadata": {
        "trusted": true
      },
      "outputs": [
        {
          "name": "stdout",
          "output_type": "stream",
          "text": "[[19 22]\n [43 50]]\n"
        }
      ],
      "execution_count": 95
    },
    {
      "id": "03221603-905c-4127-bb7e-6940f0896194",
      "cell_type": "code",
      "source": "#",
      "metadata": {
        "trusted": true
      },
      "outputs": [],
      "execution_count": 82
    },
    {
      "id": "65af338b-3504-4bab-90b1-0f31d2e9c400",
      "cell_type": "code",
      "source": "# Q.12) Use Pandas to load a CSV file and display its first 5 rows?\n# Ans.) \nimport pandas as pd\n\n# Load CSV file\ndef loadCSV():\n    df = pd.read_csv('filename.csv')  # Replace 'filename.csv' with your file path\n    # Display first 5 rows\n    print(df.head())\n\n# run: loadCSV() - generates error",
      "metadata": {
        "trusted": true
      },
      "outputs": [],
      "execution_count": 97
    },
    {
      "id": "78dc3cb3-61b9-4904-bd14-7a971b243527",
      "cell_type": "code",
      "source": "#",
      "metadata": {
        "trusted": true
      },
      "outputs": [],
      "execution_count": 84
    },
    {
      "id": "59426383-abe1-4d9a-9cd1-143d5930b0e0",
      "cell_type": "code",
      "source": "# Q.13) Create a 3D scatter plot using Plotly?\n# Ans.) \n'''\nimport plotly.express as px\nimport pandas as pd\n\n# Sample data\ndata = {'x': [1, 2, 3, 4, 5],\n        'y': [5, 6, 7, 8, 9],\n        'z': [9, 8, 7, 6, 5]}\ndf = pd.DataFrame(data)\n\n# Create 3D scatter plot\nfig = px.scatter_3d(df, x='x', y='y', z='z', title='3D Scatter Plot')\nfig.show()\n'''\n\n# output\n\n'''\n---------------------------------------------------------------------------\nModuleNotFoundError                       Traceback (most recent call last)\nCell In[99], line 3\n      1 # Q.13) Create a 3D scatter plot using Plotly?\n      2 # Ans.) \n----> 3 import plotly.express as px\n      4 import pandas as pd\n      6 # Sample data\n\nModuleNotFoundError: No module named 'plotly'\n'''",
      "metadata": {
        "trusted": true
      },
      "outputs": [
        {
          "execution_count": 100,
          "output_type": "execute_result",
          "data": {
            "text/plain": "\"\\n---------------------------------------------------------------------------\\nModuleNotFoundError                       Traceback (most recent call last)\\nCell In[99], line 3\\n      1 # Q.13) Create a 3D scatter plot using Plotly?\\n      2 # Ans.) \\n----> 3 import plotly.express as px\\n      4 import pandas as pd\\n      6 # Sample data\\n\\nModuleNotFoundError: No module named 'plotly'\\n\""
          },
          "metadata": {}
        }
      ],
      "execution_count": 100
    },
    {
      "id": "fb6920e1-7020-466e-a736-1b37c4f88170",
      "cell_type": "code",
      "source": "",
      "metadata": {
        "trusted": true
      },
      "outputs": [],
      "execution_count": null
    }
  ]
}