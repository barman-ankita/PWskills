{
  "metadata": {
    "kernelspec": {
      "name": "python",
      "display_name": "Python (Pyodide)",
      "language": "python"
    },
    "language_info": {
      "codemirror_mode": {
        "name": "python",
        "version": 3
      },
      "file_extension": ".py",
      "mimetype": "text/x-python",
      "name": "python",
      "nbconvert_exporter": "python",
      "pygments_lexer": "ipython3",
      "version": "3.8"
    }
  },
  "nbformat_minor": 5,
  "nbformat": 4,
  "cells": [
    {
      "id": "0fd26076-da31-4d40-9168-427f25a8db6f",
      "cell_type": "code",
      "source": "# Q.1) What is a RESTful API?\n# Ans.) A RESTful API is an application interface that follows REST (Representational State Transfer) principles, using HTTP methods to access and manipulate data.",
      "metadata": {
        "trusted": true
      },
      "outputs": [],
      "execution_count": 1
    },
    {
      "id": "305cf7f8-3ef7-4d6a-b919-efa7817941c0",
      "cell_type": "code",
      "source": "#",
      "metadata": {
        "trusted": true
      },
      "outputs": [],
      "execution_count": 2
    },
    {
      "id": "722cb38e-403d-401c-9b86-d328fa037b15",
      "cell_type": "code",
      "source": "# Q.2) Explain the concept of API specification\n# Ans.) An API specification defines how APIs should behave, including endpoints, request/response formats, authentication, and error codes. Example: OpenAPI/Swagger.",
      "metadata": {
        "trusted": true
      },
      "outputs": [],
      "execution_count": 3
    },
    {
      "id": "263fe69b-0973-41ea-8643-6f5b0525c388",
      "cell_type": "code",
      "source": "#",
      "metadata": {
        "trusted": true
      },
      "outputs": [],
      "execution_count": 4
    },
    {
      "id": "7582a074-492e-42a0-bf4c-d4b1a2faa269",
      "cell_type": "code",
      "source": "# Q.3) What is Flask, and why is it popular for building APIs?\n# Ans.) Flask is a lightweight Python web framework. It’s popular for APIs due to its simplicity, flexibility, built-in routing, and minimal setup.",
      "metadata": {
        "trusted": true
      },
      "outputs": [],
      "execution_count": 5
    },
    {
      "id": "6b8073ba-3419-487f-b176-38a15830e4bf",
      "cell_type": "code",
      "source": "#",
      "metadata": {
        "trusted": true
      },
      "outputs": [],
      "execution_count": 6
    },
    {
      "id": "d90b734f-7d23-4fff-b472-016adeb1a0a9",
      "cell_type": "code",
      "source": "# Q.4) What is routing in Flask?\n# Ans.) Routing maps URLs to Python functions. It defines how the app responds to different HTTP requests.\n# example:\n@app.route('/hello')\ndef hello():\n    return \"Hello World\"",
      "metadata": {
        "trusted": true
      },
      "outputs": [
        {
          "execution_count": 50,
          "output_type": "execute_result",
          "data": {
            "text/plain": "'\\n@app.route(\\'/hello\\')\\ndef hello():\\n    return \"Hello World\"\\n'"
          },
          "metadata": {}
        }
      ],
      "execution_count": 50
    },
    {
      "id": "b3522bf7-789a-4394-a146-f6995f4d9b7e",
      "cell_type": "code",
      "source": "#",
      "metadata": {
        "trusted": true
      },
      "outputs": [],
      "execution_count": 8
    },
    {
      "id": "bb519bd5-6284-4880-93aa-ca3800a31ffd",
      "cell_type": "code",
      "source": "# Q.5) How do you create a simple Flask application?\n# Ans.) example:\nfrom flask import Flask  \napp = Flask(__name__)\n\n@app.route('/')\ndef home():\n    return \"Welcome\"\n\nif __name__ == '__main__':\n    app.run()\n",
      "metadata": {
        "trusted": true
      },
      "outputs": [
        {
          "execution_count": 51,
          "output_type": "execute_result",
          "data": {
            "text/plain": "'\\nfrom flask import Flask  \\napp = Flask(__name__)\\n\\n@app.route(\\'/\\')\\ndef home():\\n    return \"Welcome\"\\n\\nif __name__ == \\'__main__\\':\\n    app.run()\\n\\n'"
          },
          "metadata": {}
        }
      ],
      "execution_count": 51
    },
    {
      "id": "fcc6039d-e9da-4aac-80d2-2807d1329794",
      "cell_type": "code",
      "source": "#",
      "metadata": {
        "trusted": true
      },
      "outputs": [],
      "execution_count": 10
    },
    {
      "id": "04a6f8de-af88-4d28-801e-c2d409663c24",
      "cell_type": "code",
      "source": "# Q.6) What are HTTP methods used in RESTful APIs?\n# Ans.) \n'''\n    1.) GET – Retrieve data\n    2.) POST – Create data\n    3.) PUT – Update data\n    4.) DELETE – Delete data\n    5.) PATCH – Partial update\n'''",
      "metadata": {
        "trusted": true
      },
      "outputs": [
        {
          "execution_count": 52,
          "output_type": "execute_result",
          "data": {
            "text/plain": "'\\n    1.) GET – Retrieve data\\n    2.) POST – Create data\\n    3.) PUT – Update data\\n    4.) DELETE – Delete data\\n    5.) PATCH – Partial update\\n'"
          },
          "metadata": {}
        }
      ],
      "execution_count": 52
    },
    {
      "id": "371d6792-7944-4a63-b862-6d690a3b14fc",
      "cell_type": "code",
      "source": "#",
      "metadata": {
        "trusted": true
      },
      "outputs": [],
      "execution_count": 12
    },
    {
      "id": "ae3e9028-21da-40a0-84c0-9741fba5b1df",
      "cell_type": "code",
      "source": "# Q.7) What is the purpose of the @app.route() decorator in Flask?\n# Ans.) It binds a URL pattern to a function, telling Flask what to do when that URL is accessed.",
      "metadata": {
        "trusted": true
      },
      "outputs": [],
      "execution_count": 13
    },
    {
      "id": "844ade33-4ea4-4950-8bc3-d0411ead3994",
      "cell_type": "code",
      "source": "#",
      "metadata": {
        "trusted": true
      },
      "outputs": [],
      "execution_count": 14
    },
    {
      "id": "aae6b8e8-80d8-467a-846c-2cbda62b098b",
      "cell_type": "code",
      "source": "# Q.8) What is the difference between GET and POST HTTP methods?\n# Ans.) \n'''\n    GET: Requests data, parameters in URL, safe & idempotent\n    POST: Sends data, parameters in body, used for creation\n'''",
      "metadata": {
        "trusted": true
      },
      "outputs": [],
      "execution_count": 15
    },
    {
      "id": "1f4274be-4d51-46d4-9f27-d61c100751d4",
      "cell_type": "code",
      "source": "#",
      "metadata": {
        "trusted": true
      },
      "outputs": [],
      "execution_count": 16
    },
    {
      "id": "b547c2d8-83d4-46e1-b78a-e57db80fdc2a",
      "cell_type": "code",
      "source": "# Q.9) How do you handle errors in Flask APIs?\n# Ans.) Using @app.errorhandler or try-except with abort():\n# example:\nfrom flask import abort\n\n@app.route('/item/<int:id>')\ndef get_item(id):\n    if id < 0:\n        abort(404)\n    return f\"Item {id}\"",
      "metadata": {
        "trusted": true
      },
      "outputs": [],
      "execution_count": 17
    },
    {
      "id": "29903244-6063-4131-9d83-d794f7870586",
      "cell_type": "code",
      "source": "#",
      "metadata": {
        "trusted": true
      },
      "outputs": [],
      "execution_count": 18
    },
    {
      "id": "8ddb0b30-6f0b-432f-b8cd-a9eebfbec164",
      "cell_type": "code",
      "source": "# Q.10)  How do you connect Flask to a SQL database?\n# Ans.) Use Flask-SQLAlchemy:\n# example:\nfrom flask_sqlalchemy import SQLAlchemy\n\napp.config['SQLALCHEMY_DATABASE_URI'] = 'sqlite:///data.db'\ndb = SQLAlchemy(app)",
      "metadata": {
        "trusted": true
      },
      "outputs": [],
      "execution_count": 19
    },
    {
      "id": "6787c140-33ec-45c3-9e49-b78e1022ab78",
      "cell_type": "code",
      "source": "#",
      "metadata": {
        "trusted": true
      },
      "outputs": [],
      "execution_count": 20
    },
    {
      "id": "c7f992b4-7962-42d4-933e-fba04aed2a63",
      "cell_type": "code",
      "source": "# Q.11) What is the role of Flask-SQLAlchemy?\n# Ans.) Flask-SQLAlchemy is an ORM (Object Relational Mapper) extension that simplifies database operations using Python classes to represent database tables.",
      "metadata": {
        "trusted": true
      },
      "outputs": [],
      "execution_count": 21
    },
    {
      "id": "4eb044a7-8d50-4c1b-847f-6636891daa7b",
      "cell_type": "code",
      "source": "#",
      "metadata": {
        "trusted": true
      },
      "outputs": [],
      "execution_count": 22
    },
    {
      "id": "dd0010d1-4711-42ec-838d-9f1d42f8b4c6",
      "cell_type": "code",
      "source": "# Q.12) What are Flask blueprints, and how are they useful?\n# Ans.) Blueprints help organize large Flask applications by grouping routes and logic into modular components, making the codebase cleaner and reusable.",
      "metadata": {
        "trusted": true
      },
      "outputs": [],
      "execution_count": 23
    },
    {
      "id": "62b78d11-531d-4d74-b6b5-3badf7a4177e",
      "cell_type": "code",
      "source": "#",
      "metadata": {
        "trusted": true
      },
      "outputs": [],
      "execution_count": 24
    },
    {
      "id": "5cd1dff4-42fc-4904-87f9-7e5050555fa5",
      "cell_type": "code",
      "source": "# Q.13) What is the purpose of Flask's request object?\n# Ans.) request provides access to incoming request data such as form fields, JSON payload, headers, and query parameters.\n# example:\nfrom flask import request\ndata = request.json",
      "metadata": {
        "trusted": true
      },
      "outputs": [],
      "execution_count": 25
    },
    {
      "id": "29d4af1e-81c2-4b8a-a328-4938b5d847c4",
      "cell_type": "code",
      "source": "#",
      "metadata": {
        "trusted": true
      },
      "outputs": [],
      "execution_count": 26
    },
    {
      "id": "4c217be0-1b8b-4a6b-b0aa-6b569af3685e",
      "cell_type": "code",
      "source": "# Q.14) How do you create a RESTful API endpoint using Flask?\n# Ans.) \n# example:\nfrom flask import Flask, jsonify\n\n@app.route('/api/data', methods=['GET'])\ndef get_data():\n    return jsonify({\"message\": \"Success\"})",
      "metadata": {
        "trusted": true
      },
      "outputs": [],
      "execution_count": 27
    },
    {
      "id": "2776a250-03d1-4f0c-8681-95f001ac5fc2",
      "cell_type": "code",
      "source": "#",
      "metadata": {
        "trusted": true
      },
      "outputs": [],
      "execution_count": 28
    },
    {
      "id": "deae4def-6fbc-4216-b385-1297535ba58a",
      "cell_type": "code",
      "source": "# Q.15) What is the purpose of Flask's jsonify() function?\n# Ans.) It converts Python dictionaries to JSON responses and sets the correct Content-Type header (application/json).",
      "metadata": {
        "trusted": true
      },
      "outputs": [],
      "execution_count": 29
    },
    {
      "id": "fc79544f-22e6-40a7-80f4-5a0cfb9b6cd0",
      "cell_type": "code",
      "source": "#",
      "metadata": {
        "trusted": true
      },
      "outputs": [],
      "execution_count": 30
    },
    {
      "id": "2f6cfa5c-6bdf-412c-9877-b8188a4ae093",
      "cell_type": "code",
      "source": "# Q.16) Explain Flask’s url_for() function.\n# Ans.) Generates a URL for a view function by name, helpful for dynamic routing and avoiding hard-coded URLs.\n# example:\nurl_for('home')  # returns '/'",
      "metadata": {
        "trusted": true
      },
      "outputs": [],
      "execution_count": 31
    },
    {
      "id": "01545f5a-d326-4ea4-b0d6-f5b3dcb53893",
      "cell_type": "code",
      "source": "#",
      "metadata": {
        "trusted": true
      },
      "outputs": [],
      "execution_count": 32
    },
    {
      "id": "2da7502d-0c21-4da6-a61f-4ad0cfca0c2f",
      "cell_type": "code",
      "source": "# Q.17) How does Flask handle static files (CSS, JavaScript, etc.)\n# Ans.) Flask serves static files from the static/ directory by default.\n# example:\n<link rel=\"stylesheet\" href=\"{{ url_for('static', filename='style.css') }}\">",
      "metadata": {
        "trusted": true
      },
      "outputs": [],
      "execution_count": 33
    },
    {
      "id": "38b20aaf-1dcd-43ff-b561-afefbed5e236",
      "cell_type": "code",
      "source": "#",
      "metadata": {
        "trusted": true
      },
      "outputs": [],
      "execution_count": 34
    },
    {
      "id": "e7ad544c-2439-4ab9-a8ec-9195df21b91f",
      "cell_type": "code",
      "source": "# Q.18) What is an API specification, and how does it help in building a Flask API?\n# Ans.) An API specification defines how the API works (endpoints, methods, responses). It improves documentation, collaboration, and consistency. Example: Swagger.",
      "metadata": {
        "trusted": true
      },
      "outputs": [],
      "execution_count": 35
    },
    {
      "id": "4c12ee50-c37a-4b2b-b419-f51fff230e8d",
      "cell_type": "code",
      "source": "#",
      "metadata": {
        "trusted": true
      },
      "outputs": [],
      "execution_count": 36
    },
    {
      "id": "ad276ead-4545-474a-8e5e-3eacf6f48ae1",
      "cell_type": "code",
      "source": "# Q.19) What are HTTP status codes, and why are they important in a Flask API?\n# Ans.) Status codes indicate the result of HTTP requests. Example: 200 (OK), 404 (Not Found), 500 (Server Error). They guide clients on request outcomes.",
      "metadata": {
        "trusted": true
      },
      "outputs": [],
      "execution_count": 37
    },
    {
      "id": "3d0dab50-a44f-4364-80d3-875193aab150",
      "cell_type": "code",
      "source": "#",
      "metadata": {
        "trusted": true
      },
      "outputs": [],
      "execution_count": 38
    },
    {
      "id": "f027dbde-a1f5-49bd-81b3-585524fb9e8c",
      "cell_type": "code",
      "source": "# Q.20) How do you handle POST requests in Flask?\n# Ans.) Use methods=['POST'] and access data via request.form or request.json.\n# example:\n@app.route('/submit', methods=['POST'])\ndef submit():\n    data = request.json\n    return jsonify(data)",
      "metadata": {
        "trusted": true
      },
      "outputs": [],
      "execution_count": 39
    },
    {
      "id": "bc491fb5-f3e6-42be-8370-70527b8d9ee8",
      "cell_type": "code",
      "source": "#",
      "metadata": {
        "trusted": true
      },
      "outputs": [],
      "execution_count": 40
    },
    {
      "id": "9ad2165d-88ca-4785-8c73-75265b68e292",
      "cell_type": "code",
      "source": "# Q.21) How would you secure a Flask API?\n# Ans.) \n'''\n    - Use HTTPS\n    - Validate inputs\n    - Add authentication (JWT, OAuth)\n    - Use rate limiting\n    - Handle errors safely\n'''",
      "metadata": {
        "trusted": true
      },
      "outputs": [],
      "execution_count": 41
    },
    {
      "id": "47d18d35-7b1a-4832-9f8e-b30615e49868",
      "cell_type": "code",
      "source": "#",
      "metadata": {
        "trusted": true
      },
      "outputs": [],
      "execution_count": 42
    },
    {
      "id": "ad9fbb8a-8431-48a0-8840-514ca17be5b5",
      "cell_type": "code",
      "source": "# Q.22) What is the significance of the Flask-RESTful extension?\n# Ans.) Flask-RESTful simplifies building REST APIs with Flask by providing tools like resource classes, request parsing, and automatic response formatting.",
      "metadata": {
        "trusted": true
      },
      "outputs": [],
      "execution_count": 43
    },
    {
      "id": "6b8e46ea-e2ab-4169-8d37-60d2e96afe58",
      "cell_type": "code",
      "source": "#",
      "metadata": {
        "trusted": true
      },
      "outputs": [],
      "execution_count": 44
    },
    {
      "id": "15cb4eb3-10a3-4a00-92a1-521c5bc16c36",
      "cell_type": "code",
      "source": "# Q.23) What is the role of Flask’s session object?\n# Ans.) session stores user-specific data between requests using secure cookies.\n# example:\nfrom flask import session\nsession['user'] = 'Alice'",
      "metadata": {
        "trusted": true
      },
      "outputs": [],
      "execution_count": 45
    },
    {
      "id": "91386f43-2a27-4fc6-b904-62b885ef0f91",
      "cell_type": "code",
      "source": "#",
      "metadata": {
        "trusted": true
      },
      "outputs": [],
      "execution_count": 46
    },
    {
      "id": "ac1a5324-fab3-47ce-8e7c-7db3ff442703",
      "cell_type": "code",
      "source": "# PRACTICAL QUESTIONS",
      "metadata": {
        "trusted": true
      },
      "outputs": [],
      "execution_count": 47
    },
    {
      "id": "e8744c35-c83d-4545-970b-b06b4f965c44",
      "cell_type": "code",
      "source": "#",
      "metadata": {
        "trusted": true
      },
      "outputs": [],
      "execution_count": 48
    },
    {
      "id": "740bf272-3915-44ba-afa9-d82f5bac538a",
      "cell_type": "code",
      "source": "# Q1. How do you create a basic Flask application?\n# Ans.)\nfrom flask import Flask\n\napp = Flask(__name__)\n\n@app.route('/')\ndef home():\n    return \"Hello, Flask!\"\n\nif __name__ == '__main__':\n    app.run(debug=True)\n",
      "metadata": {
        "trusted": true,
        "scrolled": true
      },
      "outputs": [],
      "execution_count": null
    },
    {
      "id": "8439aabf-7031-4b5f-9831-6ff52b212287",
      "cell_type": "code",
      "source": "#",
      "metadata": {
        "trusted": true
      },
      "outputs": [],
      "execution_count": null
    },
    {
      "id": "800de552-f8c2-4f5e-b302-2100718c2cab",
      "cell_type": "code",
      "source": "# Q.2 How do you serve static files like images or CSS in Flask?\n# Ans.) \n'''\n    - Place files in static/ folder\n    - Access using url_for:\n'''\n<link rel=\"stylesheet\" href=\"{{ url_for('static', filename='style.css') }}\">\n<img src=\"{{ url_for('static', filename='image.jpg') }}\">",
      "metadata": {
        "trusted": true
      },
      "outputs": [],
      "execution_count": null
    },
    {
      "id": "38ca4a4c-554e-4b93-a816-39208a2ff9be",
      "cell_type": "code",
      "source": "#",
      "metadata": {
        "trusted": true
      },
      "outputs": [],
      "execution_count": null
    },
    {
      "id": "e25d2896-3d8f-4edb-ac0d-620a873c37d7",
      "cell_type": "code",
      "source": "# Q.3 How do you define different routes with different HTTP methods in Flask?\n# Ans.)\n@app.route('/submit', methods=['GET', 'POST'])\ndef submit():\n    if request.method == 'POST':\n        return \"Posted!\"\n    return \"Form\"",
      "metadata": {
        "trusted": true
      },
      "outputs": [],
      "execution_count": null
    },
    {
      "id": "7f7086cb-c08f-4f63-9d47-5581d969ac34",
      "cell_type": "code",
      "source": "#",
      "metadata": {
        "trusted": true
      },
      "outputs": [],
      "execution_count": null
    },
    {
      "id": "30385a82-8b9f-42ab-9c45-c2bef0b8b7cb",
      "cell_type": "code",
      "source": "# Q.4 How do you render HTML templates in Flask?\n# Ans.)\nfrom flask import render_template\n\n@app.route('/welcome')\ndef welcome():\n    return render_template('welcome.html')",
      "metadata": {
        "trusted": true
      },
      "outputs": [],
      "execution_count": null
    },
    {
      "id": "56b945f2-fa0c-4b4b-bd13-f2b35cca095f",
      "cell_type": "code",
      "source": "#",
      "metadata": {
        "trusted": true
      },
      "outputs": [],
      "execution_count": null
    },
    {
      "id": "16c59bb0-b89d-45db-b81b-fd87c5b29d8a",
      "cell_type": "code",
      "source": "# Q.5 How can you generate URLs for routes in Flask using url_for?\n# Ans.)\n@app.route('/dashboard')\ndef dashboard():\n    return \"Dashboard\"\n\n# Usage:\nurl_for('dashboard')  # returns '/dashboard'",
      "metadata": {
        "trusted": true
      },
      "outputs": [],
      "execution_count": null
    },
    {
      "id": "1912cb25-ba24-4a0f-8fd2-280046c254ff",
      "cell_type": "code",
      "source": "#",
      "metadata": {
        "trusted": true
      },
      "outputs": [],
      "execution_count": null
    },
    {
      "id": "e7fc8a6d-cc73-44b7-b614-f49d8f32a859",
      "cell_type": "code",
      "source": "# Q.6 How do you handle forms in Flask?\n# Ans.)\n@app.route('/form', methods=['GET', 'POST'])\ndef form():\n    if request.method == 'POST':\n        name = request.form['name']\n        return f\"Hello {name}\"\n    return render_template('form.html')",
      "metadata": {
        "trusted": true
      },
      "outputs": [],
      "execution_count": null
    },
    {
      "id": "982b0d08-649f-4d8a-bcbd-0a8597045cc6",
      "cell_type": "code",
      "source": "#",
      "metadata": {
        "trusted": true
      },
      "outputs": [],
      "execution_count": null
    },
    {
      "id": "8c617a6c-a688-4d47-9260-38dea959aab8",
      "cell_type": "code",
      "source": "# Q.7 How can you validate form data in Flask?\n# Ans.) Use Flask-WTF or manual checks:\nif not request.form['email']:\n    return \"Email is required\"\n",
      "metadata": {
        "trusted": true
      },
      "outputs": [],
      "execution_count": null
    },
    {
      "id": "9491648c-2b3c-4163-bf31-182a2ad7d28c",
      "cell_type": "code",
      "source": "#",
      "metadata": {
        "trusted": true
      },
      "outputs": [],
      "execution_count": null
    },
    {
      "id": "dd214eaa-097e-4505-817e-2eb596cf760f",
      "cell_type": "code",
      "source": "# Q.8 How do you manage sessions in Flask?\n# Ans.)\nfrom flask import session\n\napp.secret_key = 'your_secret_key'\nsession['username'] = 'admin'\nname = session.get('username')\n",
      "metadata": {
        "trusted": true
      },
      "outputs": [],
      "execution_count": null
    },
    {
      "id": "cb622ad4-236e-4053-8506-8f9fcb823976",
      "cell_type": "code",
      "source": "#",
      "metadata": {
        "trusted": true
      },
      "outputs": [],
      "execution_count": null
    },
    {
      "id": "b248b9fe-0bd3-4ab3-a89f-65b952f0e883",
      "cell_type": "code",
      "source": "# Q.9 How do you redirect to a different route in Flask?\n# Ans.)\nfrom flask import redirect, url_for\n\nreturn redirect(url_for('home'))\n",
      "metadata": {
        "trusted": true
      },
      "outputs": [],
      "execution_count": null
    },
    {
      "id": "891fc143-cb4a-4e22-bdf5-707c13e625e5",
      "cell_type": "code",
      "source": "#",
      "metadata": {
        "trusted": true
      },
      "outputs": [],
      "execution_count": null
    },
    {
      "id": "39e9b259-5050-427e-a4dd-47c632718cb9",
      "cell_type": "code",
      "source": "# Q.10 How do you handle errors in Flask (e.g., 404)?\n# Ans.)\n@app.errorhandler(404)\ndef not_found(e):\n    return render_template('404.html'), 404\n",
      "metadata": {
        "trusted": true
      },
      "outputs": [],
      "execution_count": 2
    },
    {
      "id": "a4a02389-4ed8-4bed-b66f-2771711703df",
      "cell_type": "code",
      "source": "#",
      "metadata": {
        "trusted": true
      },
      "outputs": [],
      "execution_count": null
    },
    {
      "id": "ed3a4065-5ca4-4a13-af5c-a584e1a4dbb5",
      "cell_type": "code",
      "source": "# Q.11 How do you structure a Flask app using Blueprints?\n# Ans.) In user/routes.py:\nfrom flask import Blueprint\n\nuser_bp = Blueprint('user', __name__)\n\n@user_bp.route('/profile')\ndef profile():\n    return \"User Profile\"\n\n# In app.py:\nfrom user.routes import user_bp\napp.register_blueprint(user_bp, url_prefix='/user')\n",
      "metadata": {
        "trusted": true
      },
      "outputs": [],
      "execution_count": null
    },
    {
      "id": "5421af3e-7e9d-41dd-9b66-6f2640cc79b7",
      "cell_type": "code",
      "source": "#",
      "metadata": {
        "trusted": true
      },
      "outputs": [],
      "execution_count": null
    },
    {
      "id": "9eb441ba-e116-426d-b609-147838a0c0c2",
      "cell_type": "code",
      "source": "# Q.12 How do you define a custom Jinja filter in Flask?\n# Ans.)\n@app.template_filter('reverse')\ndef reverse_filter(s):\n    return s[::-1]\n\n# In template: {{ \"hello\"|reverse }}\n",
      "metadata": {
        "trusted": true
      },
      "outputs": [],
      "execution_count": null
    },
    {
      "id": "ec1f8a60-efe1-4bd1-94b6-eaaca5080cf6",
      "cell_type": "code",
      "source": "#",
      "metadata": {
        "trusted": true
      },
      "outputs": [],
      "execution_count": null
    },
    {
      "id": "50b1521c-3501-4a72-b748-9e264e458307",
      "cell_type": "code",
      "source": "# Q.13 How can you redirect with query parameters in Flask?\n# Ans.)\nreturn redirect(url_for('search', q='flask'))",
      "metadata": {
        "trusted": true
      },
      "outputs": [],
      "execution_count": null
    },
    {
      "id": "dfd69edc-cea7-453a-98b9-efa902773080",
      "cell_type": "code",
      "source": "#",
      "metadata": {
        "trusted": true
      },
      "outputs": [],
      "execution_count": null
    },
    {
      "id": "9832ce12-061d-4e6d-a13c-64bb8cda3852",
      "cell_type": "code",
      "source": "# Q.14 How do you return JSON responses in Flask?\n# Ans.)\nfrom flask import jsonify\n\n@app.route('/api/data')\ndef data():\n    return jsonify({\"key\": \"value\"})\n",
      "metadata": {
        "trusted": true
      },
      "outputs": [],
      "execution_count": null
    },
    {
      "id": "a7dacd77-c9f4-4629-a4a4-537f98b24562",
      "cell_type": "code",
      "source": "#",
      "metadata": {
        "trusted": true
      },
      "outputs": [],
      "execution_count": 3
    },
    {
      "id": "269e7bb6-666e-4c24-bc26-de94a047bd92",
      "cell_type": "code",
      "source": "# Q.15 How do you capture URL parameters in Flask?\n# Ans.)\n@app.route('/user/<username>')\ndef show_user(username):\n    return f\"User: {username}\"\n",
      "metadata": {
        "trusted": true
      },
      "outputs": [],
      "execution_count": null
    }
  ]
}